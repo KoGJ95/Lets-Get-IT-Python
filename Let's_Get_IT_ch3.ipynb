{
 "cells": [
  {
   "cell_type": "code",
   "execution_count": 1,
   "metadata": {},
   "outputs": [
    {
     "name": "stdout",
     "output_type": "stream",
     "text": [
      "10\n"
     ]
    }
   ],
   "source": [
    "a = 10\n",
    "print(a)"
   ]
  },
  {
   "cell_type": "code",
   "execution_count": 2,
   "metadata": {},
   "outputs": [
    {
     "name": "stdout",
     "output_type": "stream",
     "text": [
      "10\n",
      "a\n"
     ]
    }
   ],
   "source": [
    "a = 10\n",
    "print(a)\n",
    "print('a')\n",
    "#따옴표가 붙은 문자는 변수로 인식 못함"
   ]
  },
  {
   "cell_type": "code",
   "execution_count": 3,
   "metadata": {},
   "outputs": [
    {
     "name": "stdout",
     "output_type": "stream",
     "text": [
      "Student\n"
     ]
    }
   ],
   "source": [
    "b = 'Student'\n",
    "print(b)"
   ]
  },
  {
   "cell_type": "code",
   "execution_count": 5,
   "metadata": {},
   "outputs": [
    {
     "name": "stdout",
     "output_type": "stream",
     "text": [
      "High SchoolStudent\n"
     ]
    }
   ],
   "source": [
    "b = 'Student'\n",
    "c = 'High School'\n",
    "print(c+b)"
   ]
  },
  {
   "cell_type": "code",
   "execution_count": 6,
   "metadata": {},
   "outputs": [
    {
     "name": "stdout",
     "output_type": "stream",
     "text": [
      "High SchoolStudent\n",
      "UniversityStudent\n"
     ]
    }
   ],
   "source": [
    "b = 'Student'\n",
    "c = 'High School'\n",
    "print(c+b)\n",
    "c= 'University'\n",
    "print(c+b)\n",
    "#변수는 하나만 기억"
   ]
  },
  {
   "cell_type": "code",
   "execution_count": 7,
   "metadata": {},
   "outputs": [
    {
     "name": "stdout",
     "output_type": "stream",
     "text": [
      "Yuri 175.5 21 programming\n"
     ]
    }
   ],
   "source": [
    "name = 'Yuri'\n",
    "height = 175.5\n",
    "age = 21\n",
    "hobby = 'programming'\n",
    "print(name, height, age, hobby)\n",
    "#콤마(,)는 여러 요소를 연결하는 역할"
   ]
  },
  {
   "cell_type": "code",
   "execution_count": 9,
   "metadata": {},
   "outputs": [
    {
     "name": "stdout",
     "output_type": "stream",
     "text": [
      "Yuri 키는 175.5 나이는 21 취미는 programming 입니다!\n"
     ]
    }
   ],
   "source": [
    "name = 'Yuri'\n",
    "height = 175.5\n",
    "age = 21\n",
    "hobby = 'programming'\n",
    "print(name, '키는', height, '나이는', age, '취미는', hobby, '입니다!')"
   ]
  },
  {
   "cell_type": "code",
   "execution_count": 10,
   "metadata": {},
   "outputs": [
    {
     "name": "stdout",
     "output_type": "stream",
     "text": [
      "Yuri 키는 175.5 나이는 21 취미는 programming 입니다!\n",
      "James 키는 186 나이는 24 취미는 cooking 입니다!\n"
     ]
    }
   ],
   "source": [
    "name = 'Yuri'\n",
    "height = 175.5\n",
    "age = 21\n",
    "hobby = 'programming'\n",
    "print(name, '키는', height, '나이는', age, '취미는', hobby, '입니다!')\n",
    "\n",
    "name = 'James'\n",
    "height = 186\n",
    "age = 24\n",
    "hobby = 'cooking'\n",
    "print(name, '키는', height, '나이는', age, '취미는', hobby, '입니다!')\n"
   ]
  },
  {
   "cell_type": "code",
   "execution_count": 11,
   "metadata": {},
   "outputs": [
    {
     "name": "stdout",
     "output_type": "stream",
     "text": [
      "James 키는 186 나이는 24 취미는 cooking 입니다!\n",
      "James 키는 186, 나이는 24, 취미는 cooking입니다!\n"
     ]
    }
   ],
   "source": [
    "name = 'James'\n",
    "height = 186\n",
    "age = 24\n",
    "hobby = 'cooking'\n",
    "print(name, '키는', height, '나이는', age, '취미는', hobby, '입니다!')\n",
    "print('{} 키는 {}, 나이는 {}, 취미는 {}입니다!' .format(name, height, age, hobby))"
   ]
  },
  {
   "cell_type": "code",
   "execution_count": 12,
   "metadata": {},
   "outputs": [
    {
     "name": "stdout",
     "output_type": "stream",
     "text": [
      "원의 넓이 = 78.5398\n"
     ]
    }
   ],
   "source": [
    "p = 3.141592\n",
    "r = 5\n",
    "print('원의 넓이 =', p * r ** 2)"
   ]
  },
  {
   "cell_type": "code",
   "execution_count": 13,
   "metadata": {},
   "outputs": [
    {
     "name": "stdout",
     "output_type": "stream",
     "text": [
      "78.5398\n"
     ]
    }
   ],
   "source": [
    "p = 3.141592\n",
    "r = 5\n",
    "result = p * r ** 2\n",
    "print(result)"
   ]
  },
  {
   "cell_type": "code",
   "execution_count": 14,
   "metadata": {},
   "outputs": [
    {
     "name": "stdout",
     "output_type": "stream",
     "text": [
      "78.5398\n",
      "반지름이 5 인 원의 넓이는 78.5398\n"
     ]
    }
   ],
   "source": [
    "p = 3.141592\n",
    "r = 5\n",
    "print(p * r **2)\n",
    "print('반지름이', r, '인 원의 넓이는', p * r **2)"
   ]
  },
  {
   "cell_type": "code",
   "execution_count": 15,
   "metadata": {},
   "outputs": [
    {
     "name": "stdout",
     "output_type": "stream",
     "text": [
      "78.5398\n",
      "반지름이 5 인 원의 넓이는 78.5398\n"
     ]
    }
   ],
   "source": [
    "p = 3.141592\n",
    "r = 5\n",
    "result = p * r ** 2\n",
    "print(result)\n",
    "print('반지름이', r, '인 원의 넓이는', result)"
   ]
  },
  {
   "cell_type": "code",
   "execution_count": 16,
   "metadata": {},
   "outputs": [],
   "source": [
    "#변수를 쓰면 오히려 줄이 늘어나는데 왜 굳이 쓸까....?"
   ]
  },
  {
   "cell_type": "code",
   "execution_count": 17,
   "metadata": {},
   "outputs": [
    {
     "name": "stdout",
     "output_type": "stream",
     "text": [
      "원의 넓이 = 78.5398\n",
      "원의 둘레 = 31.41592\n",
      "구의 겉넓이 = 314.1592\n"
     ]
    }
   ],
   "source": [
    "p = 3.141592\n",
    "r = 5\n",
    "\n",
    "#원의 넓이\n",
    "result1 = p * r ** 2\n",
    "print('원의 넓이 =', result1)\n",
    "\n",
    "#원의 둘레 \n",
    "result2 = 2 * p * r\n",
    "print('원의 둘레 =', result2)\n",
    "\n",
    "#구의 겉넓이\n",
    "result3 = 4 * p * r ** 2\n",
    "print('구의 겉넓이 =', result3)\n",
    "\n",
    "#변수를 사용하면 긴 데이터를 간단히 저장 가능"
   ]
  },
  {
   "cell_type": "code",
   "execution_count": 18,
   "metadata": {},
   "outputs": [
    {
     "data": {
      "text/plain": [
       "'\\n큰따옴표 3개로 \\n안에 있는 여러줄을\\n동시에 주석 처리 \\n가능\\n'"
      ]
     },
     "execution_count": 18,
     "metadata": {},
     "output_type": "execute_result"
    }
   ],
   "source": [
    "# 우물 정자로 한줄짜리 주석 처리 \n",
    "\"\"\"\n",
    "큰따옴표 3개로 \n",
    "안에 있는 여러줄을\n",
    "동시에 주석 처리 \n",
    "가능\n",
    "\"\"\""
   ]
  },
  {
   "cell_type": "code",
   "execution_count": 21,
   "metadata": {},
   "outputs": [
    {
     "name": "stdout",
     "output_type": "stream",
     "text": [
      "원의 넓이 = 907.9200880000001\n",
      "원의 둘레 = 106.81412800000001\n",
      "구의 겉넓이 = 3631.6803520000003\n"
     ]
    }
   ],
   "source": [
    "#반지름 변수를 사용하지 않을 떄\n",
    "p = 3.141592\n",
    "\n",
    "result1 = p * 17 ** 2\n",
    "print('원의 넓이 =', result1)\n",
    "\n",
    "result2 = 2 * p * 17\n",
    "print('원의 둘레 =', result2)\n",
    "\n",
    "result3 = 4 * p * 17 ** 2\n",
    "print('구의 겉넓이 =', result3)\n"
   ]
  },
  {
   "cell_type": "code",
   "execution_count": 22,
   "metadata": {},
   "outputs": [
    {
     "name": "stdout",
     "output_type": "stream",
     "text": [
      "원의 넓이 = 907.9200880000001\n",
      "원의 둘레 = 106.81412800000001\n",
      "구의 겉넓이 = 3631.6803520000003\n"
     ]
    }
   ],
   "source": [
    "p = 3.141592\n",
    "r = 17\n",
    "\n",
    "result1 = p * r ** 2\n",
    "print('원의 넓이 =', result1)\n",
    "\n",
    "result2 = 2 * p * r\n",
    "print('원의 둘레 =', result2)\n",
    "\n",
    "result3 = 4 * p * r ** 2\n",
    "print('구의 겉넓이 =', result3)\n",
    "\n",
    "# 입력된 값을 변경할 일이 생겼을 때 반지름 변수를 사용하지 않은 경우엔 3번을 바꿔야하지만, 변수를 사용할 경우에는 1번만 바꾸면 된다."
   ]
  },
  {
   "cell_type": "code",
   "execution_count": 23,
   "metadata": {},
   "outputs": [
    {
     "ename": "TypeError",
     "evalue": "unsupported operand type(s) for ** or pow(): 'str' and 'int'",
     "output_type": "error",
     "traceback": [
      "\u001b[0;31m---------------------------------------------------------------------------\u001b[0m",
      "\u001b[0;31mTypeError\u001b[0m                                 Traceback (most recent call last)",
      "\u001b[1;32m/Users/geunju/vscode/python/Let's Get IT ch3.ipynb Cell 19'\u001b[0m in \u001b[0;36m<cell line: 4>\u001b[0;34m()\u001b[0m\n\u001b[1;32m      <a href='vscode-notebook-cell:/Users/geunju/vscode/python/Let%27s%20Get%20IT%20ch3.ipynb#ch0000018?line=0'>1</a>\u001b[0m p \u001b[39m=\u001b[39m \u001b[39m3.141592\u001b[39m\n\u001b[1;32m      <a href='vscode-notebook-cell:/Users/geunju/vscode/python/Let%27s%20Get%20IT%20ch3.ipynb#ch0000018?line=1'>2</a>\u001b[0m r \u001b[39m=\u001b[39m \u001b[39minput\u001b[39m(\u001b[39m'\u001b[39m\u001b[39m반지름은? \u001b[39m\u001b[39m'\u001b[39m)\n\u001b[0;32m----> <a href='vscode-notebook-cell:/Users/geunju/vscode/python/Let%27s%20Get%20IT%20ch3.ipynb#ch0000018?line=3'>4</a>\u001b[0m result1 \u001b[39m=\u001b[39m p \u001b[39m*\u001b[39m r \u001b[39m*\u001b[39;49m\u001b[39m*\u001b[39;49m \u001b[39m2\u001b[39;49m\n\u001b[1;32m      <a href='vscode-notebook-cell:/Users/geunju/vscode/python/Let%27s%20Get%20IT%20ch3.ipynb#ch0000018?line=4'>5</a>\u001b[0m result2 \u001b[39m=\u001b[39m \u001b[39m2\u001b[39m \u001b[39m*\u001b[39m p \u001b[39m*\u001b[39m r\n\u001b[1;32m      <a href='vscode-notebook-cell:/Users/geunju/vscode/python/Let%27s%20Get%20IT%20ch3.ipynb#ch0000018?line=5'>6</a>\u001b[0m result3 \u001b[39m=\u001b[39m \u001b[39m4\u001b[39m \u001b[39m*\u001b[39m p \u001b[39m*\u001b[39m r \u001b[39m*\u001b[39m\u001b[39m*\u001b[39m \u001b[39m2\u001b[39m\n",
      "\u001b[0;31mTypeError\u001b[0m: unsupported operand type(s) for ** or pow(): 'str' and 'int'"
     ]
    }
   ],
   "source": [
    "p = 3.141592\n",
    "r = input('반지름은? ')\n",
    "\n",
    "result1 = p * r ** 2\n",
    "result2 = 2 * p * r\n",
    "result3 = 4 * p * r ** 2\n",
    "\n",
    "print('원의 넓이 =', result1, '원의 둘레 =', result2, '구의 겉넓이 =', result3)"
   ]
  },
  {
   "cell_type": "code",
   "execution_count": 24,
   "metadata": {},
   "outputs": [
    {
     "name": "stdout",
     "output_type": "stream",
     "text": [
      "원의 넓이 = 3135311.9575920003 원의 둘레 = 6276.900816 구의 겉넓이 = 12541247.830368001\n"
     ]
    }
   ],
   "source": [
    "p = 3.141592\n",
    "r = int(input('반지름은? '))\n",
    "\n",
    "result1 = p * r ** 2\n",
    "result2 = 2 * p * r\n",
    "result3 = 4 * p * r ** 2\n",
    "\n",
    "print('원의 넓이 =', result1, '원의 둘레 =', result2, '구의 겉넓이 =', result3)"
   ]
  },
  {
   "cell_type": "code",
   "execution_count": 25,
   "metadata": {},
   "outputs": [
    {
     "name": "stdout",
     "output_type": "stream",
     "text": [
      "원의 넓이 = 3135311.9575920003 원의 둘레= 6276.900816 구의 겉넓이 = 12541247.830368001\n"
     ]
    }
   ],
   "source": [
    "#변수를 사용할 때는 쉽게 이해할 수 있는 명칭으로 하기\n",
    "p = 3.141592\n",
    "r = int(input('반지름은? '))\n",
    "\n",
    "c_area = p * r ** 2\n",
    "c_len = 2 * p * r\n",
    "s_area = 4 * p * r ** 2\n",
    "\n",
    "print('원의 넓이 =', c_area, '원의 둘레=', c_len, '구의 겉넓이 =', s_area)"
   ]
  },
  {
   "cell_type": "code",
   "execution_count": 27,
   "metadata": {},
   "outputs": [
    {
     "name": "stdout",
     "output_type": "stream",
     "text": [
      "고라니(4) 애교가 많은 편\n",
      "애교가 많은 편인 고라니\n"
     ]
    }
   ],
   "source": [
    "\"\"\"\n",
    "예제 1\n",
    "실행결과 :\n",
    "(실행부분)\n",
    "이름 : 고라니\n",
    "나이 : 4\n",
    "특징 : 애교가 많은 편\n",
    "(출력부분)\n",
    "고라니(4) 에교가 많은 편\n",
    "애교가 많은 편인 고라니\n",
    "\"\"\"\n",
    "name = input('이름 : ')\n",
    "age = input('나이 = ')\n",
    "feature = input('특징 = ')\n",
    "print(name + '(' + age + ')', feature)\n",
    "print(feature + '인 ' + name)"
   ]
  },
  {
   "cell_type": "code",
   "execution_count": 30,
   "metadata": {},
   "outputs": [
    {
     "name": "stdout",
     "output_type": "stream",
     "text": [
      "2017 년 - 175.5 cm\n",
      "2018 년 - 185.5 cm\n",
      "2019 년 - 195.5 cm\n",
      "2020 년 - 205.5 cm\n"
     ]
    }
   ],
   "source": [
    "\"\"\"\n",
    "예제 2\n",
    "1년마다 키가 10cm씩 자라는 농구선수\n",
    "(실행결과)\n",
    "2017 년 - 175.5 cm\n",
    "2018 년 - 185.5 cm\n",
    "2019 년 - 195.5 cm\n",
    "2020 년 - 205.5 cm\n",
    "\"\"\"\n",
    "year = 2017\n",
    "height = 175.5\n",
    "print(year, '년 -', height, 'cm')\n",
    "\n",
    "year = year + 1\n",
    "height = height + 10\n",
    "print(year, '년 -', height, 'cm')\n",
    "\n",
    "year = year + 1\n",
    "height = height + 10\n",
    "print(year, '년 -', height, 'cm')\n",
    "\n",
    "year = year + 1\n",
    "height = height + 10\n",
    "print(year, '년 -', height, 'cm')\n"
   ]
  },
  {
   "cell_type": "code",
   "execution_count": 31,
   "metadata": {},
   "outputs": [
    {
     "name": "stdout",
     "output_type": "stream",
     "text": [
      "2017 년 - 175.5 cm\n",
      "2018 년 - 185.5 cm\n",
      "2019 년 - 195.5 cm\n",
      "2020 년 - 205.5 cm\n"
     ]
    }
   ],
   "source": [
    "#상기의 코드를 줄일 수 있다\n",
    "year = 2017\n",
    "height = 175.5\n",
    "print(year, '년 -', height, 'cm')\n",
    "\n",
    "year += 1\n",
    "height += 10\n",
    "print(year, '년 -', height, 'cm')\n",
    "\n",
    "year += 1\n",
    "height += 10\n",
    "print(year, '년 -', height, 'cm')\n",
    "\n",
    "year += 1\n",
    "height += 10\n",
    "print(year, '년 -', height, 'cm')\n"
   ]
  },
  {
   "cell_type": "code",
   "execution_count": 32,
   "metadata": {},
   "outputs": [
    {
     "data": {
      "text/plain": [
       "'\\n연산자 줄이기\\na = a + 5 -> a += 5\\na = a - 9 -> a -= 9\\na = a * 7 -> a *= 7\\na = a / 2 -> a /= 2\\n'"
      ]
     },
     "execution_count": 32,
     "metadata": {},
     "output_type": "execute_result"
    }
   ],
   "source": [
    "\"\"\"\n",
    "연산자 줄이기\n",
    "a = a + 5 -> a += 5\n",
    "a = a - 9 -> a -= 9\n",
    "a = a * 7 -> a *= 7\n",
    "a = a / 2 -> a /= 2\n",
    "\"\"\""
   ]
  },
  {
   "cell_type": "code",
   "execution_count": 1,
   "metadata": {},
   "outputs": [
    {
     "name": "stdout",
     "output_type": "stream",
     "text": [
      "<class 'int'>\n"
     ]
    }
   ],
   "source": [
    "#데이터 타입 : 정수형(int)\n",
    "year = 2016\n",
    "print(type(year))"
   ]
  },
  {
   "cell_type": "code",
   "execution_count": 2,
   "metadata": {},
   "outputs": [
    {
     "name": "stdout",
     "output_type": "stream",
     "text": [
      "<class 'float'>\n"
     ]
    }
   ],
   "source": [
    "#데이터 타입 : 실수형(float)\n",
    "height = 175.5\n",
    "print(type(height))"
   ]
  },
  {
   "cell_type": "code",
   "execution_count": 3,
   "metadata": {},
   "outputs": [
    {
     "name": "stdout",
     "output_type": "stream",
     "text": [
      "<class 'str'>\n"
     ]
    }
   ],
   "source": [
    "#데이터 타입 : 문자열(str)\n",
    "name = 'James'\n",
    "print(type(name))"
   ]
  },
  {
   "cell_type": "code",
   "execution_count": 4,
   "metadata": {},
   "outputs": [
    {
     "name": "stdout",
     "output_type": "stream",
     "text": [
      "<class 'str'>\n"
     ]
    }
   ],
   "source": [
    "#input으로 받는 데이터는 모두 문자열(str)로 인식한다\n",
    "a = input()\n",
    "print(type(a))"
   ]
  },
  {
   "cell_type": "code",
   "execution_count": 7,
   "metadata": {},
   "outputs": [
    {
     "name": "stdout",
     "output_type": "stream",
     "text": [
      "<class 'int'> 79\n",
      "<class 'float'> 79.0\n"
     ]
    }
   ],
   "source": [
    "#데이터 타입 바꾸기\n",
    "score = 79\n",
    "print(type(score), score)\n",
    "\n",
    "#정수형을 실수형으로 바꾸기\n",
    "score = float(score)\n",
    "print(type(score), score)"
   ]
  },
  {
   "cell_type": "code",
   "execution_count": 8,
   "metadata": {},
   "outputs": [
    {
     "name": "stdout",
     "output_type": "stream",
     "text": [
      "<class 'float'> 84.3\n",
      "<class 'int'> 84\n"
     ]
    }
   ],
   "source": [
    "#실수형을 정수형으로 바꾸기\n",
    "avg = 84.3\n",
    "print(type(avg), avg)\n",
    "\n",
    "avg = int(avg)\n",
    "print(type(avg), avg)\n",
    "#소수점 이하의 수는 버린다"
   ]
  },
  {
   "cell_type": "code",
   "execution_count": 9,
   "metadata": {},
   "outputs": [
    {
     "name": "stdout",
     "output_type": "stream",
     "text": [
      "<class 'str'> <class 'str'>\n",
      "3232.9\n"
     ]
    }
   ],
   "source": [
    "x = 32\n",
    "y = 32.9\n",
    "\n",
    "x = str(x)\n",
    "y = str(y)\n",
    "\n",
    "print(type(x), type(y))\n",
    "print(x + y)\n",
    "#이 경우 x와 y의 데이터 타입이 문자열로 바뀌었기 때문에 + 연산자를 사용 할 경우 이어져서 나온다."
   ]
  },
  {
   "cell_type": "code",
   "execution_count": 11,
   "metadata": {},
   "outputs": [
    {
     "name": "stdout",
     "output_type": "stream",
     "text": [
      "<class 'str'> 303030\n",
      "<class 'int'> 90\n"
     ]
    }
   ],
   "source": [
    "#문자형을 숫자형으로 바꾸기\n",
    "a = '30'\n",
    "print(type(a), a * 3)\n",
    "\n",
    "a = int(a)\n",
    "print(type(a), a * 3)"
   ]
  },
  {
   "cell_type": "code",
   "execution_count": 12,
   "metadata": {},
   "outputs": [
    {
     "name": "stdout",
     "output_type": "stream",
     "text": [
      "<class 'str'>\n"
     ]
    },
    {
     "ename": "ValueError",
     "evalue": "invalid literal for int() with base 10: '제임스'",
     "output_type": "error",
     "traceback": [
      "\u001b[0;31m---------------------------------------------------------------------------\u001b[0m",
      "\u001b[0;31mValueError\u001b[0m                                Traceback (most recent call last)",
      "\u001b[1;32m/Users/geunju/vscode/python/Let's Get IT ch3.ipynb Cell 34'\u001b[0m in \u001b[0;36m<cell line: 4>\u001b[0;34m()\u001b[0m\n\u001b[1;32m      <a href='vscode-notebook-cell:/Users/geunju/vscode/python/Let%27s%20Get%20IT%20ch3.ipynb#ch0000033?line=0'>1</a>\u001b[0m a \u001b[39m=\u001b[39m \u001b[39m'\u001b[39m\u001b[39m제임스\u001b[39m\u001b[39m'\u001b[39m\n\u001b[1;32m      <a href='vscode-notebook-cell:/Users/geunju/vscode/python/Let%27s%20Get%20IT%20ch3.ipynb#ch0000033?line=1'>2</a>\u001b[0m \u001b[39mprint\u001b[39m(\u001b[39mtype\u001b[39m(a))\n\u001b[0;32m----> <a href='vscode-notebook-cell:/Users/geunju/vscode/python/Let%27s%20Get%20IT%20ch3.ipynb#ch0000033?line=3'>4</a>\u001b[0m a \u001b[39m=\u001b[39m \u001b[39mint\u001b[39;49m(a)\n\u001b[1;32m      <a href='vscode-notebook-cell:/Users/geunju/vscode/python/Let%27s%20Get%20IT%20ch3.ipynb#ch0000033?line=4'>5</a>\u001b[0m \u001b[39mprint\u001b[39m(\u001b[39mtype\u001b[39m(a), a \u001b[39m*\u001b[39m \u001b[39m3\u001b[39m)\n",
      "\u001b[0;31mValueError\u001b[0m: invalid literal for int() with base 10: '제임스'"
     ]
    }
   ],
   "source": [
    "a = '제임스'\n",
    "print(type(a))\n",
    "\n",
    "a = int(a)\n",
    "print(type(a), a * 3)\n",
    "#문자는 10진법에서 정수형에 유효하지 않기 떄문에 변경할 수 없다. "
   ]
  },
  {
   "cell_type": "code",
   "execution_count": 14,
   "metadata": {},
   "outputs": [
    {
     "name": "stdout",
     "output_type": "stream",
     "text": [
      "총 금액: 12400\n"
     ]
    }
   ],
   "source": [
    "s_cnt = int(input('과자를 몇 개 구매하겠습니까?'))\n",
    "r_cnt = int(input('라면을 몇 개 구매하겠습니까?'))\n",
    "h_cnt = int(input('햄을 몇 개 구매하겠습니까?'))\n",
    "\n",
    "price = s_cnt * 1200 + r_cnt * 800 + h_cnt * 2400\n",
    "print('총 금액:', price)"
   ]
  },
  {
   "cell_type": "code",
   "execution_count": 15,
   "metadata": {},
   "outputs": [
    {
     "name": "stdout",
     "output_type": "stream",
     "text": [
      "총 금액: 12400 할인 후 금액 9300.0\n"
     ]
    }
   ],
   "source": [
    "s_cnt = int(input('과자를 몇 개 구매하겠습니까?'))\n",
    "r_cnt = int(input('라면을 몇 개 구매하겠습니까?'))\n",
    "h_cnt = int(input('햄을 몇 개 구매하겠습니까?'))\n",
    "\n",
    "price = s_cnt * 1200 + r_cnt * 800 + h_cnt * 2400\n",
    "print('총 금액:', price, '할인 후 금액', price * 0.75)"
   ]
  },
  {
   "cell_type": "code",
   "execution_count": 16,
   "metadata": {},
   "outputs": [
    {
     "name": "stdout",
     "output_type": "stream",
     "text": [
      "두 수를 더한 값: 16\n",
      "두 수를 뺀 값: 8\n",
      "두 수를 더한 곱한 값: 48\n",
      "두 수를 나눈 값: 3.0\n"
     ]
    }
   ],
   "source": [
    "num1 = int(input('숫자1 입력: '))\n",
    "num2 = int(input('숫자2 입력:'))\n",
    "\n",
    "print('두 수를 더한 값:', num1 + num2)\n",
    "print('두 수를 뺀 값:', num1 - num2)\n",
    "print('두 수를 더한 곱한 값:', num1 * num2)\n",
    "print('두 수를 나눈 값:', num1 / num2)\n",
    "#나눗셈의 결과는 항상 실수로 나온다. "
   ]
  },
  {
   "cell_type": "code",
   "execution_count": 17,
   "metadata": {},
   "outputs": [
    {
     "name": "stdout",
     "output_type": "stream",
     "text": [
      "99.9\n"
     ]
    }
   ],
   "source": [
    "a = 99\n",
    "print(str(a) + '.9')"
   ]
  },
  {
   "cell_type": "code",
   "execution_count": 18,
   "metadata": {},
   "outputs": [
    {
     "name": "stdout",
     "output_type": "stream",
     "text": [
      "15.0\n"
     ]
    }
   ],
   "source": [
    "b = '45'\n",
    "print(float(b) / 3)"
   ]
  },
  {
   "cell_type": "code",
   "execution_count": 19,
   "metadata": {},
   "outputs": [
    {
     "ename": "TypeError",
     "evalue": "unsupported operand type(s) for /: 'str' and 'int'",
     "output_type": "error",
     "traceback": [
      "\u001b[0;31m---------------------------------------------------------------------------\u001b[0m",
      "\u001b[0;31mTypeError\u001b[0m                                 Traceback (most recent call last)",
      "\u001b[1;32m/Users/geunju/vscode/python/Let's Get IT ch3.ipynb Cell 40'\u001b[0m in \u001b[0;36m<cell line: 2>\u001b[0;34m()\u001b[0m\n\u001b[1;32m      <a href='vscode-notebook-cell:/Users/geunju/vscode/python/Let%27s%20Get%20IT%20ch3.ipynb#ch0000039?line=0'>1</a>\u001b[0m c \u001b[39m=\u001b[39m \u001b[39minput\u001b[39m(\u001b[39m'\u001b[39m\u001b[39m숫자입력: \u001b[39m\u001b[39m'\u001b[39m)\n\u001b[0;32m----> <a href='vscode-notebook-cell:/Users/geunju/vscode/python/Let%27s%20Get%20IT%20ch3.ipynb#ch0000039?line=1'>2</a>\u001b[0m \u001b[39mprint\u001b[39m(c \u001b[39m/\u001b[39;49m \u001b[39m5\u001b[39;49m)\n",
      "\u001b[0;31mTypeError\u001b[0m: unsupported operand type(s) for /: 'str' and 'int'"
     ]
    }
   ],
   "source": [
    "c = input('숫자입력: ')\n",
    "print(c / 5)"
   ]
  },
  {
   "cell_type": "code",
   "execution_count": 22,
   "metadata": {},
   "outputs": [
    {
     "name": "stdout",
     "output_type": "stream",
     "text": [
      "나는 전설이다.\n"
     ]
    }
   ],
   "source": [
    "name = input('당신은 누구입니까?')\n",
    "print('나는', name + '이다.')"
   ]
  },
  {
   "cell_type": "code",
   "execution_count": 23,
   "metadata": {},
   "outputs": [
    {
     "name": "stdout",
     "output_type": "stream",
     "text": [
      "유리 님! 회원가입을 환영합니다!\n",
      "yoori 님에게 지금 즉시 사용가능한 쿠폰 5개 발급!\n",
      "yoori 님에게만 적립금 2000원 추가 지급!\n"
     ]
    }
   ],
   "source": [
    "id = input('아이디 입력: ')\n",
    "name = input('이름 입력: ')\n",
    "\n",
    "print(name,'님! 회원가입을 환영합니다!')\n",
    "print(id,'님에게 지금 즉시 사용가능한 쿠폰 5개 발급!')\n",
    "print(id,'님에게만 적립금 2000원 추가 지급!')\n"
   ]
  },
  {
   "cell_type": "code",
   "execution_count": 25,
   "metadata": {},
   "outputs": [
    {
     "name": "stdout",
     "output_type": "stream",
     "text": [
      "최좀 점수는 54.59 입니다!\n"
     ]
    }
   ],
   "source": [
    "korean = float(input('국어 점수는? '))\n",
    "math =  float(input('수학 점수는? '))\n",
    "english = float(input('영어 점수는? '))\n",
    "\n",
    "print('최좀 점수는', korean * 0.16 + math * 0.34 + english * 0.23, '입니다!')"
   ]
  }
 ],
 "metadata": {
  "interpreter": {
   "hash": "aee8b7b246df8f9039afb4144a1f6fd8d2ca17a180786b69acc140d282b71a49"
  },
  "kernelspec": {
   "display_name": "Python 3.10.4 64-bit",
   "language": "python",
   "name": "python3"
  },
  "language_info": {
   "codemirror_mode": {
    "name": "ipython",
    "version": 3
   },
   "file_extension": ".py",
   "mimetype": "text/x-python",
   "name": "python",
   "nbconvert_exporter": "python",
   "pygments_lexer": "ipython3",
   "version": "3.10.4"
  },
  "orig_nbformat": 4
 },
 "nbformat": 4,
 "nbformat_minor": 2
}
