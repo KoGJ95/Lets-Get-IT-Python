{
  "cells": [
    {
      "cell_type": "markdown",
      "metadata": {
        "colab_type": "text",
        "id": "view-in-github"
      },
      "source": [
        "<a href=\"https://colab.research.google.com/github/KoGJ95/Lets-Get-IT-Python/blob/main/Lets_get_IT_ch6.ipynb\" target=\"_parent\"><img src=\"https://colab.research.google.com/assets/colab-badge.svg\" alt=\"Open In Colab\"/></a>"
      ]
    },
    {
      "cell_type": "code",
      "execution_count": null,
      "metadata": {
        "colab": {
          "base_uri": "https://localhost:8080/"
        },
        "id": "e2gj08RarOG_",
        "outputId": "42c39a3f-d3e4-4bfa-e77e-b978525176a9"
      },
      "outputs": [
        {
          "name": "stdout",
          "output_type": "stream",
          "text": [
            "[25, 36, 8, 53, 24, 56]\n"
          ]
        }
      ],
      "source": [
        "spending = [25, 36, 8, 53, 24, 56]\n",
        "print(spending)"
      ]
    },
    {
      "cell_type": "code",
      "execution_count": null,
      "metadata": {
        "colab": {
          "base_uri": "https://localhost:8080/"
        },
        "id": "LFfvKPLjrolb",
        "outputId": "3525df7d-4cc6-4bde-a59c-f528d6d2dc96"
      },
      "outputs": [
        {
          "name": "stdout",
          "output_type": "stream",
          "text": [
            "<class 'list'>\n"
          ]
        }
      ],
      "source": [
        "print(type(spending))"
      ]
    },
    {
      "cell_type": "code",
      "execution_count": null,
      "metadata": {
        "colab": {
          "base_uri": "https://localhost:8080/"
        },
        "id": "49LbF-qpru0R",
        "outputId": "f8856af4-f7c1-4514-955f-70a885dc8080"
      },
      "outputs": [
        {
          "name": "stdout",
          "output_type": "stream",
          "text": [
            "<class 'list'> [25, 36, 8, 53, 24, 56, 38, 79, 94, 20, 40, 25]\n",
            "<class 'list'> [25, 36, 8, 53, 24, 56]\n"
          ]
        }
      ],
      "source": [
        "#일년 지출\n",
        "spending_year = [25, 36, 8, 53, 24, 56, 38, 79, 94, 20, 40, 25]\n",
        "print(type(spending_year), spending_year)\n",
        "#상반기 지출\n",
        "spending_6mon = [25, 36, 8, 53, 24, 56]\n",
        "print(type(spending_6mon), spending_6mon)\n"
      ]
    },
    {
      "cell_type": "code",
      "execution_count": null,
      "metadata": {
        "colab": {
          "base_uri": "https://localhost:8080/"
        },
        "id": "mBdbs4icsLK8",
        "outputId": "184ff1f0-ab5f-43db-f997-d4535d5d3fa0"
      },
      "outputs": [
        {
          "name": "stdout",
          "output_type": "stream",
          "text": [
            "12\n",
            "6\n"
          ]
        }
      ],
      "source": [
        "#일년 지출\n",
        "spending_year = [25, 36, 8, 53, 24, 56, 38, 79, 94, 20, 40, 25]\n",
        "print(len(spending_year))\n",
        "#상반기 지출\n",
        "spending_6mon = [25, 36, 8, 53, 24, 56]\n",
        "print(len(spending_6mon))"
      ]
    },
    {
      "cell_type": "code",
      "execution_count": null,
      "metadata": {
        "colab": {
          "base_uri": "https://localhost:8080/"
        },
        "id": "1kh8ZXMHscpr",
        "outputId": "ed985754-1baa-41b0-f78f-b940b1333312"
      },
      "outputs": [
        {
          "name": "stdout",
          "output_type": "stream",
          "text": [
            "['피자', '치킨', '떢볶이', '스테이크', '딸기', '파스타']\n"
          ]
        }
      ],
      "source": [
        "#좋아하는 음식 리스트 타입\n",
        "food = ['피자', '치킨', '떢볶이', '스테이크', '딸기', '파스타']\n",
        "print(food)"
      ]
    },
    {
      "cell_type": "code",
      "execution_count": null,
      "metadata": {
        "colab": {
          "base_uri": "https://localhost:8080/"
        },
        "id": "KhQAkIpOs0Hr",
        "outputId": "8f3834b8-1da5-473d-d04a-a12b55b0b1e5"
      },
      "outputs": [
        {
          "name": "stdout",
          "output_type": "stream",
          "text": [
            "좋아하는 음식 개수 : 6\n",
            "좋아하는 음식 순서 : ['피자', '치킨', '떢볶이', '스테이크', '딸기', '파스타']\n"
          ]
        }
      ],
      "source": [
        "food = ['피자', '치킨', '떢볶이', '스테이크', '딸기', '파스타']\n",
        "print('좋아하는 음식 개수 :', len(food))\n",
        "print('좋아하는 음식 순서 :', food)"
      ]
    },
    {
      "cell_type": "code",
      "execution_count": null,
      "metadata": {
        "colab": {
          "base_uri": "https://localhost:8080/"
        },
        "id": "hNM1QXIVtBjW",
        "outputId": "5ce95248-0960-4ca6-8f3f-a33b02e434fb"
      },
      "outputs": [
        {
          "name": "stdout",
          "output_type": "stream",
          "text": [
            "25\n",
            "36\n",
            "8\n",
            "53\n",
            "24\n",
            "56\n"
          ]
        }
      ],
      "source": [
        "#리스트의 인덱스\n",
        "spending = [25, 36, 8, 53, 24, 56]\n",
        "print(spending[0])\n",
        "print(spending[1])\n",
        "print(spending[2])\n",
        "print(spending[3])\n",
        "print(spending[4])\n",
        "print(spending[5])"
      ]
    },
    {
      "cell_type": "code",
      "execution_count": null,
      "metadata": {
        "colab": {
          "base_uri": "https://localhost:8080/"
        },
        "id": "ZKv24iJKtP6Z",
        "outputId": "f3fc586a-4bc9-4918-8577-c88fe89d9b0e"
      },
      "outputs": [
        {
          "name": "stdout",
          "output_type": "stream",
          "text": [
            "3월 지출 변경 전 : [25, 36, 8, 53, 24, 56]\n",
            "3월 지출 변경 후 : [25, 36, 18, 53, 24, 56]\n"
          ]
        }
      ],
      "source": [
        "print('3월 지출 변경 전 :', spending)\n",
        "spending[2] += 10\n",
        "print('3월 지출 변경 후 :', spending)\n"
      ]
    },
    {
      "cell_type": "code",
      "execution_count": null,
      "metadata": {
        "colab": {
          "base_uri": "https://localhost:8080/"
        },
        "id": "c2pxo9ontpu9",
        "outputId": "8e5a11c1-fa2f-4d08-adac-411b8c0441ba"
      },
      "outputs": [
        {
          "name": "stdout",
          "output_type": "stream",
          "text": [
            "5월 지출 변경 전 : [25, 36, 18, 53, 24, 56]\n",
            "5월 지출 변경 후 : [25, 36, 18, 53, 22, 56]\n"
          ]
        }
      ],
      "source": [
        "print('5월 지출 변경 전 :', spending)\n",
        "spending[4] -= 2\n",
        "print('5월 지출 변경 후 :', spending)"
      ]
    },
    {
      "cell_type": "code",
      "execution_count": null,
      "metadata": {
        "colab": {
          "base_uri": "https://localhost:8080/"
        },
        "id": "kMgiOk-ft2iY",
        "outputId": "12055c3c-2ba3-4dab-e67a-97212292792e"
      },
      "outputs": [
        {
          "name": "stdout",
          "output_type": "stream",
          "text": [
            "25\n",
            "36\n",
            "8\n",
            "53\n",
            "24\n",
            "56\n"
          ]
        }
      ],
      "source": [
        "#반복문으로 리스트 다루기\n",
        "for i in [25, 36, 8, 53, 24, 56]:\n",
        "  print(i)"
      ]
    },
    {
      "cell_type": "code",
      "execution_count": null,
      "metadata": {
        "colab": {
          "base_uri": "https://localhost:8080/"
        },
        "id": "GE0O45utuDSv",
        "outputId": "702bb65b-b8de-47e4-cd7b-35f9f007a783"
      },
      "outputs": [
        {
          "name": "stdout",
          "output_type": "stream",
          "text": [
            "25\n",
            "36\n",
            "8\n",
            "53\n",
            "24\n",
            "56\n"
          ]
        }
      ],
      "source": [
        "spending = [25, 36, 8, 53, 24, 56]\n",
        "for s in spending:\n",
        "  print(s)"
      ]
    },
    {
      "cell_type": "code",
      "execution_count": null,
      "metadata": {
        "colab": {
          "base_uri": "https://localhost:8080/"
        },
        "id": "hnp1HSoXuLrB",
        "outputId": "78b19946-c754-492e-a5f5-5d19220abac0"
      },
      "outputs": [
        {
          "name": "stdout",
          "output_type": "stream",
          "text": [
            "25\n",
            "36\n",
            "8\n",
            "53\n",
            "24\n",
            "56\n"
          ]
        }
      ],
      "source": [
        "spending = [25, 36, 8, 53, 24, 56,]\n",
        "for i in range(6):\n",
        "  print(spending[i])"
      ]
    },
    {
      "cell_type": "code",
      "execution_count": null,
      "metadata": {
        "colab": {
          "base_uri": "https://localhost:8080/"
        },
        "id": "TJZyZSQDIUg6",
        "outputId": "be370e5e-8bcb-4507-f24a-8406dd459c37"
      },
      "outputs": [
        {
          "name": "stdout",
          "output_type": "stream",
          "text": [
            "25\n",
            "36\n",
            "8\n",
            "53\n",
            "24\n",
            "56\n"
          ]
        }
      ],
      "source": [
        "spending = [25, 36, 8, 53, 24, 56]\n",
        "for s in spending:\n",
        "  print(s)"
      ]
    },
    {
      "cell_type": "code",
      "execution_count": null,
      "metadata": {
        "colab": {
          "base_uri": "https://localhost:8080/"
        },
        "id": "OgG4byRU2FjD",
        "outputId": "8490378d-b93b-45ab-8955-fa8432d61396"
      },
      "outputs": [
        {
          "name": "stdout",
          "output_type": "stream",
          "text": [
            "25\n",
            "46\n",
            "8\n",
            "53\n",
            "24\n",
            "56\n"
          ]
        }
      ],
      "source": [
        "#인덱스 사용하기\n",
        "spending = [25, 46, 8, 53, 24, 56]\n",
        "for i in range(6):\n",
        "  print(spending[i])"
      ]
    },
    {
      "cell_type": "code",
      "execution_count": null,
      "metadata": {
        "colab": {
          "base_uri": "https://localhost:8080/"
        },
        "id": "SlZ7BNb88LbW",
        "outputId": "cee8cf82-e946-43e8-ba74-875bf4e566f0"
      },
      "outputs": [
        {
          "name": "stdout",
          "output_type": "stream",
          "text": [
            "1 월 지출은 25\n",
            "2 월 지출은 46\n",
            "3 월 지출은 8\n",
            "4 월 지출은 53\n",
            "5 월 지출은 24\n",
            "6 월 지출은 56\n"
          ]
        }
      ],
      "source": [
        "for i in range(6):\n",
        "  print(i + 1, '월 지출은', spending[i])"
      ]
    },
    {
      "cell_type": "code",
      "execution_count": null,
      "metadata": {
        "colab": {
          "base_uri": "https://localhost:8080/"
        },
        "id": "qRLofJdf8UMR",
        "outputId": "1510f550-b967-4f18-8e27-fa20170e676c"
      },
      "outputs": [
        {
          "name": "stdout",
          "output_type": "stream",
          "text": [
            "1 월 지출은 25, 2 월 지출은 46, 3 월 지출은 8, 4 월 지출은 53, 5 월 지출은 24, 6 월 지출은 56, "
          ]
        }
      ],
      "source": [
        "for i in range (len(spending)):\n",
        "  print(i + 1, '월 지출은', spending[i], end =', ')"
      ]
    },
    {
      "cell_type": "code",
      "execution_count": null,
      "metadata": {
        "colab": {
          "base_uri": "https://localhost:8080/"
        },
        "id": "8E8WfbR88hvE",
        "outputId": "d9fda73f-d6a3-4740-816f-970cc72883eb"
      },
      "outputs": [
        {
          "name": "stdout",
          "output_type": "stream",
          "text": [
            "피자\n",
            "떡볶이\n",
            "파스타\n"
          ]
        }
      ],
      "source": [
        "food = ['피자', '치킨', '떡볶이', '스테이크', '파스타']\n",
        "#가장 좋아하는 음식은?\n",
        "print(food[0])\n",
        "#세 번째로 좋아하는 음식은?\n",
        "print(food[2])\n",
        "#가장 덜 좋아하는 음식은?\n",
        "print(food[4])"
      ]
    },
    {
      "cell_type": "code",
      "execution_count": null,
      "metadata": {
        "colab": {
          "base_uri": "https://localhost:8080/"
        },
        "id": "avapolrQ896X",
        "outputId": "16ac51c8-f67a-46be-9a37-b67367eaef9e"
      },
      "outputs": [
        {
          "name": "stdout",
          "output_type": "stream",
          "text": [
            "파스타\n"
          ]
        }
      ],
      "source": [
        "#가장 덜 좋아하는 음식은?\n",
        "print(food[len(food)- 1])"
      ]
    },
    {
      "cell_type": "code",
      "execution_count": null,
      "metadata": {
        "colab": {
          "base_uri": "https://localhost:8080/"
        },
        "id": "4LTI2UwM9EeU",
        "outputId": "82b7386b-4669-4283-cfaa-2290e1755e73"
      },
      "outputs": [
        {
          "name": "stdout",
          "output_type": "stream",
          "text": [
            "파스타\n"
          ]
        }
      ],
      "source": [
        "#음수 인덱스 사용하기\n",
        "#가장 덜 좋아하는 음식은?\n",
        "print(food[-1])"
      ]
    },
    {
      "cell_type": "code",
      "execution_count": null,
      "metadata": {
        "colab": {
          "base_uri": "https://localhost:8080/"
        },
        "id": "Gn3ZhNVU9NcZ",
        "outputId": "f7612577-b114-4525-b2c1-48a431d5a209"
      },
      "outputs": [
        {
          "name": "stdout",
          "output_type": "stream",
          "text": [
            "스테이크\n",
            "떡볶이\n"
          ]
        }
      ],
      "source": [
        "#두 번쨰로 덜 좋아하는 음식은?\n",
        "print(food[-2])\n",
        "#세 번째로 덜 좋아하는 음식은?\n",
        "print(food[-3])"
      ]
    },
    {
      "cell_type": "code",
      "execution_count": null,
      "metadata": {
        "colab": {
          "base_uri": "https://localhost:8080/"
        },
        "id": "qW4w-KWM9XNn",
        "outputId": "7cfe7a8e-9996-432b-90bd-a23b3ec3d4d0"
      },
      "outputs": [
        {
          "name": "stdout",
          "output_type": "stream",
          "text": [
            "['피자', '치킨', '떡볶이', '스테이크', '파스타', '감자칩']\n"
          ]
        }
      ],
      "source": [
        "#리스트에 요소 추가하고 삭제하기\n",
        "#요소 추가하기\n",
        "food = ['피자', '치킨', '떡볶이', '스테이크', '파스타']\n",
        "food.append('감자칩')\n",
        "print(food)"
      ]
    },
    {
      "cell_type": "code",
      "execution_count": null,
      "metadata": {
        "colab": {
          "base_uri": "https://localhost:8080/"
        },
        "id": "U1hNJejU9nj3",
        "outputId": "a53a86a9-b967-4025-aa42-9b3815ede9bb"
      },
      "outputs": [
        {
          "name": "stdout",
          "output_type": "stream",
          "text": [
            "['피자', '치킨', '떡볶이', '스테이크', '파스타', '감자칩', '카레', '카레']\n"
          ]
        }
      ],
      "source": [
        "food.append('카레') \n",
        "print(food)"
      ]
    },
    {
      "cell_type": "code",
      "execution_count": null,
      "metadata": {
        "colab": {
          "base_uri": "https://localhost:8080/"
        },
        "id": "Yu5dyc8d9sqp",
        "outputId": "30953f4e-2674-4599-8f3e-da595e7d1b44"
      },
      "outputs": [
        {
          "name": "stdout",
          "output_type": "stream",
          "text": [
            "[24, 38, 19, 40]\n"
          ]
        }
      ],
      "source": [
        "abc = [] #빈 리스트 만들기\n",
        "abc.append(24)\n",
        "abc.append(38)\n",
        "abc.append(19)\n",
        "abc.append(40)\n",
        "print(abc)"
      ]
    },
    {
      "cell_type": "code",
      "execution_count": null,
      "metadata": {
        "colab": {
          "base_uri": "https://localhost:8080/"
        },
        "id": "1n9PKVIw94pl",
        "outputId": "765f2efd-25db-433a-c388-e0ab719b190b"
      },
      "outputs": [
        {
          "name": "stdout",
          "output_type": "stream",
          "text": [
            "해야 할 일을 입력해 주세요 ---> 공부\n",
            "['공부']\n"
          ]
        }
      ],
      "source": [
        "to_do = []\n",
        "task = input('해야 할 일을 입력해 주세요 ---> ')\n",
        "to_do.append(task)\n",
        "print(to_do)"
      ]
    },
    {
      "cell_type": "code",
      "execution_count": null,
      "metadata": {
        "colab": {
          "base_uri": "https://localhost:8080/"
        },
        "id": "4_YvlwTv-DRf",
        "outputId": "969def6f-56e9-4ada-bb56-21d0930fc86a"
      },
      "outputs": [
        {
          "name": "stdout",
          "output_type": "stream",
          "text": [
            "['피자', '치킨', '스테이크', '파스타']\n"
          ]
        }
      ],
      "source": [
        "#요소 삭제하기\n",
        "food = ['피자', '치킨', '떡볶이', '스테이크', '파스타']\n",
        "food.remove('떡볶이')\n",
        "print(food)"
      ]
    },
    {
      "cell_type": "code",
      "execution_count": null,
      "metadata": {
        "colab": {
          "base_uri": "https://localhost:8080/"
        },
        "id": "mjp1nTwLa1d0",
        "outputId": "21a13f4f-3502-41c2-d59b-745f84090867"
      },
      "outputs": [
        {
          "name": "stdout",
          "output_type": "stream",
          "text": [
            "['피자', '치킨', '떡볶이', '스테이크']\n"
          ]
        }
      ],
      "source": [
        "food = ['피자', '치킨', '떡볶이', '스테이크', '파스타']\n",
        "del food[-1]\n",
        "print(food)"
      ]
    },
    {
      "cell_type": "code",
      "execution_count": null,
      "metadata": {
        "colab": {
          "base_uri": "https://localhost:8080/"
        },
        "id": "fRX5puJRbLp4",
        "outputId": "f94bdbfb-dd54-40a6-9f4c-c93b530ec395"
      },
      "outputs": [
        {
          "name": "stdout",
          "output_type": "stream",
          "text": [
            "['피자', '치킨', '떡볶이']\n"
          ]
        }
      ],
      "source": [
        "#리스트에서 필요한 요소만 꺼내기\n",
        "food = ['피자', '치킨', '떡볶이', '스테이크', '파스타']\n",
        "print(food[0:3])"
      ]
    },
    {
      "cell_type": "code",
      "execution_count": null,
      "metadata": {
        "colab": {
          "base_uri": "https://localhost:8080/"
        },
        "id": "rgXvIZc8buEq",
        "outputId": "4903d970-30af-405b-c50e-623cc8e3f70f"
      },
      "outputs": [
        {
          "name": "stdout",
          "output_type": "stream",
          "text": [
            "['떡볶이', '스테이크']\n"
          ]
        }
      ],
      "source": [
        "print(food[2:4])"
      ]
    },
    {
      "cell_type": "code",
      "execution_count": null,
      "metadata": {
        "colab": {
          "base_uri": "https://localhost:8080/"
        },
        "id": "rt6mjt8qbxgG",
        "outputId": "698525c7-92e2-4d83-a8b1-4b2a21ac41e0"
      },
      "outputs": [
        {
          "name": "stdout",
          "output_type": "stream",
          "text": [
            "['피자', '치킨', '떡볶이']\n"
          ]
        }
      ],
      "source": [
        "print(food[:3])"
      ]
    },
    {
      "cell_type": "code",
      "execution_count": null,
      "metadata": {
        "colab": {
          "base_uri": "https://localhost:8080/"
        },
        "id": "qOAahb0Kb2Ys",
        "outputId": "dffecc8d-afcc-44a5-de1f-6810ce1beb0b"
      },
      "outputs": [
        {
          "name": "stdout",
          "output_type": "stream",
          "text": [
            "['스테이크', '파스타']\n"
          ]
        }
      ],
      "source": [
        "print(food[-2:])"
      ]
    },
    {
      "cell_type": "code",
      "execution_count": null,
      "metadata": {
        "colab": {
          "base_uri": "https://localhost:8080/"
        },
        "id": "x6WuDrpxb5FI",
        "outputId": "1964fd9d-00e8-45ad-c844-3fa6920064d2"
      },
      "outputs": [
        {
          "name": "stdout",
          "output_type": "stream",
          "text": [
            "1월부터 3월 지출: [25, 36, 8]\n",
            "3월부터 5월 지출: [8, 53, 24]\n",
            "5월부터 6월 지출: [24, 56]\n"
          ]
        }
      ],
      "source": [
        "spending_6mon = [25, 36, 8, 53, 24, 56]\n",
        "print('1월부터 3월 지출:', spending_6mon[:3])\n",
        "print('3월부터 5월 지출:', spending_6mon[2:5])\n",
        "print('5월부터 6월 지출:', spending_6mon[-2:])"
      ]
    },
    {
      "cell_type": "code",
      "execution_count": null,
      "metadata": {
        "colab": {
          "base_uri": "https://localhost:8080/"
        },
        "id": "m8TYIOlbksYU",
        "outputId": "021217f3-a842-46b1-fc60-fc8bfb9280b0"
      },
      "outputs": [
        {
          "name": "stdout",
          "output_type": "stream",
          "text": [
            "나는야\n"
          ]
        }
      ],
      "source": [
        "a = '나는야 우주최강'\n",
        "print(a[:3])"
      ]
    },
    {
      "cell_type": "code",
      "execution_count": null,
      "metadata": {
        "colab": {
          "base_uri": "https://localhost:8080/"
        },
        "id": "7YDBTchnkxAz",
        "outputId": "b775f32f-d846-433c-86b3-92a2e7ddefdc"
      },
      "outputs": [
        {
          "name": "stdout",
          "output_type": "stream",
          "text": [
            "우주최강\n"
          ]
        }
      ],
      "source": [
        "print(a[-4:])"
      ]
    },
    {
      "cell_type": "code",
      "execution_count": null,
      "metadata": {
        "colab": {
          "base_uri": "https://localhost:8080/"
        },
        "id": "a90vysqwk07X",
        "outputId": "f41c724d-b21e-44d1-ebbb-4000096a7ace"
      },
      "outputs": [
        {
          "name": "stdout",
          "output_type": "stream",
          "text": [
            "우주\n"
          ]
        }
      ],
      "source": [
        "print(a[-4:-2])"
      ]
    },
    {
      "cell_type": "code",
      "execution_count": null,
      "metadata": {
        "colab": {
          "base_uri": "https://localhost:8080/"
        },
        "id": "Rkc7kDPLk3MX",
        "outputId": "61c58b9c-3ea4-427b-99cb-02bd0aac570d"
      },
      "outputs": [
        {
          "name": "stdout",
          "output_type": "stream",
          "text": [
            "연도: 2021\n",
            "월: 04\n",
            "일: 15\n"
          ]
        }
      ],
      "source": [
        "date = '2021-04-15'\n",
        "print('연도:', date[:4])\n",
        "print('월:', date[5:7])\n",
        "print('일:', date[-2:])"
      ]
    },
    {
      "cell_type": "code",
      "execution_count": null,
      "metadata": {
        "colab": {
          "base_uri": "https://localhost:8080/"
        },
        "id": "35ukeE4GlSbr",
        "outputId": "4d70dd82-dad9-4c4f-c9ff-2d72f6c1efb2"
      },
      "outputs": [
        {
          "name": "stdout",
          "output_type": "stream",
          "text": [
            "['나는야', '우주최강']\n"
          ]
        }
      ],
      "source": [
        "#문자열 나누기\n",
        "a ='나는야 우주최강'\n",
        "print(a.split())"
      ]
    },
    {
      "cell_type": "code",
      "execution_count": null,
      "metadata": {
        "colab": {
          "base_uri": "https://localhost:8080/"
        },
        "id": "AtsqCU-tlZFW",
        "outputId": "362b7694-3a0b-431b-da0d-053245a8eea3"
      },
      "outputs": [
        {
          "name": "stdout",
          "output_type": "stream",
          "text": [
            "['나는야', '우주최강']\n",
            "나는야\n",
            "우주최강\n"
          ]
        }
      ],
      "source": [
        "a = '나는야 우주최강'\n",
        "print(a.split())\n",
        "print(a.split()[0])\n",
        "print(a.split()[1])"
      ]
    },
    {
      "cell_type": "code",
      "execution_count": null,
      "metadata": {
        "colab": {
          "base_uri": "https://localhost:8080/"
        },
        "id": "IzYJ_if7lk8b",
        "outputId": "6bd6198b-867b-4f6e-956c-563c46069a44"
      },
      "outputs": [
        {
          "name": "stdout",
          "output_type": "stream",
          "text": [
            "['2021', '04', '15']\n"
          ]
        }
      ],
      "source": [
        "date = '2021-04-15'\n",
        "print(date.split('-'))"
      ]
    },
    {
      "cell_type": "code",
      "execution_count": null,
      "metadata": {
        "colab": {
          "base_uri": "https://localhost:8080/"
        },
        "id": "l5KKhVZhl1ow",
        "outputId": "64915100-507e-424c-d976-9f94f355147c"
      },
      "outputs": [
        {
          "name": "stdout",
          "output_type": "stream",
          "text": [
            "2021\n",
            "04\n",
            "15\n"
          ]
        }
      ],
      "source": [
        "date = '2021-04-15'\n",
        "print(date.split('-')[0])\n",
        "print(date.split('-')[1])\n",
        "print(date.split('-')[2])"
      ]
    },
    {
      "cell_type": "code",
      "execution_count": null,
      "metadata": {
        "colab": {
          "base_uri": "https://localhost:8080/"
        },
        "id": "Kk2pHRSxmHqx",
        "outputId": "37b46547-7a07-423e-f41d-f2706ff3eb69"
      },
      "outputs": [
        {
          "name": "stdout",
          "output_type": "stream",
          "text": [
            "정렬 후: ['감자칩', '된장찌개', '바나나', '스테이크', '치킨', '파스타', '피자']\n"
          ]
        }
      ],
      "source": [
        "#다양한 리스트 명령어 사용하기\n",
        "#sort\n",
        "food = ['피자', '치킨', '스테이크', '된장찌개', '바나나', '파스타', '감자칩']\n",
        "food.sort()\n",
        "print('정렬 후:', food)"
      ]
    },
    {
      "cell_type": "code",
      "execution_count": null,
      "metadata": {
        "colab": {
          "base_uri": "https://localhost:8080/"
        },
        "id": "wK_kXYiymi7C",
        "outputId": "1ea6d011-a873-4852-b2aa-39146295725f"
      },
      "outputs": [
        {
          "name": "stdout",
          "output_type": "stream",
          "text": [
            "정렬 후 ['피자', '파스타', '치킨', '스테이크', '바나나', '된장찌개', '감자칩']\n"
          ]
        }
      ],
      "source": [
        "food = ['피자', '치킨', '스테이크', '된장찌개', '바나나', '파스타', '감자칩']\n",
        "food.sort(reverse = True)\n",
        "print('정렬 후', food)"
      ]
    },
    {
      "cell_type": "code",
      "execution_count": null,
      "metadata": {
        "colab": {
          "base_uri": "https://localhost:8080/"
        },
        "id": "HwLM5x59m0e0",
        "outputId": "b2db628c-4b62-4dc7-eb65-651535cd8b79"
      },
      "outputs": [
        {
          "name": "stdout",
          "output_type": "stream",
          "text": [
            "[56, 53]\n"
          ]
        }
      ],
      "source": [
        "spending_6mon = [25, 36, 8, 53, 24, 56]\n",
        "spending_6mon.sort(reverse = True)\n",
        "print(spending_6mon[0:2])"
      ]
    },
    {
      "cell_type": "code",
      "execution_count": 2,
      "metadata": {
        "colab": {
          "base_uri": "https://localhost:8080/"
        },
        "id": "Kh5ORM3EnBKQ",
        "outputId": "7300edbb-c266-4285-a87b-6f066582e53e"
      },
      "outputs": [
        {
          "name": "stdout",
          "output_type": "stream",
          "text": [
            "[24, 8]\n"
          ]
        }
      ],
      "source": [
        "spending_6mon = [25, 36, 8, 53, 24, 56]\n",
        "spending_6mon.sort(reverse = True)\n",
        "print(spending_6mon[-2:])"
      ]
    },
    {
      "cell_type": "code",
      "execution_count": 3,
      "metadata": {
        "colab": {
          "base_uri": "https://localhost:8080/"
        },
        "id": "C3cnK4Q5heyw",
        "outputId": "8abb55e9-36aa-4ed3-e264-1ebd0e1dc668"
      },
      "outputs": [
        {
          "name": "stdout",
          "output_type": "stream",
          "text": [
            "56 8\n"
          ]
        }
      ],
      "source": [
        "#최대값, 최솟값 구하기\n",
        "spending_6mon = [25, 36, 8, 53, 24, 56]\n",
        "print(max(spending_6mon), min(spending_6mon))"
      ]
    },
    {
      "cell_type": "code",
      "execution_count": 4,
      "metadata": {
        "colab": {
          "base_uri": "https://localhost:8080/"
        },
        "id": "f_43us9Vho3s",
        "outputId": "9fc5b18d-b281-4c7c-c5be-505a5ff1eb52"
      },
      "outputs": [
        {
          "name": "stdout",
          "output_type": "stream",
          "text": [
            "202\n"
          ]
        }
      ],
      "source": [
        "print(sum(spending_6mon))"
      ]
    },
    {
      "cell_type": "code",
      "execution_count": 5,
      "metadata": {
        "colab": {
          "base_uri": "https://localhost:8080/"
        },
        "id": "Cqv70POdhrop",
        "outputId": "5d5f61bb-a461-4e40-e53d-0f96b2bd78a3"
      },
      "outputs": [
        {
          "name": "stdout",
          "output_type": "stream",
          "text": [
            "4\n"
          ]
        }
      ],
      "source": [
        "#인덱스 찾기\n",
        "print(spending_6mon.index(24))"
      ]
    },
    {
      "cell_type": "code",
      "execution_count": 6,
      "metadata": {
        "colab": {
          "base_uri": "https://localhost:8080/"
        },
        "id": "9tss0Md2h15s",
        "outputId": "c650bbdc-eab2-4caf-cca1-47fccf8ff1d5"
      },
      "outputs": [
        {
          "name": "stdout",
          "output_type": "stream",
          "text": [
            "찾는 음식은? 피자\n",
            "1 위 입니다.\n"
          ]
        }
      ],
      "source": [
        "#6.2 제어구조로 리스트 다루기\n",
        "# 조건문으로 리스트 다루기\n",
        "food = ['피자', '치킨', '스테이크', '된장찌개']\n",
        "search = input('찾는 음식은? ')\n",
        "if search in food:\n",
        "  print(food.index(search) + 1, '위 입니다.')\n",
        "else:\n",
        "  print(search, '은/는 순위에 없습니다.')"
      ]
    },
    {
      "cell_type": "code",
      "execution_count": 7,
      "metadata": {
        "colab": {
          "base_uri": "https://localhost:8080/"
        },
        "id": "6N1dZny7idE3",
        "outputId": "1f33c9ac-c351-4371-bdef-58eef8965969"
      },
      "outputs": [
        {
          "name": "stdout",
          "output_type": "stream",
          "text": [
            "강아지를 좋아하시면 고양이 영상도 추천합니다!\n",
            "댄스 영상을 좋아하시면 음악방송 영상도 추천합니다!\n"
          ]
        }
      ],
      "source": [
        "history = ['먹방', '강아지', '요리', '댄스']\n",
        "if '강아지' in history:\n",
        "  print('강아지를 좋아하시면 고양이 영상도 추천합니다!')\n",
        "if '댄스' in history:\n",
        "  print('댄스 영상을 좋아하시면 음악방송 영상도 추천합니다!')"
      ]
    },
    {
      "cell_type": "code",
      "execution_count": 8,
      "metadata": {
        "colab": {
          "base_uri": "https://localhost:8080/"
        },
        "id": "NZlAPeb4i16u",
        "outputId": "8313f857-cefc-48e2-a6bc-b257706bf803"
      },
      "outputs": [
        {
          "name": "stdout",
          "output_type": "stream",
          "text": [
            "시청한 영상은? 다이어트\n",
            "시청한 영상은? 게임\n",
            "시청한 영상은? 음악\n",
            "시청한 영상은? 뉴스\n",
            "시청한 영상은? 디지털\n",
            "지금까지 시청한 영상은 ['다이어트', '게임', '음악', '뉴스', '디지털']\n",
            "다이어트 영상을 좋아하시면 홈트레이닝 영상도 좋아하실 것 같아요!\n",
            "뉴스 영상을 좋아하시면 속보 영상도 추천합니다!\n"
          ]
        }
      ],
      "source": [
        "history = []\n",
        "for i in range(5):\n",
        "  history.append(input('시청한 영상은? '))\n",
        "print('지금까지 시청한 영상은', history)\n",
        "if '다이어트' in history:\n",
        "  print('다이어트 영상을 좋아하시면 홈트레이닝 영상도 좋아하실 것 같아요!')\n",
        "if '뉴스' in history:\n",
        "  print('뉴스 영상을 좋아하시면 속보 영상도 추천합니다!')"
      ]
    },
    {
      "cell_type": "code",
      "execution_count": 1,
      "metadata": {
        "id": "X2keD2Gyjavd"
      },
      "outputs": [
        {
          "name": "stdout",
          "output_type": "stream",
          "text": [
            "[16]\n",
            "[16, 93]\n",
            "[16, 93, 93]\n",
            "[16, 93, 93, 51]\n",
            "[16, 93, 93, 51, 21]\n",
            "[16, 93, 93, 51, 21, 44]\n",
            "[16, 93, 93, 51, 21, 44, 26]\n",
            "[16, 93, 93, 51, 21, 44, 26, 37]\n",
            "[16, 93, 93, 51, 21, 44, 26, 37, 38]\n",
            "[16, 93, 93, 51, 21, 44, 26, 37, 38, 29]\n",
            "[16, 93, 93, 51, 21, 44, 26, 37, 38, 29, 27]\n",
            "[16, 93, 93, 51, 21, 44, 26, 37, 38, 29, 27, 42]\n",
            "[16, 93, 93, 51, 21, 44, 26, 37, 38, 29, 27, 42, 50]\n",
            "[16, 93, 93, 51, 21, 44, 26, 37, 38, 29, 27, 42, 50, 61]\n",
            "[16, 93, 93, 51, 21, 44, 26, 37, 38, 29, 27, 42, 50, 61, 24]\n",
            "[16, 93, 93, 51, 21, 44, 26, 37, 38, 29, 27, 42, 50, 61, 24, 81]\n",
            "[16, 93, 93, 51, 21, 44, 26, 37, 38, 29, 27, 42, 50, 61, 24, 81, 59]\n",
            "[16, 93, 93, 51, 21, 44, 26, 37, 38, 29, 27, 42, 50, 61, 24, 81, 59, 11]\n",
            "[16, 93, 93, 51, 21, 44, 26, 37, 38, 29, 27, 42, 50, 61, 24, 81, 59, 11, 96]\n",
            "[16, 93, 93, 51, 21, 44, 26, 37, 38, 29, 27, 42, 50, 61, 24, 81, 59, 11, 96, 53]\n",
            "[16, 93, 93, 51, 21, 44, 26, 37, 38, 29, 27, 42, 50, 61, 24, 81, 59, 11, 96, 53, 19]\n",
            "[16, 93, 93, 51, 21, 44, 26, 37, 38, 29, 27, 42, 50, 61, 24, 81, 59, 11, 96, 53, 19, 10]\n",
            "[16, 93, 93, 51, 21, 44, 26, 37, 38, 29, 27, 42, 50, 61, 24, 81, 59, 11, 96, 53, 19, 10, 39]\n",
            "[16, 93, 93, 51, 21, 44, 26, 37, 38, 29, 27, 42, 50, 61, 24, 81, 59, 11, 96, 53, 19, 10, 39, 91]\n",
            "[16, 93, 93, 51, 21, 44, 26, 37, 38, 29, 27, 42, 50, 61, 24, 81, 59, 11, 96, 53, 19, 10, 39, 91, 80]\n"
          ]
        }
      ],
      "source": [
        "import random\n",
        "\n",
        "score = []\n",
        "for i in range(25):\n",
        "    score.append(random.randint(0,100))\n",
        "    print(score)"
      ]
    },
    {
      "cell_type": "code",
      "execution_count": 4,
      "metadata": {},
      "outputs": [
        {
          "name": "stdout",
          "output_type": "stream",
          "text": [
            "[2, 20, 66, 42, 64, 44, 33, 35, 87, 18, 21, 15, 59, 45, 90, 86, 6, 55, 86, 99, 51, 18, 72, 68, 26]\n",
            "리스트를 사용해 70점 이상인 점수 출력하기\n",
            "9 번 87\n",
            "15 번 90\n",
            "16 번 86\n",
            "16 번 86\n",
            "20 번 99\n",
            "23 번 72\n",
            "인덱스를 사용해 70점 이상인 점수 출력하기\n",
            "9 번 87\n",
            "15 번 90\n",
            "16 번 86\n",
            "19 번 86\n",
            "20 번 99\n",
            "23 번 72\n"
          ]
        }
      ],
      "source": [
        "import random\n",
        "score = []\n",
        "for i in range(25):\n",
        "    score.append(random.randint(0,100))\n",
        "print(score)\n",
        "\n",
        "print('리스트를 사용해 70점 이상인 점수 출력하기')\n",
        "for s in score:\n",
        "    if s >= 70:\n",
        "        print(score.index(s) + 1, '번', s)\n",
        "\n",
        "print('인덱스를 사용해 70점 이상인 점수 출력하기')\n",
        "for i in range(len(score)): #또는 for i in range(25)\n",
        "    if score[i] >=70:\n",
        "        print(i + 1, '번', score[i])"
      ]
    },
    {
      "cell_type": "code",
      "execution_count": null,
      "metadata": {},
      "outputs": [],
      "source": [
        "#리스트로 간단한 프로그램 만들기\n"
      ]
    }
  ],
  "metadata": {
    "colab": {
      "authorship_tag": "ABX9TyMd4ogaqtvio9tQsAJRHWZm",
      "collapsed_sections": [],
      "include_colab_link": true,
      "name": "Lets get IT ch6.ipynb",
      "provenance": []
    },
    "kernelspec": {
      "display_name": "Python 3",
      "name": "python3"
    },
    "language_info": {
      "codemirror_mode": {
        "name": "ipython",
        "version": 3
      },
      "file_extension": ".py",
      "mimetype": "text/x-python",
      "name": "python",
      "nbconvert_exporter": "python",
      "pygments_lexer": "ipython3",
      "version": "3.10.4"
    }
  },
  "nbformat": 4,
  "nbformat_minor": 0
}
