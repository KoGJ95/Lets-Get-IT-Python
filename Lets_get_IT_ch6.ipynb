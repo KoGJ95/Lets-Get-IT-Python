{
  "nbformat": 4,
  "nbformat_minor": 0,
  "metadata": {
    "colab": {
      "name": "Lets get IT ch6.ipynb",
      "provenance": [],
      "collapsed_sections": [],
      "authorship_tag": "ABX9TyO4zbDIDJnzNIbgQXDdHXiK",
      "include_colab_link": true
    },
    "kernelspec": {
      "name": "python3",
      "display_name": "Python 3"
    },
    "language_info": {
      "name": "python"
    }
  },
  "cells": [
    {
      "cell_type": "markdown",
      "metadata": {
        "id": "view-in-github",
        "colab_type": "text"
      },
      "source": [
        "<a href=\"https://colab.research.google.com/github/KoGJ95/Lets-Get-IT-Python/blob/main/Lets_get_IT_ch6.ipynb\" target=\"_parent\"><img src=\"https://colab.research.google.com/assets/colab-badge.svg\" alt=\"Open In Colab\"/></a>"
      ]
    },
    {
      "cell_type": "code",
      "execution_count": 1,
      "metadata": {
        "colab": {
          "base_uri": "https://localhost:8080/"
        },
        "id": "e2gj08RarOG_",
        "outputId": "42c39a3f-d3e4-4bfa-e77e-b978525176a9"
      },
      "outputs": [
        {
          "output_type": "stream",
          "name": "stdout",
          "text": [
            "[25, 36, 8, 53, 24, 56]\n"
          ]
        }
      ],
      "source": [
        "spending = [25, 36, 8, 53, 24, 56]\n",
        "print(spending)"
      ]
    },
    {
      "cell_type": "code",
      "source": [
        "print(type(spending))"
      ],
      "metadata": {
        "colab": {
          "base_uri": "https://localhost:8080/"
        },
        "id": "LFfvKPLjrolb",
        "outputId": "3525df7d-4cc6-4bde-a59c-f528d6d2dc96"
      },
      "execution_count": 3,
      "outputs": [
        {
          "output_type": "stream",
          "name": "stdout",
          "text": [
            "<class 'list'>\n"
          ]
        }
      ]
    },
    {
      "cell_type": "code",
      "source": [
        "#일년 지출\n",
        "spending_year = [25, 36, 8, 53, 24, 56, 38, 79, 94, 20, 40, 25]\n",
        "print(type(spending_year), spending_year)\n",
        "#상반기 지출\n",
        "spending_6mon = [25, 36, 8, 53, 24, 56]\n",
        "print(type(spending_6mon), spending_6mon)\n"
      ],
      "metadata": {
        "colab": {
          "base_uri": "https://localhost:8080/"
        },
        "id": "49LbF-qpru0R",
        "outputId": "f8856af4-f7c1-4514-955f-70a885dc8080"
      },
      "execution_count": 4,
      "outputs": [
        {
          "output_type": "stream",
          "name": "stdout",
          "text": [
            "<class 'list'> [25, 36, 8, 53, 24, 56, 38, 79, 94, 20, 40, 25]\n",
            "<class 'list'> [25, 36, 8, 53, 24, 56]\n"
          ]
        }
      ]
    },
    {
      "cell_type": "code",
      "source": [
        "#일년 지출\n",
        "spending_year = [25, 36, 8, 53, 24, 56, 38, 79, 94, 20, 40, 25]\n",
        "print(len(spending_year))\n",
        "#상반기 지출\n",
        "spending_6mon = [25, 36, 8, 53, 24, 56]\n",
        "print(len(spending_6mon))"
      ],
      "metadata": {
        "colab": {
          "base_uri": "https://localhost:8080/"
        },
        "id": "mBdbs4icsLK8",
        "outputId": "184ff1f0-ab5f-43db-f997-d4535d5d3fa0"
      },
      "execution_count": 7,
      "outputs": [
        {
          "output_type": "stream",
          "name": "stdout",
          "text": [
            "12\n",
            "6\n"
          ]
        }
      ]
    },
    {
      "cell_type": "code",
      "source": [
        "#좋아하는 음식 리스트 타입\n",
        "food = ['피자', '치킨', '떢볶이', '스테이크', '딸기', '파스타']\n",
        "print(food)"
      ],
      "metadata": {
        "colab": {
          "base_uri": "https://localhost:8080/"
        },
        "id": "1kh8ZXMHscpr",
        "outputId": "ed985754-1baa-41b0-f78f-b940b1333312"
      },
      "execution_count": 8,
      "outputs": [
        {
          "output_type": "stream",
          "name": "stdout",
          "text": [
            "['피자', '치킨', '떢볶이', '스테이크', '딸기', '파스타']\n"
          ]
        }
      ]
    },
    {
      "cell_type": "code",
      "source": [
        "food = ['피자', '치킨', '떢볶이', '스테이크', '딸기', '파스타']\n",
        "print('좋아하는 음식 개수 :', len(food))\n",
        "print('좋아하는 음식 순서 :', food)"
      ],
      "metadata": {
        "colab": {
          "base_uri": "https://localhost:8080/"
        },
        "id": "KhQAkIpOs0Hr",
        "outputId": "8f3834b8-1da5-473d-d04a-a12b55b0b1e5"
      },
      "execution_count": 10,
      "outputs": [
        {
          "output_type": "stream",
          "name": "stdout",
          "text": [
            "좋아하는 음식 개수 : 6\n",
            "좋아하는 음식 순서 : ['피자', '치킨', '떢볶이', '스테이크', '딸기', '파스타']\n"
          ]
        }
      ]
    },
    {
      "cell_type": "code",
      "source": [
        "#리스트의 인덱스\n",
        "spending = [25, 36, 8, 53, 24, 56]\n",
        "print(spending[0])\n",
        "print(spending[1])\n",
        "print(spending[2])\n",
        "print(spending[3])\n",
        "print(spending[4])\n",
        "print(spending[5])"
      ],
      "metadata": {
        "colab": {
          "base_uri": "https://localhost:8080/"
        },
        "id": "hNM1QXIVtBjW",
        "outputId": "5ce95248-0960-4ca6-8f3f-a33b02e434fb"
      },
      "execution_count": 13,
      "outputs": [
        {
          "output_type": "stream",
          "name": "stdout",
          "text": [
            "25\n",
            "36\n",
            "8\n",
            "53\n",
            "24\n",
            "56\n"
          ]
        }
      ]
    },
    {
      "cell_type": "code",
      "source": [
        "print('3월 지출 변경 전 :', spending)\n",
        "spending[2] += 10\n",
        "print('3월 지출 변경 후 :', spending)\n"
      ],
      "metadata": {
        "colab": {
          "base_uri": "https://localhost:8080/"
        },
        "id": "ZKv24iJKtP6Z",
        "outputId": "f3fc586a-4bc9-4918-8577-c88fe89d9b0e"
      },
      "execution_count": 14,
      "outputs": [
        {
          "output_type": "stream",
          "name": "stdout",
          "text": [
            "3월 지출 변경 전 : [25, 36, 8, 53, 24, 56]\n",
            "3월 지출 변경 후 : [25, 36, 18, 53, 24, 56]\n"
          ]
        }
      ]
    },
    {
      "cell_type": "code",
      "source": [
        "print('5월 지출 변경 전 :', spending)\n",
        "spending[4] -= 2\n",
        "print('5월 지출 변경 후 :', spending)"
      ],
      "metadata": {
        "colab": {
          "base_uri": "https://localhost:8080/"
        },
        "id": "c2pxo9ontpu9",
        "outputId": "8e5a11c1-fa2f-4d08-adac-411b8c0441ba"
      },
      "execution_count": 15,
      "outputs": [
        {
          "output_type": "stream",
          "name": "stdout",
          "text": [
            "5월 지출 변경 전 : [25, 36, 18, 53, 24, 56]\n",
            "5월 지출 변경 후 : [25, 36, 18, 53, 22, 56]\n"
          ]
        }
      ]
    },
    {
      "cell_type": "code",
      "source": [
        "#반복문으로 리스트 다루기\n",
        "for i in [25, 36, 8, 53, 24, 56]:\n",
        "  print(i)"
      ],
      "metadata": {
        "colab": {
          "base_uri": "https://localhost:8080/"
        },
        "id": "kMgiOk-ft2iY",
        "outputId": "12055c3c-2ba3-4dab-e67a-97212292792e"
      },
      "execution_count": 16,
      "outputs": [
        {
          "output_type": "stream",
          "name": "stdout",
          "text": [
            "25\n",
            "36\n",
            "8\n",
            "53\n",
            "24\n",
            "56\n"
          ]
        }
      ]
    },
    {
      "cell_type": "code",
      "source": [
        "spending = [25, 36, 8, 53, 24, 56]\n",
        "for s in spending:\n",
        "  print(s)"
      ],
      "metadata": {
        "colab": {
          "base_uri": "https://localhost:8080/"
        },
        "id": "GE0O45utuDSv",
        "outputId": "702bb65b-b8de-47e4-cd7b-35f9f007a783"
      },
      "execution_count": 17,
      "outputs": [
        {
          "output_type": "stream",
          "name": "stdout",
          "text": [
            "25\n",
            "36\n",
            "8\n",
            "53\n",
            "24\n",
            "56\n"
          ]
        }
      ]
    },
    {
      "cell_type": "code",
      "source": [
        ""
      ],
      "metadata": {
        "id": "hnp1HSoXuLrB"
      },
      "execution_count": null,
      "outputs": []
    }
  ]
}