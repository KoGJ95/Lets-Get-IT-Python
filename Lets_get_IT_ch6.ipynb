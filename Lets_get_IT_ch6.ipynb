{
  "nbformat": 4,
  "nbformat_minor": 0,
  "metadata": {
    "colab": {
      "name": "Lets get IT ch6.ipynb",
      "provenance": [],
      "collapsed_sections": [],
      "authorship_tag": "ABX9TyP5TR1q8qplAAuCDsFI/qIG",
      "include_colab_link": true
    },
    "kernelspec": {
      "name": "python3",
      "display_name": "Python 3"
    },
    "language_info": {
      "name": "python"
    }
  },
  "cells": [
    {
      "cell_type": "markdown",
      "metadata": {
        "id": "view-in-github",
        "colab_type": "text"
      },
      "source": [
        "<a href=\"https://colab.research.google.com/github/KoGJ95/Lets-Get-IT-Python/blob/main/Lets_get_IT_ch6.ipynb\" target=\"_parent\"><img src=\"https://colab.research.google.com/assets/colab-badge.svg\" alt=\"Open In Colab\"/></a>"
      ]
    },
    {
      "cell_type": "code",
      "execution_count": null,
      "metadata": {
        "colab": {
          "base_uri": "https://localhost:8080/"
        },
        "id": "e2gj08RarOG_",
        "outputId": "42c39a3f-d3e4-4bfa-e77e-b978525176a9"
      },
      "outputs": [
        {
          "output_type": "stream",
          "name": "stdout",
          "text": [
            "[25, 36, 8, 53, 24, 56]\n"
          ]
        }
      ],
      "source": [
        "spending = [25, 36, 8, 53, 24, 56]\n",
        "print(spending)"
      ]
    },
    {
      "cell_type": "code",
      "source": [
        "print(type(spending))"
      ],
      "metadata": {
        "colab": {
          "base_uri": "https://localhost:8080/"
        },
        "id": "LFfvKPLjrolb",
        "outputId": "3525df7d-4cc6-4bde-a59c-f528d6d2dc96"
      },
      "execution_count": null,
      "outputs": [
        {
          "output_type": "stream",
          "name": "stdout",
          "text": [
            "<class 'list'>\n"
          ]
        }
      ]
    },
    {
      "cell_type": "code",
      "source": [
        "#일년 지출\n",
        "spending_year = [25, 36, 8, 53, 24, 56, 38, 79, 94, 20, 40, 25]\n",
        "print(type(spending_year), spending_year)\n",
        "#상반기 지출\n",
        "spending_6mon = [25, 36, 8, 53, 24, 56]\n",
        "print(type(spending_6mon), spending_6mon)\n"
      ],
      "metadata": {
        "colab": {
          "base_uri": "https://localhost:8080/"
        },
        "id": "49LbF-qpru0R",
        "outputId": "f8856af4-f7c1-4514-955f-70a885dc8080"
      },
      "execution_count": null,
      "outputs": [
        {
          "output_type": "stream",
          "name": "stdout",
          "text": [
            "<class 'list'> [25, 36, 8, 53, 24, 56, 38, 79, 94, 20, 40, 25]\n",
            "<class 'list'> [25, 36, 8, 53, 24, 56]\n"
          ]
        }
      ]
    },
    {
      "cell_type": "code",
      "source": [
        "#일년 지출\n",
        "spending_year = [25, 36, 8, 53, 24, 56, 38, 79, 94, 20, 40, 25]\n",
        "print(len(spending_year))\n",
        "#상반기 지출\n",
        "spending_6mon = [25, 36, 8, 53, 24, 56]\n",
        "print(len(spending_6mon))"
      ],
      "metadata": {
        "colab": {
          "base_uri": "https://localhost:8080/"
        },
        "id": "mBdbs4icsLK8",
        "outputId": "184ff1f0-ab5f-43db-f997-d4535d5d3fa0"
      },
      "execution_count": null,
      "outputs": [
        {
          "output_type": "stream",
          "name": "stdout",
          "text": [
            "12\n",
            "6\n"
          ]
        }
      ]
    },
    {
      "cell_type": "code",
      "source": [
        "#좋아하는 음식 리스트 타입\n",
        "food = ['피자', '치킨', '떢볶이', '스테이크', '딸기', '파스타']\n",
        "print(food)"
      ],
      "metadata": {
        "colab": {
          "base_uri": "https://localhost:8080/"
        },
        "id": "1kh8ZXMHscpr",
        "outputId": "ed985754-1baa-41b0-f78f-b940b1333312"
      },
      "execution_count": null,
      "outputs": [
        {
          "output_type": "stream",
          "name": "stdout",
          "text": [
            "['피자', '치킨', '떢볶이', '스테이크', '딸기', '파스타']\n"
          ]
        }
      ]
    },
    {
      "cell_type": "code",
      "source": [
        "food = ['피자', '치킨', '떢볶이', '스테이크', '딸기', '파스타']\n",
        "print('좋아하는 음식 개수 :', len(food))\n",
        "print('좋아하는 음식 순서 :', food)"
      ],
      "metadata": {
        "colab": {
          "base_uri": "https://localhost:8080/"
        },
        "id": "KhQAkIpOs0Hr",
        "outputId": "8f3834b8-1da5-473d-d04a-a12b55b0b1e5"
      },
      "execution_count": null,
      "outputs": [
        {
          "output_type": "stream",
          "name": "stdout",
          "text": [
            "좋아하는 음식 개수 : 6\n",
            "좋아하는 음식 순서 : ['피자', '치킨', '떢볶이', '스테이크', '딸기', '파스타']\n"
          ]
        }
      ]
    },
    {
      "cell_type": "code",
      "source": [
        "#리스트의 인덱스\n",
        "spending = [25, 36, 8, 53, 24, 56]\n",
        "print(spending[0])\n",
        "print(spending[1])\n",
        "print(spending[2])\n",
        "print(spending[3])\n",
        "print(spending[4])\n",
        "print(spending[5])"
      ],
      "metadata": {
        "colab": {
          "base_uri": "https://localhost:8080/"
        },
        "id": "hNM1QXIVtBjW",
        "outputId": "5ce95248-0960-4ca6-8f3f-a33b02e434fb"
      },
      "execution_count": null,
      "outputs": [
        {
          "output_type": "stream",
          "name": "stdout",
          "text": [
            "25\n",
            "36\n",
            "8\n",
            "53\n",
            "24\n",
            "56\n"
          ]
        }
      ]
    },
    {
      "cell_type": "code",
      "source": [
        "print('3월 지출 변경 전 :', spending)\n",
        "spending[2] += 10\n",
        "print('3월 지출 변경 후 :', spending)\n"
      ],
      "metadata": {
        "colab": {
          "base_uri": "https://localhost:8080/"
        },
        "id": "ZKv24iJKtP6Z",
        "outputId": "f3fc586a-4bc9-4918-8577-c88fe89d9b0e"
      },
      "execution_count": null,
      "outputs": [
        {
          "output_type": "stream",
          "name": "stdout",
          "text": [
            "3월 지출 변경 전 : [25, 36, 8, 53, 24, 56]\n",
            "3월 지출 변경 후 : [25, 36, 18, 53, 24, 56]\n"
          ]
        }
      ]
    },
    {
      "cell_type": "code",
      "source": [
        "print('5월 지출 변경 전 :', spending)\n",
        "spending[4] -= 2\n",
        "print('5월 지출 변경 후 :', spending)"
      ],
      "metadata": {
        "colab": {
          "base_uri": "https://localhost:8080/"
        },
        "id": "c2pxo9ontpu9",
        "outputId": "8e5a11c1-fa2f-4d08-adac-411b8c0441ba"
      },
      "execution_count": null,
      "outputs": [
        {
          "output_type": "stream",
          "name": "stdout",
          "text": [
            "5월 지출 변경 전 : [25, 36, 18, 53, 24, 56]\n",
            "5월 지출 변경 후 : [25, 36, 18, 53, 22, 56]\n"
          ]
        }
      ]
    },
    {
      "cell_type": "code",
      "source": [
        "#반복문으로 리스트 다루기\n",
        "for i in [25, 36, 8, 53, 24, 56]:\n",
        "  print(i)"
      ],
      "metadata": {
        "colab": {
          "base_uri": "https://localhost:8080/"
        },
        "id": "kMgiOk-ft2iY",
        "outputId": "12055c3c-2ba3-4dab-e67a-97212292792e"
      },
      "execution_count": null,
      "outputs": [
        {
          "output_type": "stream",
          "name": "stdout",
          "text": [
            "25\n",
            "36\n",
            "8\n",
            "53\n",
            "24\n",
            "56\n"
          ]
        }
      ]
    },
    {
      "cell_type": "code",
      "source": [
        "spending = [25, 36, 8, 53, 24, 56]\n",
        "for s in spending:\n",
        "  print(s)"
      ],
      "metadata": {
        "colab": {
          "base_uri": "https://localhost:8080/"
        },
        "id": "GE0O45utuDSv",
        "outputId": "702bb65b-b8de-47e4-cd7b-35f9f007a783"
      },
      "execution_count": null,
      "outputs": [
        {
          "output_type": "stream",
          "name": "stdout",
          "text": [
            "25\n",
            "36\n",
            "8\n",
            "53\n",
            "24\n",
            "56\n"
          ]
        }
      ]
    },
    {
      "cell_type": "code",
      "source": [
        "spending = [25, 36, 8, 53, 24, 56,]\n",
        "for i in range(6):\n",
        "  print(spending[i])"
      ],
      "metadata": {
        "id": "hnp1HSoXuLrB",
        "colab": {
          "base_uri": "https://localhost:8080/"
        },
        "outputId": "78b19946-c754-492e-a5f5-5d19220abac0"
      },
      "execution_count": null,
      "outputs": [
        {
          "output_type": "stream",
          "name": "stdout",
          "text": [
            "25\n",
            "36\n",
            "8\n",
            "53\n",
            "24\n",
            "56\n"
          ]
        }
      ]
    },
    {
      "cell_type": "code",
      "source": [
        "spending = [25, 36, 8, 53, 24, 56]\n",
        "for s in spending:\n",
        "  print(s)"
      ],
      "metadata": {
        "id": "TJZyZSQDIUg6",
        "colab": {
          "base_uri": "https://localhost:8080/"
        },
        "outputId": "be370e5e-8bcb-4507-f24a-8406dd459c37"
      },
      "execution_count": null,
      "outputs": [
        {
          "output_type": "stream",
          "name": "stdout",
          "text": [
            "25\n",
            "36\n",
            "8\n",
            "53\n",
            "24\n",
            "56\n"
          ]
        }
      ]
    },
    {
      "cell_type": "code",
      "source": [
        "#인덱스 사용하기\n",
        "spending = [25, 46, 8, 53, 24, 56]\n",
        "for i in range(6):\n",
        "  print(spending[i])"
      ],
      "metadata": {
        "colab": {
          "base_uri": "https://localhost:8080/"
        },
        "id": "OgG4byRU2FjD",
        "outputId": "8490378d-b93b-45ab-8955-fa8432d61396"
      },
      "execution_count": null,
      "outputs": [
        {
          "output_type": "stream",
          "name": "stdout",
          "text": [
            "25\n",
            "46\n",
            "8\n",
            "53\n",
            "24\n",
            "56\n"
          ]
        }
      ]
    },
    {
      "cell_type": "code",
      "source": [
        "for i in range(6):\n",
        "  print(i + 1, '월 지출은', spending[i])"
      ],
      "metadata": {
        "colab": {
          "base_uri": "https://localhost:8080/"
        },
        "id": "SlZ7BNb88LbW",
        "outputId": "cee8cf82-e946-43e8-ba74-875bf4e566f0"
      },
      "execution_count": null,
      "outputs": [
        {
          "output_type": "stream",
          "name": "stdout",
          "text": [
            "1 월 지출은 25\n",
            "2 월 지출은 46\n",
            "3 월 지출은 8\n",
            "4 월 지출은 53\n",
            "5 월 지출은 24\n",
            "6 월 지출은 56\n"
          ]
        }
      ]
    },
    {
      "cell_type": "code",
      "source": [
        "for i in range (len(spending)):\n",
        "  print(i + 1, '월 지출은', spending[i], end =', ')"
      ],
      "metadata": {
        "colab": {
          "base_uri": "https://localhost:8080/"
        },
        "id": "qRLofJdf8UMR",
        "outputId": "1510f550-b967-4f18-8e27-fa20170e676c"
      },
      "execution_count": null,
      "outputs": [
        {
          "output_type": "stream",
          "name": "stdout",
          "text": [
            "1 월 지출은 25, 2 월 지출은 46, 3 월 지출은 8, 4 월 지출은 53, 5 월 지출은 24, 6 월 지출은 56, "
          ]
        }
      ]
    },
    {
      "cell_type": "code",
      "source": [
        "food = ['피자', '치킨', '떡볶이', '스테이크', '파스타']\n",
        "#가장 좋아하는 음식은?\n",
        "print(food[0])\n",
        "#세 번째로 좋아하는 음식은?\n",
        "print(food[2])\n",
        "#가장 덜 좋아하는 음식은?\n",
        "print(food[4])"
      ],
      "metadata": {
        "colab": {
          "base_uri": "https://localhost:8080/"
        },
        "id": "8E8WfbR88hvE",
        "outputId": "d9fda73f-d6a3-4740-816f-970cc72883eb"
      },
      "execution_count": null,
      "outputs": [
        {
          "output_type": "stream",
          "name": "stdout",
          "text": [
            "피자\n",
            "떡볶이\n",
            "파스타\n"
          ]
        }
      ]
    },
    {
      "cell_type": "code",
      "source": [
        "#가장 덜 좋아하는 음식은?\n",
        "print(food[len(food)- 1])"
      ],
      "metadata": {
        "colab": {
          "base_uri": "https://localhost:8080/"
        },
        "id": "avapolrQ896X",
        "outputId": "16ac51c8-f67a-46be-9a37-b67367eaef9e"
      },
      "execution_count": null,
      "outputs": [
        {
          "output_type": "stream",
          "name": "stdout",
          "text": [
            "파스타\n"
          ]
        }
      ]
    },
    {
      "cell_type": "code",
      "source": [
        "#음수 인덱스 사용하기\n",
        "#가장 덜 좋아하는 음식은?\n",
        "print(food[-1])"
      ],
      "metadata": {
        "colab": {
          "base_uri": "https://localhost:8080/"
        },
        "id": "4LTI2UwM9EeU",
        "outputId": "82b7386b-4669-4283-cfaa-2290e1755e73"
      },
      "execution_count": null,
      "outputs": [
        {
          "output_type": "stream",
          "name": "stdout",
          "text": [
            "파스타\n"
          ]
        }
      ]
    },
    {
      "cell_type": "code",
      "source": [
        "#두 번쨰로 덜 좋아하는 음식은?\n",
        "print(food[-2])\n",
        "#세 번째로 덜 좋아하는 음식은?\n",
        "print(food[-3])"
      ],
      "metadata": {
        "colab": {
          "base_uri": "https://localhost:8080/"
        },
        "id": "Gn3ZhNVU9NcZ",
        "outputId": "f7612577-b114-4525-b2c1-48a431d5a209"
      },
      "execution_count": null,
      "outputs": [
        {
          "output_type": "stream",
          "name": "stdout",
          "text": [
            "스테이크\n",
            "떡볶이\n"
          ]
        }
      ]
    },
    {
      "cell_type": "code",
      "source": [
        "#리스트에 요소 추가하고 삭제하기\n",
        "#요소 추가하기\n",
        "food = ['피자', '치킨', '떡볶이', '스테이크', '파스타']\n",
        "food.append('감자칩')\n",
        "print(food)"
      ],
      "metadata": {
        "colab": {
          "base_uri": "https://localhost:8080/"
        },
        "id": "qW4w-KWM9XNn",
        "outputId": "7cfe7a8e-9996-432b-90bd-a23b3ec3d4d0"
      },
      "execution_count": null,
      "outputs": [
        {
          "output_type": "stream",
          "name": "stdout",
          "text": [
            "['피자', '치킨', '떡볶이', '스테이크', '파스타', '감자칩']\n"
          ]
        }
      ]
    },
    {
      "cell_type": "code",
      "source": [
        "food.append('카레') \n",
        "print(food)"
      ],
      "metadata": {
        "colab": {
          "base_uri": "https://localhost:8080/"
        },
        "id": "U1hNJejU9nj3",
        "outputId": "a53a86a9-b967-4025-aa42-9b3815ede9bb"
      },
      "execution_count": null,
      "outputs": [
        {
          "output_type": "stream",
          "name": "stdout",
          "text": [
            "['피자', '치킨', '떡볶이', '스테이크', '파스타', '감자칩', '카레', '카레']\n"
          ]
        }
      ]
    },
    {
      "cell_type": "code",
      "source": [
        "abc = [] #빈 리스트 만들기\n",
        "abc.append(24)\n",
        "abc.append(38)\n",
        "abc.append(19)\n",
        "abc.append(40)\n",
        "print(abc)"
      ],
      "metadata": {
        "colab": {
          "base_uri": "https://localhost:8080/"
        },
        "id": "Yu5dyc8d9sqp",
        "outputId": "30953f4e-2674-4599-8f3e-da595e7d1b44"
      },
      "execution_count": null,
      "outputs": [
        {
          "output_type": "stream",
          "name": "stdout",
          "text": [
            "[24, 38, 19, 40]\n"
          ]
        }
      ]
    },
    {
      "cell_type": "code",
      "source": [
        "to_do = []\n",
        "task = input('해야 할 일을 입력해 주세요 ---> ')\n",
        "to_do.append(task)\n",
        "print(to_do)"
      ],
      "metadata": {
        "colab": {
          "base_uri": "https://localhost:8080/"
        },
        "id": "1n9PKVIw94pl",
        "outputId": "765f2efd-25db-433a-c388-e0ab719b190b"
      },
      "execution_count": null,
      "outputs": [
        {
          "output_type": "stream",
          "name": "stdout",
          "text": [
            "해야 할 일을 입력해 주세요 ---> 공부\n",
            "['공부']\n"
          ]
        }
      ]
    },
    {
      "cell_type": "code",
      "source": [
        "#요소 삭제하기\n",
        "food = ['피자', '치킨', '떡볶이', '스테이크', '파스타']\n",
        "food.remove('떡볶이')\n",
        "print(food)"
      ],
      "metadata": {
        "id": "4_YvlwTv-DRf",
        "colab": {
          "base_uri": "https://localhost:8080/"
        },
        "outputId": "969def6f-56e9-4ada-bb56-21d0930fc86a"
      },
      "execution_count": null,
      "outputs": [
        {
          "output_type": "stream",
          "name": "stdout",
          "text": [
            "['피자', '치킨', '스테이크', '파스타']\n"
          ]
        }
      ]
    },
    {
      "cell_type": "code",
      "source": [
        "food = ['피자', '치킨', '떡볶이', '스테이크', '파스타']\n",
        "del food[-1]\n",
        "print(food)"
      ],
      "metadata": {
        "colab": {
          "base_uri": "https://localhost:8080/"
        },
        "id": "mjp1nTwLa1d0",
        "outputId": "21a13f4f-3502-41c2-d59b-745f84090867"
      },
      "execution_count": null,
      "outputs": [
        {
          "output_type": "stream",
          "name": "stdout",
          "text": [
            "['피자', '치킨', '떡볶이', '스테이크']\n"
          ]
        }
      ]
    },
    {
      "cell_type": "code",
      "source": [
        "#리스트에서 필요한 요소만 꺼내기\n",
        "food = ['피자', '치킨', '떡볶이', '스테이크', '파스타']\n",
        "print(food[0:3])"
      ],
      "metadata": {
        "colab": {
          "base_uri": "https://localhost:8080/"
        },
        "id": "fRX5puJRbLp4",
        "outputId": "f94bdbfb-dd54-40a6-9f4c-c93b530ec395"
      },
      "execution_count": null,
      "outputs": [
        {
          "output_type": "stream",
          "name": "stdout",
          "text": [
            "['피자', '치킨', '떡볶이']\n"
          ]
        }
      ]
    },
    {
      "cell_type": "code",
      "source": [
        "print(food[2:4])"
      ],
      "metadata": {
        "colab": {
          "base_uri": "https://localhost:8080/"
        },
        "id": "rgXvIZc8buEq",
        "outputId": "4903d970-30af-405b-c50e-623cc8e3f70f"
      },
      "execution_count": null,
      "outputs": [
        {
          "output_type": "stream",
          "name": "stdout",
          "text": [
            "['떡볶이', '스테이크']\n"
          ]
        }
      ]
    },
    {
      "cell_type": "code",
      "source": [
        "print(food[:3])"
      ],
      "metadata": {
        "colab": {
          "base_uri": "https://localhost:8080/"
        },
        "id": "rt6mjt8qbxgG",
        "outputId": "698525c7-92e2-4d83-a8b1-4b2a21ac41e0"
      },
      "execution_count": null,
      "outputs": [
        {
          "output_type": "stream",
          "name": "stdout",
          "text": [
            "['피자', '치킨', '떡볶이']\n"
          ]
        }
      ]
    },
    {
      "cell_type": "code",
      "source": [
        "print(food[-2:])"
      ],
      "metadata": {
        "id": "qOAahb0Kb2Ys",
        "outputId": "dffecc8d-afcc-44a5-de1f-6810ce1beb0b",
        "colab": {
          "base_uri": "https://localhost:8080/"
        }
      },
      "execution_count": null,
      "outputs": [
        {
          "output_type": "stream",
          "name": "stdout",
          "text": [
            "['스테이크', '파스타']\n"
          ]
        }
      ]
    },
    {
      "cell_type": "code",
      "source": [
        "spending_6mon = [25, 36, 8, 53, 24, 56]\n",
        "print('1월부터 3월 지출:', spending_6mon[:3])\n",
        "print('3월부터 5월 지출:', spending_6mon[2:5])\n",
        "print('5월부터 6월 지출:', spending_6mon[-2:])"
      ],
      "metadata": {
        "id": "x6WuDrpxb5FI",
        "colab": {
          "base_uri": "https://localhost:8080/"
        },
        "outputId": "1964fd9d-00e8-45ad-c844-3fa6920064d2"
      },
      "execution_count": 2,
      "outputs": [
        {
          "output_type": "stream",
          "name": "stdout",
          "text": [
            "1월부터 3월 지출: [25, 36, 8]\n",
            "3월부터 5월 지출: [8, 53, 24]\n",
            "5월부터 6월 지출: [24, 56]\n"
          ]
        }
      ]
    },
    {
      "cell_type": "code",
      "source": [
        "a = '나는야 우주최강'\n",
        "print(a[:3])"
      ],
      "metadata": {
        "colab": {
          "base_uri": "https://localhost:8080/"
        },
        "id": "m8TYIOlbksYU",
        "outputId": "021217f3-a842-46b1-fc60-fc8bfb9280b0"
      },
      "execution_count": 3,
      "outputs": [
        {
          "output_type": "stream",
          "name": "stdout",
          "text": [
            "나는야\n"
          ]
        }
      ]
    },
    {
      "cell_type": "code",
      "source": [
        "print(a[-4:])"
      ],
      "metadata": {
        "colab": {
          "base_uri": "https://localhost:8080/"
        },
        "id": "7YDBTchnkxAz",
        "outputId": "b775f32f-d846-433c-86b3-92a2e7ddefdc"
      },
      "execution_count": 4,
      "outputs": [
        {
          "output_type": "stream",
          "name": "stdout",
          "text": [
            "우주최강\n"
          ]
        }
      ]
    },
    {
      "cell_type": "code",
      "source": [
        "print(a[-4:-2])"
      ],
      "metadata": {
        "colab": {
          "base_uri": "https://localhost:8080/"
        },
        "id": "a90vysqwk07X",
        "outputId": "f41c724d-b21e-44d1-ebbb-4000096a7ace"
      },
      "execution_count": 5,
      "outputs": [
        {
          "output_type": "stream",
          "name": "stdout",
          "text": [
            "우주\n"
          ]
        }
      ]
    },
    {
      "cell_type": "code",
      "source": [
        "date = '2021-04-15'\n",
        "print('연도:', date[:4])\n",
        "print('월:', date[5:7])\n",
        "print('일:', date[-2:])"
      ],
      "metadata": {
        "colab": {
          "base_uri": "https://localhost:8080/"
        },
        "id": "Rkc7kDPLk3MX",
        "outputId": "61c58b9c-3ea4-427b-99cb-02bd0aac570d"
      },
      "execution_count": 6,
      "outputs": [
        {
          "output_type": "stream",
          "name": "stdout",
          "text": [
            "연도: 2021\n",
            "월: 04\n",
            "일: 15\n"
          ]
        }
      ]
    },
    {
      "cell_type": "code",
      "source": [
        "#문자열 나누기\n",
        "a ='나는야 우주최강'\n",
        "print(a.split())"
      ],
      "metadata": {
        "colab": {
          "base_uri": "https://localhost:8080/"
        },
        "id": "35ukeE4GlSbr",
        "outputId": "4d70dd82-dad9-4c4f-c9ff-2d72f6c1efb2"
      },
      "execution_count": 7,
      "outputs": [
        {
          "output_type": "stream",
          "name": "stdout",
          "text": [
            "['나는야', '우주최강']\n"
          ]
        }
      ]
    },
    {
      "cell_type": "code",
      "source": [
        "a = '나는야 우주최강'\n",
        "print(a.split())\n",
        "print(a.split()[0])\n",
        "print(a.split()[1])"
      ],
      "metadata": {
        "colab": {
          "base_uri": "https://localhost:8080/"
        },
        "id": "AtsqCU-tlZFW",
        "outputId": "362b7694-3a0b-431b-da0d-053245a8eea3"
      },
      "execution_count": 8,
      "outputs": [
        {
          "output_type": "stream",
          "name": "stdout",
          "text": [
            "['나는야', '우주최강']\n",
            "나는야\n",
            "우주최강\n"
          ]
        }
      ]
    },
    {
      "cell_type": "code",
      "source": [
        "date = '2021-04-15'\n",
        "print(date.split('-'))"
      ],
      "metadata": {
        "colab": {
          "base_uri": "https://localhost:8080/"
        },
        "id": "IzYJ_if7lk8b",
        "outputId": "6bd6198b-867b-4f6e-956c-563c46069a44"
      },
      "execution_count": 9,
      "outputs": [
        {
          "output_type": "stream",
          "name": "stdout",
          "text": [
            "['2021', '04', '15']\n"
          ]
        }
      ]
    },
    {
      "cell_type": "code",
      "source": [
        "date = '2021-04-15'\n",
        "print(date.split('-')[0])\n",
        "print(date.split('-')[1])\n",
        "print(date.split('-')[2])"
      ],
      "metadata": {
        "colab": {
          "base_uri": "https://localhost:8080/"
        },
        "id": "l5KKhVZhl1ow",
        "outputId": "64915100-507e-424c-d976-9f94f355147c"
      },
      "execution_count": 11,
      "outputs": [
        {
          "output_type": "stream",
          "name": "stdout",
          "text": [
            "2021\n",
            "04\n",
            "15\n"
          ]
        }
      ]
    },
    {
      "cell_type": "code",
      "source": [
        "#다양한 리스트 명령어 사용하기\n",
        "#sort\n",
        "food = ['피자', '치킨', '스테이크', '된장찌개', '바나나', '파스타', '감자칩']\n",
        "food.sort()\n",
        "print('정렬 후:', food)"
      ],
      "metadata": {
        "colab": {
          "base_uri": "https://localhost:8080/"
        },
        "id": "Kk2pHRSxmHqx",
        "outputId": "37b46547-7a07-423e-f41d-f2706ff3eb69"
      },
      "execution_count": 12,
      "outputs": [
        {
          "output_type": "stream",
          "name": "stdout",
          "text": [
            "정렬 후: ['감자칩', '된장찌개', '바나나', '스테이크', '치킨', '파스타', '피자']\n"
          ]
        }
      ]
    },
    {
      "cell_type": "code",
      "source": [
        "food = ['피자', '치킨', '스테이크', '된장찌개', '바나나', '파스타', '감자칩']\n",
        "food.sort(reverse = True)\n",
        "print('정렬 후', food)"
      ],
      "metadata": {
        "colab": {
          "base_uri": "https://localhost:8080/"
        },
        "id": "wK_kXYiymi7C",
        "outputId": "1ea6d011-a873-4852-b2aa-39146295725f"
      },
      "execution_count": 13,
      "outputs": [
        {
          "output_type": "stream",
          "name": "stdout",
          "text": [
            "정렬 후 ['피자', '파스타', '치킨', '스테이크', '바나나', '된장찌개', '감자칩']\n"
          ]
        }
      ]
    },
    {
      "cell_type": "code",
      "source": [
        "spending_6mon = [25, 36, 8, 53, 24, 56]\n",
        "spending_6mon.sort(reverse = True)\n",
        "print(spending_6mon[0:2])"
      ],
      "metadata": {
        "colab": {
          "base_uri": "https://localhost:8080/"
        },
        "id": "HwLM5x59m0e0",
        "outputId": "b2db628c-4b62-4dc7-eb65-651535cd8b79"
      },
      "execution_count": 14,
      "outputs": [
        {
          "output_type": "stream",
          "name": "stdout",
          "text": [
            "[56, 53]\n"
          ]
        }
      ]
    },
    {
      "cell_type": "code",
      "source": [
        ""
      ],
      "metadata": {
        "id": "Kh5ORM3EnBKQ"
      },
      "execution_count": null,
      "outputs": []
    }
  ]
}