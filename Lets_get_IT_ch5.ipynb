{
  "nbformat": 4,
  "nbformat_minor": 0,
  "metadata": {
    "colab": {
      "name": "Lets get IT ch5.ipynb",
      "provenance": [],
      "collapsed_sections": [],
      "authorship_tag": "ABX9TyOxWZIS1GHUBABo6VrElcLP",
      "include_colab_link": true
    },
    "kernelspec": {
      "name": "python3",
      "display_name": "Python 3"
    },
    "language_info": {
      "name": "python"
    }
  },
  "cells": [
    {
      "cell_type": "markdown",
      "metadata": {
        "id": "view-in-github",
        "colab_type": "text"
      },
      "source": [
        "<a href=\"https://colab.research.google.com/github/KoGJ95/Lets-Get-IT-Python/blob/main/Lets_get_IT_ch5.ipynb\" target=\"_parent\"><img src=\"https://colab.research.google.com/assets/colab-badge.svg\" alt=\"Open In Colab\"/></a>"
      ]
    },
    {
      "cell_type": "code",
      "source": [
        "###반복문###\n",
        "\"\"\"\n",
        "형식\n",
        "for a in data:\n",
        "  명령어 B\n",
        "\"\"\""
      ],
      "metadata": {
        "colab": {
          "base_uri": "https://localhost:8080/",
          "height": 37
        },
        "id": "9udxViLbr_W3",
        "outputId": "b3e2040b-5b3c-4e63-9cee-fda28f6d79ee"
      },
      "execution_count": null,
      "outputs": [
        {
          "output_type": "execute_result",
          "data": {
            "text/plain": [
              "'\\n형식\\nfor a in data:\\n  명령어 B\\n'"
            ],
            "application/vnd.google.colaboratory.intrinsic+json": {
              "type": "string"
            }
          },
          "metadata": {},
          "execution_count": 2
        }
      ]
    },
    {
      "cell_type": "code",
      "source": [
        "for a in [1,2,3,4,5]:\n",
        "  print(a)"
      ],
      "metadata": {
        "colab": {
          "base_uri": "https://localhost:8080/"
        },
        "id": "cBWO3UsPsCD7",
        "outputId": "3071a560-6272-48e1-eee6-c2ffe9888a64"
      },
      "execution_count": null,
      "outputs": [
        {
          "output_type": "stream",
          "name": "stdout",
          "text": [
            "1\n",
            "2\n",
            "3\n",
            "4\n",
            "5\n"
          ]
        }
      ]
    },
    {
      "cell_type": "code",
      "source": [
        "for a in [1,2,3,4,5]:\n",
        "  print('안녕하세요!')"
      ],
      "metadata": {
        "colab": {
          "base_uri": "https://localhost:8080/"
        },
        "id": "OKWyoIkksVdJ",
        "outputId": "e5c5dbd6-0cce-46eb-ea60-8f33b14cbfd1"
      },
      "execution_count": null,
      "outputs": [
        {
          "output_type": "stream",
          "name": "stdout",
          "text": [
            "안녕하세요!\n",
            "안녕하세요!\n",
            "안녕하세요!\n",
            "안녕하세요!\n",
            "안녕하세요!\n"
          ]
        }
      ]
    },
    {
      "cell_type": "code",
      "source": [
        "for a in [1,2,3,4,5]:\n",
        "  print(a, \"을(를) 저장 중 입니다.\")"
      ],
      "metadata": {
        "colab": {
          "base_uri": "https://localhost:8080/"
        },
        "id": "emcLXaQhsbRO",
        "outputId": "1891f87a-fddc-4b60-f5b6-6d20d1a6972e"
      },
      "execution_count": null,
      "outputs": [
        {
          "output_type": "stream",
          "name": "stdout",
          "text": [
            "1 을(를) 저장 중 입니다.\n",
            "2 을(를) 저장 중 입니다.\n",
            "3 을(를) 저장 중 입니다.\n",
            "4 을(를) 저장 중 입니다.\n",
            "5 을(를) 저장 중 입니다.\n"
          ]
        }
      ]
    },
    {
      "cell_type": "code",
      "source": [
        "for a in [9,8,7,6,5,4,3,2,1]:\n",
        "  print(a, '안녕하세요')"
      ],
      "metadata": {
        "colab": {
          "base_uri": "https://localhost:8080/"
        },
        "id": "cNgLAMlCs1xf",
        "outputId": "13f17f3a-9000-4316-8798-a22add43e7cc"
      },
      "execution_count": null,
      "outputs": [
        {
          "output_type": "stream",
          "name": "stdout",
          "text": [
            "9 안녕하세요\n",
            "8 안녕하세요\n",
            "7 안녕하세요\n",
            "6 안녕하세요\n",
            "5 안녕하세요\n",
            "4 안녕하세요\n",
            "3 안녕하세요\n",
            "2 안녕하세요\n",
            "1 안녕하세요\n"
          ]
        }
      ]
    },
    {
      "cell_type": "code",
      "source": [
        "for a in range(1,20):\n",
        "  print(a, '선생님 다시는 거짓말을 하지 않겠습니다.')\n",
        "#종료 숫자 -1에서 종료됨."
      ],
      "metadata": {
        "colab": {
          "base_uri": "https://localhost:8080/"
        },
        "id": "Wk6yrEqLtQaK",
        "outputId": "b3dec5cb-e819-4282-e81f-eb91c08756dc"
      },
      "execution_count": null,
      "outputs": [
        {
          "output_type": "stream",
          "name": "stdout",
          "text": [
            "1 선생님 다시는 거짓말을 하지 않겠습니다.\n",
            "2 선생님 다시는 거짓말을 하지 않겠습니다.\n",
            "3 선생님 다시는 거짓말을 하지 않겠습니다.\n",
            "4 선생님 다시는 거짓말을 하지 않겠습니다.\n",
            "5 선생님 다시는 거짓말을 하지 않겠습니다.\n",
            "6 선생님 다시는 거짓말을 하지 않겠습니다.\n",
            "7 선생님 다시는 거짓말을 하지 않겠습니다.\n",
            "8 선생님 다시는 거짓말을 하지 않겠습니다.\n",
            "9 선생님 다시는 거짓말을 하지 않겠습니다.\n",
            "10 선생님 다시는 거짓말을 하지 않겠습니다.\n",
            "11 선생님 다시는 거짓말을 하지 않겠습니다.\n",
            "12 선생님 다시는 거짓말을 하지 않겠습니다.\n",
            "13 선생님 다시는 거짓말을 하지 않겠습니다.\n",
            "14 선생님 다시는 거짓말을 하지 않겠습니다.\n",
            "15 선생님 다시는 거짓말을 하지 않겠습니다.\n",
            "16 선생님 다시는 거짓말을 하지 않겠습니다.\n",
            "17 선생님 다시는 거짓말을 하지 않겠습니다.\n",
            "18 선생님 다시는 거짓말을 하지 않겠습니다.\n",
            "19 선생님 다시는 거짓말을 하지 않겠습니다.\n"
          ]
        }
      ]
    },
    {
      "cell_type": "code",
      "source": [
        "for a in range(1,21):\n",
        "  print(a, '선생님 다시는 거짓말을 하지 않겠습니다.')"
      ],
      "metadata": {
        "colab": {
          "base_uri": "https://localhost:8080/"
        },
        "id": "vSSGT1nTtpDe",
        "outputId": "670fa147-cb5e-456f-82b3-9fad2f1be281"
      },
      "execution_count": null,
      "outputs": [
        {
          "output_type": "stream",
          "name": "stdout",
          "text": [
            "1 선생님 다시는 거짓말을 하지 않겠습니다.\n",
            "2 선생님 다시는 거짓말을 하지 않겠습니다.\n",
            "3 선생님 다시는 거짓말을 하지 않겠습니다.\n",
            "4 선생님 다시는 거짓말을 하지 않겠습니다.\n",
            "5 선생님 다시는 거짓말을 하지 않겠습니다.\n",
            "6 선생님 다시는 거짓말을 하지 않겠습니다.\n",
            "7 선생님 다시는 거짓말을 하지 않겠습니다.\n",
            "8 선생님 다시는 거짓말을 하지 않겠습니다.\n",
            "9 선생님 다시는 거짓말을 하지 않겠습니다.\n",
            "10 선생님 다시는 거짓말을 하지 않겠습니다.\n",
            "11 선생님 다시는 거짓말을 하지 않겠습니다.\n",
            "12 선생님 다시는 거짓말을 하지 않겠습니다.\n",
            "13 선생님 다시는 거짓말을 하지 않겠습니다.\n",
            "14 선생님 다시는 거짓말을 하지 않겠습니다.\n",
            "15 선생님 다시는 거짓말을 하지 않겠습니다.\n",
            "16 선생님 다시는 거짓말을 하지 않겠습니다.\n",
            "17 선생님 다시는 거짓말을 하지 않겠습니다.\n",
            "18 선생님 다시는 거짓말을 하지 않겠습니다.\n",
            "19 선생님 다시는 거짓말을 하지 않겠습니다.\n",
            "20 선생님 다시는 거짓말을 하지 않겠습니다.\n"
          ]
        }
      ]
    },
    {
      "cell_type": "code",
      "source": [
        "for a in range(0,20):\n",
        "  print(a+1, '선생님 다시는 거짓말을 하지 않겠습니다.')"
      ],
      "metadata": {
        "colab": {
          "base_uri": "https://localhost:8080/"
        },
        "id": "zVLQYWuauMmW",
        "outputId": "66aa41ba-ee6f-4441-dd5c-fe594219a0a2"
      },
      "execution_count": null,
      "outputs": [
        {
          "output_type": "stream",
          "name": "stdout",
          "text": [
            "1 선생님 다시는 거짓말을 하지 않겠습니다.\n",
            "2 선생님 다시는 거짓말을 하지 않겠습니다.\n",
            "3 선생님 다시는 거짓말을 하지 않겠습니다.\n",
            "4 선생님 다시는 거짓말을 하지 않겠습니다.\n",
            "5 선생님 다시는 거짓말을 하지 않겠습니다.\n",
            "6 선생님 다시는 거짓말을 하지 않겠습니다.\n",
            "7 선생님 다시는 거짓말을 하지 않겠습니다.\n",
            "8 선생님 다시는 거짓말을 하지 않겠습니다.\n",
            "9 선생님 다시는 거짓말을 하지 않겠습니다.\n",
            "10 선생님 다시는 거짓말을 하지 않겠습니다.\n",
            "11 선생님 다시는 거짓말을 하지 않겠습니다.\n",
            "12 선생님 다시는 거짓말을 하지 않겠습니다.\n",
            "13 선생님 다시는 거짓말을 하지 않겠습니다.\n",
            "14 선생님 다시는 거짓말을 하지 않겠습니다.\n",
            "15 선생님 다시는 거짓말을 하지 않겠습니다.\n",
            "16 선생님 다시는 거짓말을 하지 않겠습니다.\n",
            "17 선생님 다시는 거짓말을 하지 않겠습니다.\n",
            "18 선생님 다시는 거짓말을 하지 않겠습니다.\n",
            "19 선생님 다시는 거짓말을 하지 않겠습니다.\n",
            "20 선생님 다시는 거짓말을 하지 않겠습니다.\n"
          ]
        }
      ]
    },
    {
      "cell_type": "code",
      "source": [
        "for a in range(20):\n",
        "  print(a+1, '선생님 다시는 거짓말을 하지 않겠습니다.')"
      ],
      "metadata": {
        "colab": {
          "base_uri": "https://localhost:8080/"
        },
        "id": "DMmtmunxuWst",
        "outputId": "185fa4af-a906-4721-c1c5-d32acdd0e938"
      },
      "execution_count": null,
      "outputs": [
        {
          "output_type": "stream",
          "name": "stdout",
          "text": [
            "1 선생님 다시는 거짓말을 하지 않겠습니다.\n",
            "2 선생님 다시는 거짓말을 하지 않겠습니다.\n",
            "3 선생님 다시는 거짓말을 하지 않겠습니다.\n",
            "4 선생님 다시는 거짓말을 하지 않겠습니다.\n",
            "5 선생님 다시는 거짓말을 하지 않겠습니다.\n",
            "6 선생님 다시는 거짓말을 하지 않겠습니다.\n",
            "7 선생님 다시는 거짓말을 하지 않겠습니다.\n",
            "8 선생님 다시는 거짓말을 하지 않겠습니다.\n",
            "9 선생님 다시는 거짓말을 하지 않겠습니다.\n",
            "10 선생님 다시는 거짓말을 하지 않겠습니다.\n",
            "11 선생님 다시는 거짓말을 하지 않겠습니다.\n",
            "12 선생님 다시는 거짓말을 하지 않겠습니다.\n",
            "13 선생님 다시는 거짓말을 하지 않겠습니다.\n",
            "14 선생님 다시는 거짓말을 하지 않겠습니다.\n",
            "15 선생님 다시는 거짓말을 하지 않겠습니다.\n",
            "16 선생님 다시는 거짓말을 하지 않겠습니다.\n",
            "17 선생님 다시는 거짓말을 하지 않겠습니다.\n",
            "18 선생님 다시는 거짓말을 하지 않겠습니다.\n",
            "19 선생님 다시는 거짓말을 하지 않겠습니다.\n",
            "20 선생님 다시는 거짓말을 하지 않겠습니다.\n"
          ]
        }
      ]
    },
    {
      "cell_type": "code",
      "source": [
        "for a in range(1,20,2):\n",
        "  print(a,'선생님 다시는 거짓말을 하지 않겠습니다.')"
      ],
      "metadata": {
        "colab": {
          "base_uri": "https://localhost:8080/"
        },
        "id": "6eg8R-z4uipz",
        "outputId": "d70232c9-9fdb-4c5b-e72d-9bfe99a855bd"
      },
      "execution_count": null,
      "outputs": [
        {
          "output_type": "stream",
          "name": "stdout",
          "text": [
            "1 선생님 다시는 거짓말을 하지 않겠습니다.\n",
            "3 선생님 다시는 거짓말을 하지 않겠습니다.\n",
            "5 선생님 다시는 거짓말을 하지 않겠습니다.\n",
            "7 선생님 다시는 거짓말을 하지 않겠습니다.\n",
            "9 선생님 다시는 거짓말을 하지 않겠습니다.\n",
            "11 선생님 다시는 거짓말을 하지 않겠습니다.\n",
            "13 선생님 다시는 거짓말을 하지 않겠습니다.\n",
            "15 선생님 다시는 거짓말을 하지 않겠습니다.\n",
            "17 선생님 다시는 거짓말을 하지 않겠습니다.\n",
            "19 선생님 다시는 거짓말을 하지 않겠습니다.\n"
          ]
        }
      ]
    },
    {
      "cell_type": "code",
      "source": [
        "for a in range(1,20,3):\n",
        "  print(a, '선생님 다시는 거짓말을 하지 않겠습니다.')"
      ],
      "metadata": {
        "colab": {
          "base_uri": "https://localhost:8080/"
        },
        "id": "59AL4Nsmurs9",
        "outputId": "96f7cbba-a06c-4fe8-cf7f-45025ff6ee5e"
      },
      "execution_count": null,
      "outputs": [
        {
          "output_type": "stream",
          "name": "stdout",
          "text": [
            "1 선생님 다시는 거짓말을 하지 않겠습니다.\n",
            "4 선생님 다시는 거짓말을 하지 않겠습니다.\n",
            "7 선생님 다시는 거짓말을 하지 않겠습니다.\n",
            "10 선생님 다시는 거짓말을 하지 않겠습니다.\n",
            "13 선생님 다시는 거짓말을 하지 않겠습니다.\n",
            "16 선생님 다시는 거짓말을 하지 않겠습니다.\n",
            "19 선생님 다시는 거짓말을 하지 않겠습니다.\n"
          ]
        }
      ]
    },
    {
      "cell_type": "code",
      "source": [
        "for a in range(1,20,4):\n",
        "  print(a, '선생님 다시는 거짓말을 하지 않겠습니다.')"
      ],
      "metadata": {
        "colab": {
          "base_uri": "https://localhost:8080/"
        },
        "id": "K92O8a_Au1bH",
        "outputId": "905f54d7-b890-45cf-ee48-42ae9990e392"
      },
      "execution_count": null,
      "outputs": [
        {
          "output_type": "stream",
          "name": "stdout",
          "text": [
            "1 선생님 다시는 거짓말을 하지 않겠습니다.\n",
            "5 선생님 다시는 거짓말을 하지 않겠습니다.\n",
            "9 선생님 다시는 거짓말을 하지 않겠습니다.\n",
            "13 선생님 다시는 거짓말을 하지 않겠습니다.\n",
            "17 선생님 다시는 거짓말을 하지 않겠습니다.\n"
          ]
        }
      ]
    },
    {
      "cell_type": "code",
      "source": [
        "for i in range(20):\n",
        "  print(i, '선생님 다시는 거짓말을 하지 않겠습니다.')"
      ],
      "metadata": {
        "colab": {
          "base_uri": "https://localhost:8080/"
        },
        "id": "E54d52aVu6Je",
        "outputId": "4cbc3691-85fb-43da-b473-8e58dea348db"
      },
      "execution_count": null,
      "outputs": [
        {
          "output_type": "stream",
          "name": "stdout",
          "text": [
            "0 선생님 다시는 거짓말을 하지 않겠습니다.\n",
            "1 선생님 다시는 거짓말을 하지 않겠습니다.\n",
            "2 선생님 다시는 거짓말을 하지 않겠습니다.\n",
            "3 선생님 다시는 거짓말을 하지 않겠습니다.\n",
            "4 선생님 다시는 거짓말을 하지 않겠습니다.\n",
            "5 선생님 다시는 거짓말을 하지 않겠습니다.\n",
            "6 선생님 다시는 거짓말을 하지 않겠습니다.\n",
            "7 선생님 다시는 거짓말을 하지 않겠습니다.\n",
            "8 선생님 다시는 거짓말을 하지 않겠습니다.\n",
            "9 선생님 다시는 거짓말을 하지 않겠습니다.\n",
            "10 선생님 다시는 거짓말을 하지 않겠습니다.\n",
            "11 선생님 다시는 거짓말을 하지 않겠습니다.\n",
            "12 선생님 다시는 거짓말을 하지 않겠습니다.\n",
            "13 선생님 다시는 거짓말을 하지 않겠습니다.\n",
            "14 선생님 다시는 거짓말을 하지 않겠습니다.\n",
            "15 선생님 다시는 거짓말을 하지 않겠습니다.\n",
            "16 선생님 다시는 거짓말을 하지 않겠습니다.\n",
            "17 선생님 다시는 거짓말을 하지 않겠습니다.\n",
            "18 선생님 다시는 거짓말을 하지 않겠습니다.\n",
            "19 선생님 다시는 거짓말을 하지 않겠습니다.\n"
          ]
        }
      ]
    },
    {
      "cell_type": "code",
      "source": [
        "result = 0\n",
        "for i in range(1,51):\n",
        "  result += i\n",
        "print(result)"
      ],
      "metadata": {
        "colab": {
          "base_uri": "https://localhost:8080/"
        },
        "id": "DIOSZKTBvDf6",
        "outputId": "1f66ef98-b67d-4089-ad17-ada87233f278"
      },
      "execution_count": null,
      "outputs": [
        {
          "output_type": "stream",
          "name": "stdout",
          "text": [
            "1275\n"
          ]
        }
      ]
    },
    {
      "cell_type": "code",
      "source": [
        "result = 0\n",
        "for i in range(1,51):\n",
        "  result += i\n",
        "  print(result)"
      ],
      "metadata": {
        "colab": {
          "base_uri": "https://localhost:8080/"
        },
        "id": "DaclS1rPwAT4",
        "outputId": "31c3377d-a392-4a1a-bf4a-83f395ffb245"
      },
      "execution_count": null,
      "outputs": [
        {
          "output_type": "stream",
          "name": "stdout",
          "text": [
            "1\n",
            "3\n",
            "6\n",
            "10\n",
            "15\n",
            "21\n",
            "28\n",
            "36\n",
            "45\n",
            "55\n",
            "66\n",
            "78\n",
            "91\n",
            "105\n",
            "120\n",
            "136\n",
            "153\n",
            "171\n",
            "190\n",
            "210\n",
            "231\n",
            "253\n",
            "276\n",
            "300\n",
            "325\n",
            "351\n",
            "378\n",
            "406\n",
            "435\n",
            "465\n",
            "496\n",
            "528\n",
            "561\n",
            "595\n",
            "630\n",
            "666\n",
            "703\n",
            "741\n",
            "780\n",
            "820\n",
            "861\n",
            "903\n",
            "946\n",
            "990\n",
            "1035\n",
            "1081\n",
            "1128\n",
            "1176\n",
            "1225\n",
            "1275\n"
          ]
        }
      ]
    },
    {
      "cell_type": "code",
      "source": [
        "result = 0\n",
        "for i in range(101,151):\n",
        "  result += i\n",
        "print(result)"
      ],
      "metadata": {
        "id": "wblNhaWpwOXA",
        "colab": {
          "base_uri": "https://localhost:8080/"
        },
        "outputId": "9ad75b4d-7601-4e73-f1ab-1043344bd744"
      },
      "execution_count": 3,
      "outputs": [
        {
          "output_type": "stream",
          "name": "stdout",
          "text": [
            "6275\n"
          ]
        }
      ]
    },
    {
      "cell_type": "code",
      "source": [
        "result =1\n",
        "for i in range(1,50):\n",
        "  result *= i\n",
        "print(result)"
      ],
      "metadata": {
        "colab": {
          "base_uri": "https://localhost:8080/"
        },
        "id": "B59xa8iQ_lkC",
        "outputId": "20255352-dfd5-4c2c-e269-71f7e3450baa"
      },
      "execution_count": 6,
      "outputs": [
        {
          "output_type": "stream",
          "name": "stdout",
          "text": [
            "608281864034267560872252163321295376887552831379210240000000000\n"
          ]
        }
      ]
    },
    {
      "cell_type": "code",
      "source": [
        "num = int(input('몇 단을 외울까요?'))\n",
        "for i in range(1,10):\n",
        "  print(num, 'x', i, '=', num*i)"
      ],
      "metadata": {
        "colab": {
          "base_uri": "https://localhost:8080/"
        },
        "id": "sJVE8vDs_veu",
        "outputId": "b5553e57-b464-492b-b259-c8fbae3dcbfa"
      },
      "execution_count": 13,
      "outputs": [
        {
          "output_type": "stream",
          "name": "stdout",
          "text": [
            "몇 단을 외울까요?4\n",
            "4 x 1 = 4\n",
            "4 x 2 = 8\n",
            "4 x 3 = 12\n",
            "4 x 4 = 16\n",
            "4 x 5 = 20\n",
            "4 x 6 = 24\n",
            "4 x 7 = 28\n",
            "4 x 8 = 32\n",
            "4 x 9 = 36\n"
          ]
        }
      ]
    },
    {
      "cell_type": "code",
      "source": [
        "import random\n",
        "print(random.random())"
      ],
      "metadata": {
        "colab": {
          "base_uri": "https://localhost:8080/"
        },
        "id": "P3-LhMt1AoAI",
        "outputId": "0bf8c394-32f0-4ee6-8dbf-93d2f824518b"
      },
      "execution_count": 18,
      "outputs": [
        {
          "output_type": "stream",
          "name": "stdout",
          "text": [
            "0.46477084510484734\n"
          ]
        }
      ]
    },
    {
      "cell_type": "code",
      "source": [
        "import random\n",
        "print(random.randrange(1,10,2))"
      ],
      "metadata": {
        "colab": {
          "base_uri": "https://localhost:8080/"
        },
        "id": "tfAuCZLMCHX6",
        "outputId": "c5d19a39-74ca-46bb-8612-9b39cbed5497"
      },
      "execution_count": 30,
      "outputs": [
        {
          "output_type": "stream",
          "name": "stdout",
          "text": [
            "3\n"
          ]
        }
      ]
    },
    {
      "cell_type": "code",
      "source": [
        "import random\n",
        "print(random.randint(1,10))"
      ],
      "metadata": {
        "colab": {
          "base_uri": "https://localhost:8080/"
        },
        "id": "nfl84Q5hCmy1",
        "outputId": "2f192b95-9e38-431b-8238-303d2b6d5d49"
      },
      "execution_count": 36,
      "outputs": [
        {
          "output_type": "stream",
          "name": "stdout",
          "text": [
            "7\n"
          ]
        }
      ]
    },
    {
      "cell_type": "code",
      "source": [
        "import random\n",
        "for i in range(20):\n",
        "  print(random.randint(0, i))"
      ],
      "metadata": {
        "colab": {
          "base_uri": "https://localhost:8080/"
        },
        "id": "2zzNt6S-C-TC",
        "outputId": "ba5fc415-c334-4862-ee3c-427fe03f0ba2"
      },
      "execution_count": 40,
      "outputs": [
        {
          "output_type": "stream",
          "name": "stdout",
          "text": [
            "0\n",
            "1\n",
            "0\n",
            "2\n",
            "1\n",
            "1\n",
            "6\n",
            "0\n",
            "5\n",
            "7\n",
            "1\n",
            "11\n",
            "4\n",
            "8\n",
            "3\n",
            "10\n",
            "4\n",
            "17\n",
            "15\n",
            "10\n"
          ]
        }
      ]
    },
    {
      "cell_type": "code",
      "source": [
        "print('구구단을 외자! 구구단을 외자!')\n",
        "import random\n",
        "for i in range(10):\n",
        "  a = random.randint(2,9)\n",
        "  b = random.randint(1,9)\n",
        "  print(a, 'x', b, '=', a*b)"
      ],
      "metadata": {
        "colab": {
          "base_uri": "https://localhost:8080/"
        },
        "id": "jEMMEDceDN3X",
        "outputId": "1557bee7-f157-4364-c2cd-cbc202726036"
      },
      "execution_count": 44,
      "outputs": [
        {
          "output_type": "stream",
          "name": "stdout",
          "text": [
            "구구단을 외자! 구구단을 외자!\n",
            "4 x 2 = 8\n",
            "9 x 8 = 72\n",
            "5 x 2 = 10\n",
            "7 x 5 = 35\n",
            "5 x 7 = 35\n",
            "2 x 1 = 2\n",
            "2 x 2 = 4\n",
            "5 x 2 = 10\n",
            "9 x 3 = 27\n",
            "3 x 6 = 18\n"
          ]
        }
      ]
    },
    {
      "cell_type": "code",
      "source": [
        "import random\n",
        "print('구구단을 외자! 구구단을 외자!')\n",
        "for i in range(10):\n",
        "  a,b = random.randint(2,9), random.randint(1,9)\n",
        "  print(a, 'x', b, '=', a*b)"
      ],
      "metadata": {
        "colab": {
          "base_uri": "https://localhost:8080/"
        },
        "id": "IAiWl8yMD5RJ",
        "outputId": "0ec2f57a-bf54-4279-80d6-3429cc9d4a8b"
      },
      "execution_count": 46,
      "outputs": [
        {
          "output_type": "stream",
          "name": "stdout",
          "text": [
            "구구단을 외자! 구구단을 외자!\n",
            "9 x 7 = 63\n",
            "7 x 9 = 63\n",
            "9 x 3 = 27\n",
            "5 x 4 = 20\n",
            "4 x 3 = 12\n",
            "2 x 9 = 18\n",
            "4 x 9 = 36\n",
            "2 x 5 = 10\n",
            "8 x 6 = 48\n",
            "5 x 7 = 35\n"
          ]
        }
      ]
    },
    {
      "cell_type": "code",
      "source": [
        "import random\n",
        "print('구구단을 외자! 구구단을 외자!')\n",
        "for i in range(10):\n",
        "  a, b = random.randint(2,9), random.randint(1,9)\n",
        "  question = str(a) + 'x' + str(b) + '?'\n",
        "  input(question)"
      ],
      "metadata": {
        "colab": {
          "base_uri": "https://localhost:8080/",
          "height": 130
        },
        "id": "nYEVj6PLEZjN",
        "outputId": "e7cbe0ca-b042-4e71-c6d5-226603906d6f"
      },
      "execution_count": 49,
      "outputs": [
        {
          "output_type": "error",
          "ename": "SyntaxError",
          "evalue": "ignored",
          "traceback": [
            "\u001b[0;36m  File \u001b[0;32m\"<ipython-input-49-822277c8fe0c>\"\u001b[0;36m, line \u001b[0;32m7\u001b[0m\n\u001b[0;31m    if input = a * b:\u001b[0m\n\u001b[0m             ^\u001b[0m\n\u001b[0;31mSyntaxError\u001b[0m\u001b[0;31m:\u001b[0m invalid syntax\n"
          ]
        }
      ]
    },
    {
      "cell_type": "code",
      "source": [
        "###while문###"
      ],
      "metadata": {
        "id": "kjXKjQKXF-Ia"
      },
      "execution_count": 51,
      "outputs": []
    },
    {
      "cell_type": "code",
      "source": [
        "num = 0\n",
        "while num < 10:\n",
        "  num = int(input('숫자입력'))"
      ],
      "metadata": {
        "colab": {
          "base_uri": "https://localhost:8080/"
        },
        "id": "EaaoF9ySGLYB",
        "outputId": "65ee8850-32c5-4493-87a8-550bb664bbe3"
      },
      "execution_count": 54,
      "outputs": [
        {
          "name": "stdout",
          "output_type": "stream",
          "text": [
            "숫자입력3\n",
            "숫자입력11\n"
          ]
        }
      ]
    },
    {
      "cell_type": "code",
      "source": [
        "for i in range(1,20):\n",
        "  print(i, '선생님, 다시는 청소를 빠지지 않겠습니다.')"
      ],
      "metadata": {
        "colab": {
          "base_uri": "https://localhost:8080/"
        },
        "id": "IOljggR9GSPX",
        "outputId": "38364a0f-cf47-4f4e-9f7f-023db8869591"
      },
      "execution_count": 56,
      "outputs": [
        {
          "output_type": "stream",
          "name": "stdout",
          "text": [
            "1 선생님, 다시는 청소를 빠지지 않겠습니다.\n",
            "2 선생님, 다시는 청소를 빠지지 않겠습니다.\n",
            "3 선생님, 다시는 청소를 빠지지 않겠습니다.\n",
            "4 선생님, 다시는 청소를 빠지지 않겠습니다.\n",
            "5 선생님, 다시는 청소를 빠지지 않겠습니다.\n",
            "6 선생님, 다시는 청소를 빠지지 않겠습니다.\n",
            "7 선생님, 다시는 청소를 빠지지 않겠습니다.\n",
            "8 선생님, 다시는 청소를 빠지지 않겠습니다.\n",
            "9 선생님, 다시는 청소를 빠지지 않겠습니다.\n",
            "10 선생님, 다시는 청소를 빠지지 않겠습니다.\n",
            "11 선생님, 다시는 청소를 빠지지 않겠습니다.\n",
            "12 선생님, 다시는 청소를 빠지지 않겠습니다.\n",
            "13 선생님, 다시는 청소를 빠지지 않겠습니다.\n",
            "14 선생님, 다시는 청소를 빠지지 않겠습니다.\n",
            "15 선생님, 다시는 청소를 빠지지 않겠습니다.\n",
            "16 선생님, 다시는 청소를 빠지지 않겠습니다.\n",
            "17 선생님, 다시는 청소를 빠지지 않겠습니다.\n",
            "18 선생님, 다시는 청소를 빠지지 않겠습니다.\n",
            "19 선생님, 다시는 청소를 빠지지 않겠습니다.\n"
          ]
        }
      ]
    },
    {
      "cell_type": "code",
      "source": [
        "i = 1\n",
        "while i < 20:\n",
        "  print(i, '선생님, 다시는 청소를 빠지지 않겠습니다.')\n",
        "  i += 1"
      ],
      "metadata": {
        "colab": {
          "base_uri": "https://localhost:8080/"
        },
        "id": "am65cZv4GyvM",
        "outputId": "29ee6bf9-69db-4d11-882e-1b2b52da13e8"
      },
      "execution_count": 58,
      "outputs": [
        {
          "output_type": "stream",
          "name": "stdout",
          "text": [
            "1 선생님, 다시는 청소를 빠지지 않겠습니다.\n",
            "2 선생님, 다시는 청소를 빠지지 않겠습니다.\n",
            "3 선생님, 다시는 청소를 빠지지 않겠습니다.\n",
            "4 선생님, 다시는 청소를 빠지지 않겠습니다.\n",
            "5 선생님, 다시는 청소를 빠지지 않겠습니다.\n",
            "6 선생님, 다시는 청소를 빠지지 않겠습니다.\n",
            "7 선생님, 다시는 청소를 빠지지 않겠습니다.\n",
            "8 선생님, 다시는 청소를 빠지지 않겠습니다.\n",
            "9 선생님, 다시는 청소를 빠지지 않겠습니다.\n",
            "10 선생님, 다시는 청소를 빠지지 않겠습니다.\n",
            "11 선생님, 다시는 청소를 빠지지 않겠습니다.\n",
            "12 선생님, 다시는 청소를 빠지지 않겠습니다.\n",
            "13 선생님, 다시는 청소를 빠지지 않겠습니다.\n",
            "14 선생님, 다시는 청소를 빠지지 않겠습니다.\n",
            "15 선생님, 다시는 청소를 빠지지 않겠습니다.\n",
            "16 선생님, 다시는 청소를 빠지지 않겠습니다.\n",
            "17 선생님, 다시는 청소를 빠지지 않겠습니다.\n",
            "18 선생님, 다시는 청소를 빠지지 않겠습니다.\n",
            "19 선생님, 다시는 청소를 빠지지 않겠습니다.\n"
          ]
        }
      ]
    },
    {
      "cell_type": "code",
      "source": [
        ""
      ],
      "metadata": {
        "id": "7jpFmhNxG8_w"
      },
      "execution_count": null,
      "outputs": []
    }
  ]
}