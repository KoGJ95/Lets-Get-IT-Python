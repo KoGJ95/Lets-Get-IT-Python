{
  "nbformat": 4,
  "nbformat_minor": 0,
  "metadata": {
    "colab": {
      "name": "Lets get IT ch5.ipynb",
      "provenance": [],
      "collapsed_sections": [],
      "authorship_tag": "ABX9TyNmGOZZ5g8/r06b7NEe6Vxx",
      "include_colab_link": true
    },
    "kernelspec": {
      "name": "python3",
      "display_name": "Python 3"
    },
    "language_info": {
      "name": "python"
    }
  },
  "cells": [
    {
      "cell_type": "markdown",
      "metadata": {
        "id": "view-in-github",
        "colab_type": "text"
      },
      "source": [
        "<a href=\"https://colab.research.google.com/github/KoGJ95/Lets-Get-IT-Python/blob/main/Lets_get_IT_ch5.ipynb\" target=\"_parent\"><img src=\"https://colab.research.google.com/assets/colab-badge.svg\" alt=\"Open In Colab\"/></a>"
      ]
    },
    {
      "cell_type": "code",
      "source": [
        "###반복문###\n",
        "\"\"\"\n",
        "형식\n",
        "for a in data:\n",
        "  명령어 B\n",
        "\"\"\""
      ],
      "metadata": {
        "colab": {
          "base_uri": "https://localhost:8080/",
          "height": 37
        },
        "id": "9udxViLbr_W3",
        "outputId": "b3e2040b-5b3c-4e63-9cee-fda28f6d79ee"
      },
      "execution_count": null,
      "outputs": [
        {
          "output_type": "execute_result",
          "data": {
            "text/plain": [
              "'\\n형식\\nfor a in data:\\n  명령어 B\\n'"
            ],
            "application/vnd.google.colaboratory.intrinsic+json": {
              "type": "string"
            }
          },
          "metadata": {},
          "execution_count": 2
        }
      ]
    },
    {
      "cell_type": "code",
      "source": [
        "for a in [1,2,3,4,5]:\n",
        "  print(a)"
      ],
      "metadata": {
        "colab": {
          "base_uri": "https://localhost:8080/"
        },
        "id": "cBWO3UsPsCD7",
        "outputId": "3071a560-6272-48e1-eee6-c2ffe9888a64"
      },
      "execution_count": null,
      "outputs": [
        {
          "output_type": "stream",
          "name": "stdout",
          "text": [
            "1\n",
            "2\n",
            "3\n",
            "4\n",
            "5\n"
          ]
        }
      ]
    },
    {
      "cell_type": "code",
      "source": [
        "for a in [1,2,3,4,5]:\n",
        "  print('안녕하세요!')"
      ],
      "metadata": {
        "colab": {
          "base_uri": "https://localhost:8080/"
        },
        "id": "OKWyoIkksVdJ",
        "outputId": "e5c5dbd6-0cce-46eb-ea60-8f33b14cbfd1"
      },
      "execution_count": null,
      "outputs": [
        {
          "output_type": "stream",
          "name": "stdout",
          "text": [
            "안녕하세요!\n",
            "안녕하세요!\n",
            "안녕하세요!\n",
            "안녕하세요!\n",
            "안녕하세요!\n"
          ]
        }
      ]
    },
    {
      "cell_type": "code",
      "source": [
        "for a in [1,2,3,4,5]:\n",
        "  print(a, \"을(를) 저장 중 입니다.\")"
      ],
      "metadata": {
        "colab": {
          "base_uri": "https://localhost:8080/"
        },
        "id": "emcLXaQhsbRO",
        "outputId": "1891f87a-fddc-4b60-f5b6-6d20d1a6972e"
      },
      "execution_count": null,
      "outputs": [
        {
          "output_type": "stream",
          "name": "stdout",
          "text": [
            "1 을(를) 저장 중 입니다.\n",
            "2 을(를) 저장 중 입니다.\n",
            "3 을(를) 저장 중 입니다.\n",
            "4 을(를) 저장 중 입니다.\n",
            "5 을(를) 저장 중 입니다.\n"
          ]
        }
      ]
    },
    {
      "cell_type": "code",
      "source": [
        "for a in [9,8,7,6,5,4,3,2,1]:\n",
        "  print(a, '안녕하세요')"
      ],
      "metadata": {
        "colab": {
          "base_uri": "https://localhost:8080/"
        },
        "id": "cNgLAMlCs1xf",
        "outputId": "13f17f3a-9000-4316-8798-a22add43e7cc"
      },
      "execution_count": null,
      "outputs": [
        {
          "output_type": "stream",
          "name": "stdout",
          "text": [
            "9 안녕하세요\n",
            "8 안녕하세요\n",
            "7 안녕하세요\n",
            "6 안녕하세요\n",
            "5 안녕하세요\n",
            "4 안녕하세요\n",
            "3 안녕하세요\n",
            "2 안녕하세요\n",
            "1 안녕하세요\n"
          ]
        }
      ]
    },
    {
      "cell_type": "code",
      "source": [
        "for a in range(1,20):\n",
        "  print(a, '선생님 다시는 거짓말을 하지 않겠습니다.')\n",
        "#종료 숫자 -1에서 종료됨."
      ],
      "metadata": {
        "colab": {
          "base_uri": "https://localhost:8080/"
        },
        "id": "Wk6yrEqLtQaK",
        "outputId": "b3dec5cb-e819-4282-e81f-eb91c08756dc"
      },
      "execution_count": null,
      "outputs": [
        {
          "output_type": "stream",
          "name": "stdout",
          "text": [
            "1 선생님 다시는 거짓말을 하지 않겠습니다.\n",
            "2 선생님 다시는 거짓말을 하지 않겠습니다.\n",
            "3 선생님 다시는 거짓말을 하지 않겠습니다.\n",
            "4 선생님 다시는 거짓말을 하지 않겠습니다.\n",
            "5 선생님 다시는 거짓말을 하지 않겠습니다.\n",
            "6 선생님 다시는 거짓말을 하지 않겠습니다.\n",
            "7 선생님 다시는 거짓말을 하지 않겠습니다.\n",
            "8 선생님 다시는 거짓말을 하지 않겠습니다.\n",
            "9 선생님 다시는 거짓말을 하지 않겠습니다.\n",
            "10 선생님 다시는 거짓말을 하지 않겠습니다.\n",
            "11 선생님 다시는 거짓말을 하지 않겠습니다.\n",
            "12 선생님 다시는 거짓말을 하지 않겠습니다.\n",
            "13 선생님 다시는 거짓말을 하지 않겠습니다.\n",
            "14 선생님 다시는 거짓말을 하지 않겠습니다.\n",
            "15 선생님 다시는 거짓말을 하지 않겠습니다.\n",
            "16 선생님 다시는 거짓말을 하지 않겠습니다.\n",
            "17 선생님 다시는 거짓말을 하지 않겠습니다.\n",
            "18 선생님 다시는 거짓말을 하지 않겠습니다.\n",
            "19 선생님 다시는 거짓말을 하지 않겠습니다.\n"
          ]
        }
      ]
    },
    {
      "cell_type": "code",
      "source": [
        "for a in range(1,21):\n",
        "  print(a, '선생님 다시는 거짓말을 하지 않겠습니다.')"
      ],
      "metadata": {
        "colab": {
          "base_uri": "https://localhost:8080/"
        },
        "id": "vSSGT1nTtpDe",
        "outputId": "670fa147-cb5e-456f-82b3-9fad2f1be281"
      },
      "execution_count": null,
      "outputs": [
        {
          "output_type": "stream",
          "name": "stdout",
          "text": [
            "1 선생님 다시는 거짓말을 하지 않겠습니다.\n",
            "2 선생님 다시는 거짓말을 하지 않겠습니다.\n",
            "3 선생님 다시는 거짓말을 하지 않겠습니다.\n",
            "4 선생님 다시는 거짓말을 하지 않겠습니다.\n",
            "5 선생님 다시는 거짓말을 하지 않겠습니다.\n",
            "6 선생님 다시는 거짓말을 하지 않겠습니다.\n",
            "7 선생님 다시는 거짓말을 하지 않겠습니다.\n",
            "8 선생님 다시는 거짓말을 하지 않겠습니다.\n",
            "9 선생님 다시는 거짓말을 하지 않겠습니다.\n",
            "10 선생님 다시는 거짓말을 하지 않겠습니다.\n",
            "11 선생님 다시는 거짓말을 하지 않겠습니다.\n",
            "12 선생님 다시는 거짓말을 하지 않겠습니다.\n",
            "13 선생님 다시는 거짓말을 하지 않겠습니다.\n",
            "14 선생님 다시는 거짓말을 하지 않겠습니다.\n",
            "15 선생님 다시는 거짓말을 하지 않겠습니다.\n",
            "16 선생님 다시는 거짓말을 하지 않겠습니다.\n",
            "17 선생님 다시는 거짓말을 하지 않겠습니다.\n",
            "18 선생님 다시는 거짓말을 하지 않겠습니다.\n",
            "19 선생님 다시는 거짓말을 하지 않겠습니다.\n",
            "20 선생님 다시는 거짓말을 하지 않겠습니다.\n"
          ]
        }
      ]
    },
    {
      "cell_type": "code",
      "source": [
        "for a in range(0,20):\n",
        "  print(a+1, '선생님 다시는 거짓말을 하지 않겠습니다.')"
      ],
      "metadata": {
        "colab": {
          "base_uri": "https://localhost:8080/"
        },
        "id": "zVLQYWuauMmW",
        "outputId": "66aa41ba-ee6f-4441-dd5c-fe594219a0a2"
      },
      "execution_count": null,
      "outputs": [
        {
          "output_type": "stream",
          "name": "stdout",
          "text": [
            "1 선생님 다시는 거짓말을 하지 않겠습니다.\n",
            "2 선생님 다시는 거짓말을 하지 않겠습니다.\n",
            "3 선생님 다시는 거짓말을 하지 않겠습니다.\n",
            "4 선생님 다시는 거짓말을 하지 않겠습니다.\n",
            "5 선생님 다시는 거짓말을 하지 않겠습니다.\n",
            "6 선생님 다시는 거짓말을 하지 않겠습니다.\n",
            "7 선생님 다시는 거짓말을 하지 않겠습니다.\n",
            "8 선생님 다시는 거짓말을 하지 않겠습니다.\n",
            "9 선생님 다시는 거짓말을 하지 않겠습니다.\n",
            "10 선생님 다시는 거짓말을 하지 않겠습니다.\n",
            "11 선생님 다시는 거짓말을 하지 않겠습니다.\n",
            "12 선생님 다시는 거짓말을 하지 않겠습니다.\n",
            "13 선생님 다시는 거짓말을 하지 않겠습니다.\n",
            "14 선생님 다시는 거짓말을 하지 않겠습니다.\n",
            "15 선생님 다시는 거짓말을 하지 않겠습니다.\n",
            "16 선생님 다시는 거짓말을 하지 않겠습니다.\n",
            "17 선생님 다시는 거짓말을 하지 않겠습니다.\n",
            "18 선생님 다시는 거짓말을 하지 않겠습니다.\n",
            "19 선생님 다시는 거짓말을 하지 않겠습니다.\n",
            "20 선생님 다시는 거짓말을 하지 않겠습니다.\n"
          ]
        }
      ]
    },
    {
      "cell_type": "code",
      "source": [
        "for a in range(20):\n",
        "  print(a+1, '선생님 다시는 거짓말을 하지 않겠습니다.')"
      ],
      "metadata": {
        "colab": {
          "base_uri": "https://localhost:8080/"
        },
        "id": "DMmtmunxuWst",
        "outputId": "185fa4af-a906-4721-c1c5-d32acdd0e938"
      },
      "execution_count": null,
      "outputs": [
        {
          "output_type": "stream",
          "name": "stdout",
          "text": [
            "1 선생님 다시는 거짓말을 하지 않겠습니다.\n",
            "2 선생님 다시는 거짓말을 하지 않겠습니다.\n",
            "3 선생님 다시는 거짓말을 하지 않겠습니다.\n",
            "4 선생님 다시는 거짓말을 하지 않겠습니다.\n",
            "5 선생님 다시는 거짓말을 하지 않겠습니다.\n",
            "6 선생님 다시는 거짓말을 하지 않겠습니다.\n",
            "7 선생님 다시는 거짓말을 하지 않겠습니다.\n",
            "8 선생님 다시는 거짓말을 하지 않겠습니다.\n",
            "9 선생님 다시는 거짓말을 하지 않겠습니다.\n",
            "10 선생님 다시는 거짓말을 하지 않겠습니다.\n",
            "11 선생님 다시는 거짓말을 하지 않겠습니다.\n",
            "12 선생님 다시는 거짓말을 하지 않겠습니다.\n",
            "13 선생님 다시는 거짓말을 하지 않겠습니다.\n",
            "14 선생님 다시는 거짓말을 하지 않겠습니다.\n",
            "15 선생님 다시는 거짓말을 하지 않겠습니다.\n",
            "16 선생님 다시는 거짓말을 하지 않겠습니다.\n",
            "17 선생님 다시는 거짓말을 하지 않겠습니다.\n",
            "18 선생님 다시는 거짓말을 하지 않겠습니다.\n",
            "19 선생님 다시는 거짓말을 하지 않겠습니다.\n",
            "20 선생님 다시는 거짓말을 하지 않겠습니다.\n"
          ]
        }
      ]
    },
    {
      "cell_type": "code",
      "source": [
        "for a in range(1,20,2):\n",
        "  print(a,'선생님 다시는 거짓말을 하지 않겠습니다.')"
      ],
      "metadata": {
        "colab": {
          "base_uri": "https://localhost:8080/"
        },
        "id": "6eg8R-z4uipz",
        "outputId": "d70232c9-9fdb-4c5b-e72d-9bfe99a855bd"
      },
      "execution_count": null,
      "outputs": [
        {
          "output_type": "stream",
          "name": "stdout",
          "text": [
            "1 선생님 다시는 거짓말을 하지 않겠습니다.\n",
            "3 선생님 다시는 거짓말을 하지 않겠습니다.\n",
            "5 선생님 다시는 거짓말을 하지 않겠습니다.\n",
            "7 선생님 다시는 거짓말을 하지 않겠습니다.\n",
            "9 선생님 다시는 거짓말을 하지 않겠습니다.\n",
            "11 선생님 다시는 거짓말을 하지 않겠습니다.\n",
            "13 선생님 다시는 거짓말을 하지 않겠습니다.\n",
            "15 선생님 다시는 거짓말을 하지 않겠습니다.\n",
            "17 선생님 다시는 거짓말을 하지 않겠습니다.\n",
            "19 선생님 다시는 거짓말을 하지 않겠습니다.\n"
          ]
        }
      ]
    },
    {
      "cell_type": "code",
      "source": [
        "for a in range(1,20,3):\n",
        "  print(a, '선생님 다시는 거짓말을 하지 않겠습니다.')"
      ],
      "metadata": {
        "colab": {
          "base_uri": "https://localhost:8080/"
        },
        "id": "59AL4Nsmurs9",
        "outputId": "96f7cbba-a06c-4fe8-cf7f-45025ff6ee5e"
      },
      "execution_count": null,
      "outputs": [
        {
          "output_type": "stream",
          "name": "stdout",
          "text": [
            "1 선생님 다시는 거짓말을 하지 않겠습니다.\n",
            "4 선생님 다시는 거짓말을 하지 않겠습니다.\n",
            "7 선생님 다시는 거짓말을 하지 않겠습니다.\n",
            "10 선생님 다시는 거짓말을 하지 않겠습니다.\n",
            "13 선생님 다시는 거짓말을 하지 않겠습니다.\n",
            "16 선생님 다시는 거짓말을 하지 않겠습니다.\n",
            "19 선생님 다시는 거짓말을 하지 않겠습니다.\n"
          ]
        }
      ]
    },
    {
      "cell_type": "code",
      "source": [
        "for a in range(1,20,4):\n",
        "  print(a, '선생님 다시는 거짓말을 하지 않겠습니다.')"
      ],
      "metadata": {
        "colab": {
          "base_uri": "https://localhost:8080/"
        },
        "id": "K92O8a_Au1bH",
        "outputId": "905f54d7-b890-45cf-ee48-42ae9990e392"
      },
      "execution_count": null,
      "outputs": [
        {
          "output_type": "stream",
          "name": "stdout",
          "text": [
            "1 선생님 다시는 거짓말을 하지 않겠습니다.\n",
            "5 선생님 다시는 거짓말을 하지 않겠습니다.\n",
            "9 선생님 다시는 거짓말을 하지 않겠습니다.\n",
            "13 선생님 다시는 거짓말을 하지 않겠습니다.\n",
            "17 선생님 다시는 거짓말을 하지 않겠습니다.\n"
          ]
        }
      ]
    },
    {
      "cell_type": "code",
      "source": [
        "for i in range(20):\n",
        "  print(i, '선생님 다시는 거짓말을 하지 않겠습니다.')"
      ],
      "metadata": {
        "colab": {
          "base_uri": "https://localhost:8080/"
        },
        "id": "E54d52aVu6Je",
        "outputId": "4cbc3691-85fb-43da-b473-8e58dea348db"
      },
      "execution_count": null,
      "outputs": [
        {
          "output_type": "stream",
          "name": "stdout",
          "text": [
            "0 선생님 다시는 거짓말을 하지 않겠습니다.\n",
            "1 선생님 다시는 거짓말을 하지 않겠습니다.\n",
            "2 선생님 다시는 거짓말을 하지 않겠습니다.\n",
            "3 선생님 다시는 거짓말을 하지 않겠습니다.\n",
            "4 선생님 다시는 거짓말을 하지 않겠습니다.\n",
            "5 선생님 다시는 거짓말을 하지 않겠습니다.\n",
            "6 선생님 다시는 거짓말을 하지 않겠습니다.\n",
            "7 선생님 다시는 거짓말을 하지 않겠습니다.\n",
            "8 선생님 다시는 거짓말을 하지 않겠습니다.\n",
            "9 선생님 다시는 거짓말을 하지 않겠습니다.\n",
            "10 선생님 다시는 거짓말을 하지 않겠습니다.\n",
            "11 선생님 다시는 거짓말을 하지 않겠습니다.\n",
            "12 선생님 다시는 거짓말을 하지 않겠습니다.\n",
            "13 선생님 다시는 거짓말을 하지 않겠습니다.\n",
            "14 선생님 다시는 거짓말을 하지 않겠습니다.\n",
            "15 선생님 다시는 거짓말을 하지 않겠습니다.\n",
            "16 선생님 다시는 거짓말을 하지 않겠습니다.\n",
            "17 선생님 다시는 거짓말을 하지 않겠습니다.\n",
            "18 선생님 다시는 거짓말을 하지 않겠습니다.\n",
            "19 선생님 다시는 거짓말을 하지 않겠습니다.\n"
          ]
        }
      ]
    },
    {
      "cell_type": "code",
      "source": [
        "result = 0\n",
        "for i in range(1,51):\n",
        "  result += i\n",
        "print(result)"
      ],
      "metadata": {
        "colab": {
          "base_uri": "https://localhost:8080/"
        },
        "id": "DIOSZKTBvDf6",
        "outputId": "1f66ef98-b67d-4089-ad17-ada87233f278"
      },
      "execution_count": null,
      "outputs": [
        {
          "output_type": "stream",
          "name": "stdout",
          "text": [
            "1275\n"
          ]
        }
      ]
    },
    {
      "cell_type": "code",
      "source": [
        "result = 0\n",
        "for i in range(1,51):\n",
        "  result += i\n",
        "  print(result)"
      ],
      "metadata": {
        "colab": {
          "base_uri": "https://localhost:8080/"
        },
        "id": "DaclS1rPwAT4",
        "outputId": "31c3377d-a392-4a1a-bf4a-83f395ffb245"
      },
      "execution_count": null,
      "outputs": [
        {
          "output_type": "stream",
          "name": "stdout",
          "text": [
            "1\n",
            "3\n",
            "6\n",
            "10\n",
            "15\n",
            "21\n",
            "28\n",
            "36\n",
            "45\n",
            "55\n",
            "66\n",
            "78\n",
            "91\n",
            "105\n",
            "120\n",
            "136\n",
            "153\n",
            "171\n",
            "190\n",
            "210\n",
            "231\n",
            "253\n",
            "276\n",
            "300\n",
            "325\n",
            "351\n",
            "378\n",
            "406\n",
            "435\n",
            "465\n",
            "496\n",
            "528\n",
            "561\n",
            "595\n",
            "630\n",
            "666\n",
            "703\n",
            "741\n",
            "780\n",
            "820\n",
            "861\n",
            "903\n",
            "946\n",
            "990\n",
            "1035\n",
            "1081\n",
            "1128\n",
            "1176\n",
            "1225\n",
            "1275\n"
          ]
        }
      ]
    },
    {
      "cell_type": "code",
      "source": [
        "result = 0\n",
        "for i in range(1,51):\n",
        "  \n"
      ],
      "metadata": {
        "id": "wblNhaWpwOXA"
      },
      "execution_count": null,
      "outputs": []
    }
  ]
}