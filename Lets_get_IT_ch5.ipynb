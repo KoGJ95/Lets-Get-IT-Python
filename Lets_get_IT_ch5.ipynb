{
  "nbformat": 4,
  "nbformat_minor": 0,
  "metadata": {
    "colab": {
      "name": "Lets get IT ch5.ipynb",
      "provenance": [],
      "collapsed_sections": [],
      "authorship_tag": "ABX9TyNZ1rNoepTY6UG+KSL3E4yA",
      "include_colab_link": true
    },
    "kernelspec": {
      "name": "python3",
      "display_name": "Python 3"
    },
    "language_info": {
      "name": "python"
    }
  },
  "cells": [
    {
      "cell_type": "markdown",
      "metadata": {
        "id": "view-in-github",
        "colab_type": "text"
      },
      "source": [
        "<a href=\"https://colab.research.google.com/github/KoGJ95/Lets-Get-IT-Python/blob/main/Lets_get_IT_ch5.ipynb\" target=\"_parent\"><img src=\"https://colab.research.google.com/assets/colab-badge.svg\" alt=\"Open In Colab\"/></a>"
      ]
    },
    {
      "cell_type": "code",
      "source": [
        "  ###반복문###\n",
        "\"\"\"\n",
        "형식\n",
        "for a in data:\n",
        "  명령어 B\n",
        "\"\"\""
      ],
      "metadata": {
        "colab": {
          "base_uri": "https://localhost:8080/",
          "height": 37
        },
        "id": "9udxViLbr_W3",
        "outputId": "b3e2040b-5b3c-4e63-9cee-fda28f6d79ee"
      },
      "execution_count": null,
      "outputs": [
        {
          "output_type": "execute_result",
          "data": {
            "text/plain": [
              "'\\n형식\\nfor a in data:\\n  명령어 B\\n'"
            ],
            "application/vnd.google.colaboratory.intrinsic+json": {
              "type": "string"
            }
          },
          "metadata": {},
          "execution_count": 2
        }
      ]
    },
    {
      "cell_type": "code",
      "source": [
        "for a in [1,2,3,4,5]:\n",
        "  print(a)"
      ],
      "metadata": {
        "colab": {
          "base_uri": "https://localhost:8080/"
        },
        "id": "cBWO3UsPsCD7",
        "outputId": "3071a560-6272-48e1-eee6-c2ffe9888a64"
      },
      "execution_count": null,
      "outputs": [
        {
          "output_type": "stream",
          "name": "stdout",
          "text": [
            "1\n",
            "2\n",
            "3\n",
            "4\n",
            "5\n"
          ]
        }
      ]
    },
    {
      "cell_type": "code",
      "source": [
        "for a in [1,2,3,4,5]:\n",
        "  print('안녕하세요!')"
      ],
      "metadata": {
        "colab": {
          "base_uri": "https://localhost:8080/"
        },
        "id": "OKWyoIkksVdJ",
        "outputId": "e5c5dbd6-0cce-46eb-ea60-8f33b14cbfd1"
      },
      "execution_count": null,
      "outputs": [
        {
          "output_type": "stream",
          "name": "stdout",
          "text": [
            "안녕하세요!\n",
            "안녕하세요!\n",
            "안녕하세요!\n",
            "안녕하세요!\n",
            "안녕하세요!\n"
          ]
        }
      ]
    },
    {
      "cell_type": "code",
      "source": [
        "for a in [1,2,3,4,5]:\n",
        "  print(a, \"을(를) 저장 중 입니다.\")"
      ],
      "metadata": {
        "colab": {
          "base_uri": "https://localhost:8080/"
        },
        "id": "emcLXaQhsbRO",
        "outputId": "1891f87a-fddc-4b60-f5b6-6d20d1a6972e"
      },
      "execution_count": null,
      "outputs": [
        {
          "output_type": "stream",
          "name": "stdout",
          "text": [
            "1 을(를) 저장 중 입니다.\n",
            "2 을(를) 저장 중 입니다.\n",
            "3 을(를) 저장 중 입니다.\n",
            "4 을(를) 저장 중 입니다.\n",
            "5 을(를) 저장 중 입니다.\n"
          ]
        }
      ]
    },
    {
      "cell_type": "code",
      "source": [
        "for a in [9,8,7,6,5,4,3,2,1]:\n",
        "  print(a, '안녕하세요')"
      ],
      "metadata": {
        "colab": {
          "base_uri": "https://localhost:8080/"
        },
        "id": "cNgLAMlCs1xf",
        "outputId": "13f17f3a-9000-4316-8798-a22add43e7cc"
      },
      "execution_count": null,
      "outputs": [
        {
          "output_type": "stream",
          "name": "stdout",
          "text": [
            "9 안녕하세요\n",
            "8 안녕하세요\n",
            "7 안녕하세요\n",
            "6 안녕하세요\n",
            "5 안녕하세요\n",
            "4 안녕하세요\n",
            "3 안녕하세요\n",
            "2 안녕하세요\n",
            "1 안녕하세요\n"
          ]
        }
      ]
    },
    {
      "cell_type": "code",
      "source": [
        "for a in range(1,20):\n",
        "  print(a, '선생님 다시는 거짓말을 하지 않겠습니다.')\n",
        "#종료 숫자 -1에서 종료됨."
      ],
      "metadata": {
        "colab": {
          "base_uri": "https://localhost:8080/"
        },
        "id": "Wk6yrEqLtQaK",
        "outputId": "b3dec5cb-e819-4282-e81f-eb91c08756dc"
      },
      "execution_count": null,
      "outputs": [
        {
          "output_type": "stream",
          "name": "stdout",
          "text": [
            "1 선생님 다시는 거짓말을 하지 않겠습니다.\n",
            "2 선생님 다시는 거짓말을 하지 않겠습니다.\n",
            "3 선생님 다시는 거짓말을 하지 않겠습니다.\n",
            "4 선생님 다시는 거짓말을 하지 않겠습니다.\n",
            "5 선생님 다시는 거짓말을 하지 않겠습니다.\n",
            "6 선생님 다시는 거짓말을 하지 않겠습니다.\n",
            "7 선생님 다시는 거짓말을 하지 않겠습니다.\n",
            "8 선생님 다시는 거짓말을 하지 않겠습니다.\n",
            "9 선생님 다시는 거짓말을 하지 않겠습니다.\n",
            "10 선생님 다시는 거짓말을 하지 않겠습니다.\n",
            "11 선생님 다시는 거짓말을 하지 않겠습니다.\n",
            "12 선생님 다시는 거짓말을 하지 않겠습니다.\n",
            "13 선생님 다시는 거짓말을 하지 않겠습니다.\n",
            "14 선생님 다시는 거짓말을 하지 않겠습니다.\n",
            "15 선생님 다시는 거짓말을 하지 않겠습니다.\n",
            "16 선생님 다시는 거짓말을 하지 않겠습니다.\n",
            "17 선생님 다시는 거짓말을 하지 않겠습니다.\n",
            "18 선생님 다시는 거짓말을 하지 않겠습니다.\n",
            "19 선생님 다시는 거짓말을 하지 않겠습니다.\n"
          ]
        }
      ]
    },
    {
      "cell_type": "code",
      "source": [
        "for a in range(1,21):\n",
        "  print(a, '선생님 다시는 거짓말을 하지 않겠습니다.')"
      ],
      "metadata": {
        "colab": {
          "base_uri": "https://localhost:8080/"
        },
        "id": "vSSGT1nTtpDe",
        "outputId": "670fa147-cb5e-456f-82b3-9fad2f1be281"
      },
      "execution_count": null,
      "outputs": [
        {
          "output_type": "stream",
          "name": "stdout",
          "text": [
            "1 선생님 다시는 거짓말을 하지 않겠습니다.\n",
            "2 선생님 다시는 거짓말을 하지 않겠습니다.\n",
            "3 선생님 다시는 거짓말을 하지 않겠습니다.\n",
            "4 선생님 다시는 거짓말을 하지 않겠습니다.\n",
            "5 선생님 다시는 거짓말을 하지 않겠습니다.\n",
            "6 선생님 다시는 거짓말을 하지 않겠습니다.\n",
            "7 선생님 다시는 거짓말을 하지 않겠습니다.\n",
            "8 선생님 다시는 거짓말을 하지 않겠습니다.\n",
            "9 선생님 다시는 거짓말을 하지 않겠습니다.\n",
            "10 선생님 다시는 거짓말을 하지 않겠습니다.\n",
            "11 선생님 다시는 거짓말을 하지 않겠습니다.\n",
            "12 선생님 다시는 거짓말을 하지 않겠습니다.\n",
            "13 선생님 다시는 거짓말을 하지 않겠습니다.\n",
            "14 선생님 다시는 거짓말을 하지 않겠습니다.\n",
            "15 선생님 다시는 거짓말을 하지 않겠습니다.\n",
            "16 선생님 다시는 거짓말을 하지 않겠습니다.\n",
            "17 선생님 다시는 거짓말을 하지 않겠습니다.\n",
            "18 선생님 다시는 거짓말을 하지 않겠습니다.\n",
            "19 선생님 다시는 거짓말을 하지 않겠습니다.\n",
            "20 선생님 다시는 거짓말을 하지 않겠습니다.\n"
          ]
        }
      ]
    },
    {
      "cell_type": "code",
      "source": [
        "for a in range(0,20):\n",
        "  print(a+1, '선생님 다시는 거짓말을 하지 않겠습니다.')"
      ],
      "metadata": {
        "colab": {
          "base_uri": "https://localhost:8080/"
        },
        "id": "zVLQYWuauMmW",
        "outputId": "66aa41ba-ee6f-4441-dd5c-fe594219a0a2"
      },
      "execution_count": null,
      "outputs": [
        {
          "output_type": "stream",
          "name": "stdout",
          "text": [
            "1 선생님 다시는 거짓말을 하지 않겠습니다.\n",
            "2 선생님 다시는 거짓말을 하지 않겠습니다.\n",
            "3 선생님 다시는 거짓말을 하지 않겠습니다.\n",
            "4 선생님 다시는 거짓말을 하지 않겠습니다.\n",
            "5 선생님 다시는 거짓말을 하지 않겠습니다.\n",
            "6 선생님 다시는 거짓말을 하지 않겠습니다.\n",
            "7 선생님 다시는 거짓말을 하지 않겠습니다.\n",
            "8 선생님 다시는 거짓말을 하지 않겠습니다.\n",
            "9 선생님 다시는 거짓말을 하지 않겠습니다.\n",
            "10 선생님 다시는 거짓말을 하지 않겠습니다.\n",
            "11 선생님 다시는 거짓말을 하지 않겠습니다.\n",
            "12 선생님 다시는 거짓말을 하지 않겠습니다.\n",
            "13 선생님 다시는 거짓말을 하지 않겠습니다.\n",
            "14 선생님 다시는 거짓말을 하지 않겠습니다.\n",
            "15 선생님 다시는 거짓말을 하지 않겠습니다.\n",
            "16 선생님 다시는 거짓말을 하지 않겠습니다.\n",
            "17 선생님 다시는 거짓말을 하지 않겠습니다.\n",
            "18 선생님 다시는 거짓말을 하지 않겠습니다.\n",
            "19 선생님 다시는 거짓말을 하지 않겠습니다.\n",
            "20 선생님 다시는 거짓말을 하지 않겠습니다.\n"
          ]
        }
      ]
    },
    {
      "cell_type": "code",
      "source": [
        "for a in range(20):\n",
        "  print(a+1, '선생님 다시는 거짓말을 하지 않겠습니다.')"
      ],
      "metadata": {
        "colab": {
          "base_uri": "https://localhost:8080/"
        },
        "id": "DMmtmunxuWst",
        "outputId": "185fa4af-a906-4721-c1c5-d32acdd0e938"
      },
      "execution_count": null,
      "outputs": [
        {
          "output_type": "stream",
          "name": "stdout",
          "text": [
            "1 선생님 다시는 거짓말을 하지 않겠습니다.\n",
            "2 선생님 다시는 거짓말을 하지 않겠습니다.\n",
            "3 선생님 다시는 거짓말을 하지 않겠습니다.\n",
            "4 선생님 다시는 거짓말을 하지 않겠습니다.\n",
            "5 선생님 다시는 거짓말을 하지 않겠습니다.\n",
            "6 선생님 다시는 거짓말을 하지 않겠습니다.\n",
            "7 선생님 다시는 거짓말을 하지 않겠습니다.\n",
            "8 선생님 다시는 거짓말을 하지 않겠습니다.\n",
            "9 선생님 다시는 거짓말을 하지 않겠습니다.\n",
            "10 선생님 다시는 거짓말을 하지 않겠습니다.\n",
            "11 선생님 다시는 거짓말을 하지 않겠습니다.\n",
            "12 선생님 다시는 거짓말을 하지 않겠습니다.\n",
            "13 선생님 다시는 거짓말을 하지 않겠습니다.\n",
            "14 선생님 다시는 거짓말을 하지 않겠습니다.\n",
            "15 선생님 다시는 거짓말을 하지 않겠습니다.\n",
            "16 선생님 다시는 거짓말을 하지 않겠습니다.\n",
            "17 선생님 다시는 거짓말을 하지 않겠습니다.\n",
            "18 선생님 다시는 거짓말을 하지 않겠습니다.\n",
            "19 선생님 다시는 거짓말을 하지 않겠습니다.\n",
            "20 선생님 다시는 거짓말을 하지 않겠습니다.\n"
          ]
        }
      ]
    },
    {
      "cell_type": "code",
      "source": [
        "for a in range(1,20,2):\n",
        "  print(a,'선생님 다시는 거짓말을 하지 않겠습니다.')"
      ],
      "metadata": {
        "colab": {
          "base_uri": "https://localhost:8080/"
        },
        "id": "6eg8R-z4uipz",
        "outputId": "d70232c9-9fdb-4c5b-e72d-9bfe99a855bd"
      },
      "execution_count": null,
      "outputs": [
        {
          "output_type": "stream",
          "name": "stdout",
          "text": [
            "1 선생님 다시는 거짓말을 하지 않겠습니다.\n",
            "3 선생님 다시는 거짓말을 하지 않겠습니다.\n",
            "5 선생님 다시는 거짓말을 하지 않겠습니다.\n",
            "7 선생님 다시는 거짓말을 하지 않겠습니다.\n",
            "9 선생님 다시는 거짓말을 하지 않겠습니다.\n",
            "11 선생님 다시는 거짓말을 하지 않겠습니다.\n",
            "13 선생님 다시는 거짓말을 하지 않겠습니다.\n",
            "15 선생님 다시는 거짓말을 하지 않겠습니다.\n",
            "17 선생님 다시는 거짓말을 하지 않겠습니다.\n",
            "19 선생님 다시는 거짓말을 하지 않겠습니다.\n"
          ]
        }
      ]
    },
    {
      "cell_type": "code",
      "source": [
        "for a in range(1,20,3):\n",
        "  print(a, '선생님 다시는 거짓말을 하지 않겠습니다.')"
      ],
      "metadata": {
        "colab": {
          "base_uri": "https://localhost:8080/"
        },
        "id": "59AL4Nsmurs9",
        "outputId": "96f7cbba-a06c-4fe8-cf7f-45025ff6ee5e"
      },
      "execution_count": null,
      "outputs": [
        {
          "output_type": "stream",
          "name": "stdout",
          "text": [
            "1 선생님 다시는 거짓말을 하지 않겠습니다.\n",
            "4 선생님 다시는 거짓말을 하지 않겠습니다.\n",
            "7 선생님 다시는 거짓말을 하지 않겠습니다.\n",
            "10 선생님 다시는 거짓말을 하지 않겠습니다.\n",
            "13 선생님 다시는 거짓말을 하지 않겠습니다.\n",
            "16 선생님 다시는 거짓말을 하지 않겠습니다.\n",
            "19 선생님 다시는 거짓말을 하지 않겠습니다.\n"
          ]
        }
      ]
    },
    {
      "cell_type": "code",
      "source": [
        "for a in range(1,20,4):\n",
        "  print(a, '선생님 다시는 거짓말을 하지 않겠습니다.')"
      ],
      "metadata": {
        "colab": {
          "base_uri": "https://localhost:8080/"
        },
        "id": "K92O8a_Au1bH",
        "outputId": "905f54d7-b890-45cf-ee48-42ae9990e392"
      },
      "execution_count": null,
      "outputs": [
        {
          "output_type": "stream",
          "name": "stdout",
          "text": [
            "1 선생님 다시는 거짓말을 하지 않겠습니다.\n",
            "5 선생님 다시는 거짓말을 하지 않겠습니다.\n",
            "9 선생님 다시는 거짓말을 하지 않겠습니다.\n",
            "13 선생님 다시는 거짓말을 하지 않겠습니다.\n",
            "17 선생님 다시는 거짓말을 하지 않겠습니다.\n"
          ]
        }
      ]
    },
    {
      "cell_type": "code",
      "source": [
        "for i in range(20):\n",
        "  print(i, '선생님 다시는 거짓말을 하지 않겠습니다.')"
      ],
      "metadata": {
        "colab": {
          "base_uri": "https://localhost:8080/"
        },
        "id": "E54d52aVu6Je",
        "outputId": "4cbc3691-85fb-43da-b473-8e58dea348db"
      },
      "execution_count": null,
      "outputs": [
        {
          "output_type": "stream",
          "name": "stdout",
          "text": [
            "0 선생님 다시는 거짓말을 하지 않겠습니다.\n",
            "1 선생님 다시는 거짓말을 하지 않겠습니다.\n",
            "2 선생님 다시는 거짓말을 하지 않겠습니다.\n",
            "3 선생님 다시는 거짓말을 하지 않겠습니다.\n",
            "4 선생님 다시는 거짓말을 하지 않겠습니다.\n",
            "5 선생님 다시는 거짓말을 하지 않겠습니다.\n",
            "6 선생님 다시는 거짓말을 하지 않겠습니다.\n",
            "7 선생님 다시는 거짓말을 하지 않겠습니다.\n",
            "8 선생님 다시는 거짓말을 하지 않겠습니다.\n",
            "9 선생님 다시는 거짓말을 하지 않겠습니다.\n",
            "10 선생님 다시는 거짓말을 하지 않겠습니다.\n",
            "11 선생님 다시는 거짓말을 하지 않겠습니다.\n",
            "12 선생님 다시는 거짓말을 하지 않겠습니다.\n",
            "13 선생님 다시는 거짓말을 하지 않겠습니다.\n",
            "14 선생님 다시는 거짓말을 하지 않겠습니다.\n",
            "15 선생님 다시는 거짓말을 하지 않겠습니다.\n",
            "16 선생님 다시는 거짓말을 하지 않겠습니다.\n",
            "17 선생님 다시는 거짓말을 하지 않겠습니다.\n",
            "18 선생님 다시는 거짓말을 하지 않겠습니다.\n",
            "19 선생님 다시는 거짓말을 하지 않겠습니다.\n"
          ]
        }
      ]
    },
    {
      "cell_type": "code",
      "source": [
        "result = 0\n",
        "for i in range(1,51):\n",
        "  result += i\n",
        "print(result)"
      ],
      "metadata": {
        "colab": {
          "base_uri": "https://localhost:8080/"
        },
        "id": "DIOSZKTBvDf6",
        "outputId": "1f66ef98-b67d-4089-ad17-ada87233f278"
      },
      "execution_count": null,
      "outputs": [
        {
          "output_type": "stream",
          "name": "stdout",
          "text": [
            "1275\n"
          ]
        }
      ]
    },
    {
      "cell_type": "code",
      "source": [
        "result = 0\n",
        "for i in range(1,51):\n",
        "  result += i\n",
        "  print(result)"
      ],
      "metadata": {
        "colab": {
          "base_uri": "https://localhost:8080/"
        },
        "id": "DaclS1rPwAT4",
        "outputId": "31c3377d-a392-4a1a-bf4a-83f395ffb245"
      },
      "execution_count": null,
      "outputs": [
        {
          "output_type": "stream",
          "name": "stdout",
          "text": [
            "1\n",
            "3\n",
            "6\n",
            "10\n",
            "15\n",
            "21\n",
            "28\n",
            "36\n",
            "45\n",
            "55\n",
            "66\n",
            "78\n",
            "91\n",
            "105\n",
            "120\n",
            "136\n",
            "153\n",
            "171\n",
            "190\n",
            "210\n",
            "231\n",
            "253\n",
            "276\n",
            "300\n",
            "325\n",
            "351\n",
            "378\n",
            "406\n",
            "435\n",
            "465\n",
            "496\n",
            "528\n",
            "561\n",
            "595\n",
            "630\n",
            "666\n",
            "703\n",
            "741\n",
            "780\n",
            "820\n",
            "861\n",
            "903\n",
            "946\n",
            "990\n",
            "1035\n",
            "1081\n",
            "1128\n",
            "1176\n",
            "1225\n",
            "1275\n"
          ]
        }
      ]
    },
    {
      "cell_type": "code",
      "source": [
        "result = 0\n",
        "for i in range(101,151):\n",
        "  result += i\n",
        "print(result)"
      ],
      "metadata": {
        "id": "wblNhaWpwOXA",
        "colab": {
          "base_uri": "https://localhost:8080/"
        },
        "outputId": "9ad75b4d-7601-4e73-f1ab-1043344bd744"
      },
      "execution_count": null,
      "outputs": [
        {
          "output_type": "stream",
          "name": "stdout",
          "text": [
            "6275\n"
          ]
        }
      ]
    },
    {
      "cell_type": "code",
      "source": [
        "result =1\n",
        "for i in range(1,50):\n",
        "  result *= i\n",
        "print(result)"
      ],
      "metadata": {
        "colab": {
          "base_uri": "https://localhost:8080/"
        },
        "id": "B59xa8iQ_lkC",
        "outputId": "20255352-dfd5-4c2c-e269-71f7e3450baa"
      },
      "execution_count": null,
      "outputs": [
        {
          "output_type": "stream",
          "name": "stdout",
          "text": [
            "608281864034267560872252163321295376887552831379210240000000000\n"
          ]
        }
      ]
    },
    {
      "cell_type": "code",
      "source": [
        "num = int(input('몇 단을 외울까요?'))\n",
        "for i in range(1,10):\n",
        "  print(num, 'x', i, '=', num*i)"
      ],
      "metadata": {
        "colab": {
          "base_uri": "https://localhost:8080/"
        },
        "id": "sJVE8vDs_veu",
        "outputId": "b5553e57-b464-492b-b259-c8fbae3dcbfa"
      },
      "execution_count": null,
      "outputs": [
        {
          "output_type": "stream",
          "name": "stdout",
          "text": [
            "몇 단을 외울까요?4\n",
            "4 x 1 = 4\n",
            "4 x 2 = 8\n",
            "4 x 3 = 12\n",
            "4 x 4 = 16\n",
            "4 x 5 = 20\n",
            "4 x 6 = 24\n",
            "4 x 7 = 28\n",
            "4 x 8 = 32\n",
            "4 x 9 = 36\n"
          ]
        }
      ]
    },
    {
      "cell_type": "code",
      "source": [
        "import random\n",
        "print(random.random())"
      ],
      "metadata": {
        "colab": {
          "base_uri": "https://localhost:8080/"
        },
        "id": "P3-LhMt1AoAI",
        "outputId": "0bf8c394-32f0-4ee6-8dbf-93d2f824518b"
      },
      "execution_count": null,
      "outputs": [
        {
          "output_type": "stream",
          "name": "stdout",
          "text": [
            "0.46477084510484734\n"
          ]
        }
      ]
    },
    {
      "cell_type": "code",
      "source": [
        "import random\n",
        "print(random.randrange(1,10,2))"
      ],
      "metadata": {
        "colab": {
          "base_uri": "https://localhost:8080/"
        },
        "id": "tfAuCZLMCHX6",
        "outputId": "c5d19a39-74ca-46bb-8612-9b39cbed5497"
      },
      "execution_count": null,
      "outputs": [
        {
          "output_type": "stream",
          "name": "stdout",
          "text": [
            "3\n"
          ]
        }
      ]
    },
    {
      "cell_type": "code",
      "source": [
        "import random\n",
        "print(random.randint(1,10))"
      ],
      "metadata": {
        "colab": {
          "base_uri": "https://localhost:8080/"
        },
        "id": "nfl84Q5hCmy1",
        "outputId": "2f192b95-9e38-431b-8238-303d2b6d5d49"
      },
      "execution_count": null,
      "outputs": [
        {
          "output_type": "stream",
          "name": "stdout",
          "text": [
            "7\n"
          ]
        }
      ]
    },
    {
      "cell_type": "code",
      "source": [
        "import random\n",
        "for i in range(20):\n",
        "  print(random.randint(0, i))"
      ],
      "metadata": {
        "colab": {
          "base_uri": "https://localhost:8080/"
        },
        "id": "2zzNt6S-C-TC",
        "outputId": "ba5fc415-c334-4862-ee3c-427fe03f0ba2"
      },
      "execution_count": null,
      "outputs": [
        {
          "output_type": "stream",
          "name": "stdout",
          "text": [
            "0\n",
            "1\n",
            "0\n",
            "2\n",
            "1\n",
            "1\n",
            "6\n",
            "0\n",
            "5\n",
            "7\n",
            "1\n",
            "11\n",
            "4\n",
            "8\n",
            "3\n",
            "10\n",
            "4\n",
            "17\n",
            "15\n",
            "10\n"
          ]
        }
      ]
    },
    {
      "cell_type": "code",
      "source": [
        "print('구구단을 외자! 구구단을 외자!')\n",
        "import random\n",
        "for i in range(10):\n",
        "  a = random.randint(2,9)\n",
        "  b = random.randint(1,9)\n",
        "  print(a, 'x', b, '=', a*b)"
      ],
      "metadata": {
        "colab": {
          "base_uri": "https://localhost:8080/"
        },
        "id": "jEMMEDceDN3X",
        "outputId": "1557bee7-f157-4364-c2cd-cbc202726036"
      },
      "execution_count": null,
      "outputs": [
        {
          "output_type": "stream",
          "name": "stdout",
          "text": [
            "구구단을 외자! 구구단을 외자!\n",
            "4 x 2 = 8\n",
            "9 x 8 = 72\n",
            "5 x 2 = 10\n",
            "7 x 5 = 35\n",
            "5 x 7 = 35\n",
            "2 x 1 = 2\n",
            "2 x 2 = 4\n",
            "5 x 2 = 10\n",
            "9 x 3 = 27\n",
            "3 x 6 = 18\n"
          ]
        }
      ]
    },
    {
      "cell_type": "code",
      "source": [
        "import random\n",
        "print('구구단을 외자! 구구단을 외자!')\n",
        "for i in range(10):\n",
        "  a,b = random.randint(2,9), random.randint(1,9)\n",
        "  print(a, 'x', b, '=', a*b)"
      ],
      "metadata": {
        "colab": {
          "base_uri": "https://localhost:8080/"
        },
        "id": "IAiWl8yMD5RJ",
        "outputId": "0ec2f57a-bf54-4279-80d6-3429cc9d4a8b"
      },
      "execution_count": null,
      "outputs": [
        {
          "output_type": "stream",
          "name": "stdout",
          "text": [
            "구구단을 외자! 구구단을 외자!\n",
            "9 x 7 = 63\n",
            "7 x 9 = 63\n",
            "9 x 3 = 27\n",
            "5 x 4 = 20\n",
            "4 x 3 = 12\n",
            "2 x 9 = 18\n",
            "4 x 9 = 36\n",
            "2 x 5 = 10\n",
            "8 x 6 = 48\n",
            "5 x 7 = 35\n"
          ]
        }
      ]
    },
    {
      "cell_type": "code",
      "source": [
        "import random\n",
        "print('구구단을 외자! 구구단을 외자!')\n",
        "for i in range(10):\n",
        "  a, b = random.randint(2,9), random.randint(1,9)\n",
        "  question = str(a) + 'x' + str(b) + '?'\n",
        "  input(question)"
      ],
      "metadata": {
        "colab": {
          "base_uri": "https://localhost:8080/",
          "height": 130
        },
        "id": "nYEVj6PLEZjN",
        "outputId": "e7cbe0ca-b042-4e71-c6d5-226603906d6f"
      },
      "execution_count": null,
      "outputs": [
        {
          "output_type": "error",
          "ename": "SyntaxError",
          "evalue": "ignored",
          "traceback": [
            "\u001b[0;36m  File \u001b[0;32m\"<ipython-input-49-822277c8fe0c>\"\u001b[0;36m, line \u001b[0;32m7\u001b[0m\n\u001b[0;31m    if input = a * b:\u001b[0m\n\u001b[0m             ^\u001b[0m\n\u001b[0;31mSyntaxError\u001b[0m\u001b[0;31m:\u001b[0m invalid syntax\n"
          ]
        }
      ]
    },
    {
      "cell_type": "code",
      "source": [
        "###while문###"
      ],
      "metadata": {
        "id": "kjXKjQKXF-Ia"
      },
      "execution_count": null,
      "outputs": []
    },
    {
      "cell_type": "code",
      "source": [
        "num = 0\n",
        "while num < 10:\n",
        "  num = int(input('숫자입력'))"
      ],
      "metadata": {
        "colab": {
          "base_uri": "https://localhost:8080/"
        },
        "id": "EaaoF9ySGLYB",
        "outputId": "65ee8850-32c5-4493-87a8-550bb664bbe3"
      },
      "execution_count": null,
      "outputs": [
        {
          "name": "stdout",
          "output_type": "stream",
          "text": [
            "숫자입력3\n",
            "숫자입력11\n"
          ]
        }
      ]
    },
    {
      "cell_type": "code",
      "source": [
        "for i in range(1,20):\n",
        "  print(i, '선생님, 다시는 청소를 빠지지 않겠습니다.')"
      ],
      "metadata": {
        "colab": {
          "base_uri": "https://localhost:8080/"
        },
        "id": "IOljggR9GSPX",
        "outputId": "38364a0f-cf47-4f4e-9f7f-023db8869591"
      },
      "execution_count": null,
      "outputs": [
        {
          "output_type": "stream",
          "name": "stdout",
          "text": [
            "1 선생님, 다시는 청소를 빠지지 않겠습니다.\n",
            "2 선생님, 다시는 청소를 빠지지 않겠습니다.\n",
            "3 선생님, 다시는 청소를 빠지지 않겠습니다.\n",
            "4 선생님, 다시는 청소를 빠지지 않겠습니다.\n",
            "5 선생님, 다시는 청소를 빠지지 않겠습니다.\n",
            "6 선생님, 다시는 청소를 빠지지 않겠습니다.\n",
            "7 선생님, 다시는 청소를 빠지지 않겠습니다.\n",
            "8 선생님, 다시는 청소를 빠지지 않겠습니다.\n",
            "9 선생님, 다시는 청소를 빠지지 않겠습니다.\n",
            "10 선생님, 다시는 청소를 빠지지 않겠습니다.\n",
            "11 선생님, 다시는 청소를 빠지지 않겠습니다.\n",
            "12 선생님, 다시는 청소를 빠지지 않겠습니다.\n",
            "13 선생님, 다시는 청소를 빠지지 않겠습니다.\n",
            "14 선생님, 다시는 청소를 빠지지 않겠습니다.\n",
            "15 선생님, 다시는 청소를 빠지지 않겠습니다.\n",
            "16 선생님, 다시는 청소를 빠지지 않겠습니다.\n",
            "17 선생님, 다시는 청소를 빠지지 않겠습니다.\n",
            "18 선생님, 다시는 청소를 빠지지 않겠습니다.\n",
            "19 선생님, 다시는 청소를 빠지지 않겠습니다.\n"
          ]
        }
      ]
    },
    {
      "cell_type": "code",
      "source": [
        "i = 1\n",
        "while i < 20:\n",
        "  print(i, '선생님, 다시는 청소를 빠지지 않겠습니다.')\n",
        "  i += 1"
      ],
      "metadata": {
        "colab": {
          "base_uri": "https://localhost:8080/"
        },
        "id": "am65cZv4GyvM",
        "outputId": "29ee6bf9-69db-4d11-882e-1b2b52da13e8"
      },
      "execution_count": null,
      "outputs": [
        {
          "output_type": "stream",
          "name": "stdout",
          "text": [
            "1 선생님, 다시는 청소를 빠지지 않겠습니다.\n",
            "2 선생님, 다시는 청소를 빠지지 않겠습니다.\n",
            "3 선생님, 다시는 청소를 빠지지 않겠습니다.\n",
            "4 선생님, 다시는 청소를 빠지지 않겠습니다.\n",
            "5 선생님, 다시는 청소를 빠지지 않겠습니다.\n",
            "6 선생님, 다시는 청소를 빠지지 않겠습니다.\n",
            "7 선생님, 다시는 청소를 빠지지 않겠습니다.\n",
            "8 선생님, 다시는 청소를 빠지지 않겠습니다.\n",
            "9 선생님, 다시는 청소를 빠지지 않겠습니다.\n",
            "10 선생님, 다시는 청소를 빠지지 않겠습니다.\n",
            "11 선생님, 다시는 청소를 빠지지 않겠습니다.\n",
            "12 선생님, 다시는 청소를 빠지지 않겠습니다.\n",
            "13 선생님, 다시는 청소를 빠지지 않겠습니다.\n",
            "14 선생님, 다시는 청소를 빠지지 않겠습니다.\n",
            "15 선생님, 다시는 청소를 빠지지 않겠습니다.\n",
            "16 선생님, 다시는 청소를 빠지지 않겠습니다.\n",
            "17 선생님, 다시는 청소를 빠지지 않겠습니다.\n",
            "18 선생님, 다시는 청소를 빠지지 않겠습니다.\n",
            "19 선생님, 다시는 청소를 빠지지 않겠습니다.\n"
          ]
        }
      ]
    },
    {
      "cell_type": "code",
      "source": [
        "result = 0\n",
        "for i in range(1, 51):\n",
        "  result += i\n",
        "print(result)"
      ],
      "metadata": {
        "id": "7jpFmhNxG8_w",
        "colab": {
          "base_uri": "https://localhost:8080/"
        },
        "outputId": "ef312b38-3f80-4106-88a3-27eb21296127"
      },
      "execution_count": 1,
      "outputs": [
        {
          "output_type": "stream",
          "name": "stdout",
          "text": [
            "1275\n"
          ]
        }
      ]
    },
    {
      "cell_type": "code",
      "source": [
        "result = 0\n",
        "i = 1\n",
        "while i < 51:\n",
        "  result += i\n",
        "  i += 1\n",
        "print(result)"
      ],
      "metadata": {
        "colab": {
          "base_uri": "https://localhost:8080/"
        },
        "id": "lvmC9zeA61Cj",
        "outputId": "ece4633f-3640-4391-8574-2545b9629cc7"
      },
      "execution_count": 3,
      "outputs": [
        {
          "output_type": "stream",
          "name": "stdout",
          "text": [
            "1275\n"
          ]
        }
      ]
    },
    {
      "cell_type": "code",
      "source": [
        "import random\n",
        "print('구구단을 외자!')\n",
        "for i in range(10):\n",
        "  a, b = random.randint(2, 9), random.randint(1,9)\n",
        "  question = str(a) + 'x' + str(b) + '?'\n",
        "  answer = input(question)\n",
        "  answer = int(answer)\n",
        "  if answer != a*b:\n",
        "    print('틀렸습니다!')"
      ],
      "metadata": {
        "colab": {
          "base_uri": "https://localhost:8080/"
        },
        "id": "4nHiIJx66_vz",
        "outputId": "cc3a34e3-fa0c-4cfa-d2fd-b68677ec986a"
      },
      "execution_count": 4,
      "outputs": [
        {
          "name": "stdout",
          "output_type": "stream",
          "text": [
            "구구단을 외자!\n",
            "9x5?45\n",
            "4x5?1\n",
            "틀렸습니다!\n",
            "2x4?8\n",
            "9x7?56\n",
            "틀렸습니다!\n",
            "4x6?24\n",
            "2x9?18\n",
            "4x3?12\n",
            "9x4?23\n",
            "틀렸습니다!\n",
            "4x5?43\n",
            "틀렸습니다!\n",
            "3x6?18\n"
          ]
        }
      ]
    },
    {
      "cell_type": "code",
      "source": [
        "for i in range(1,31):\n",
        "  if i % 2 == 1:\n",
        "    print(i,'홀수')\n",
        "  if i % 2 == 0:\n",
        "    print(i,'짝수')"
      ],
      "metadata": {
        "colab": {
          "base_uri": "https://localhost:8080/"
        },
        "id": "bsS4cgJg7ncO",
        "outputId": "3ee118a0-9589-463b-d2f9-4689e76ce358"
      },
      "execution_count": 7,
      "outputs": [
        {
          "output_type": "stream",
          "name": "stdout",
          "text": [
            "1 홀수\n",
            "2 짝수\n",
            "3 홀수\n",
            "4 짝수\n",
            "5 홀수\n",
            "6 짝수\n",
            "7 홀수\n",
            "8 짝수\n",
            "9 홀수\n",
            "10 짝수\n",
            "11 홀수\n",
            "12 짝수\n",
            "13 홀수\n",
            "14 짝수\n",
            "15 홀수\n",
            "16 짝수\n",
            "17 홀수\n",
            "18 짝수\n",
            "19 홀수\n",
            "20 짝수\n",
            "21 홀수\n",
            "22 짝수\n",
            "23 홀수\n",
            "24 짝수\n",
            "25 홀수\n",
            "26 짝수\n",
            "27 홀수\n",
            "28 짝수\n",
            "29 홀수\n",
            "30 짝수\n"
          ]
        }
      ]
    },
    {
      "cell_type": "code",
      "source": [
        "for i in range(1,31):\n",
        "  if i % 2 == 1:\n",
        "    print(i,'홀수', end =',')\n",
        "  if i % 2 == 0:\n",
        "    print(i,'짝수', end=',')"
      ],
      "metadata": {
        "colab": {
          "base_uri": "https://localhost:8080/"
        },
        "id": "586F0lNi8GnZ",
        "outputId": "06e52eb2-7895-4471-f734-01bfab190ef0"
      },
      "execution_count": 8,
      "outputs": [
        {
          "output_type": "stream",
          "name": "stdout",
          "text": [
            "1 홀수,2 짝수,3 홀수,4 짝수,5 홀수,6 짝수,7 홀수,8 짝수,9 홀수,10 짝수,11 홀수,12 짝수,13 홀수,14 짝수,15 홀수,16 짝수,17 홀수,18 짝수,19 홀수,20 짝수,21 홀수,22 짝수,23 홀수,24 짝수,25 홀수,26 짝수,27 홀수,28 짝수,29 홀수,30 짝수,"
          ]
        }
      ]
    },
    {
      "cell_type": "code",
      "source": [
        "if '아버지' in '아버지가방에들어가신다.':\n",
        "  print('yes')"
      ],
      "metadata": {
        "colab": {
          "base_uri": "https://localhost:8080/"
        },
        "id": "QcHARQwf8fx3",
        "outputId": "22d0e8ef-73ea-4f3d-e98d-5ba6a2df7417"
      },
      "execution_count": 9,
      "outputs": [
        {
          "output_type": "stream",
          "name": "stdout",
          "text": [
            "yes\n"
          ]
        }
      ]
    },
    {
      "cell_type": "code",
      "source": [
        "if '아버지' in '아버지가방에들어가신다다.':\n",
        "  print('yes')\n",
        "else:\n",
        "  print('no')"
      ],
      "metadata": {
        "colab": {
          "base_uri": "https://localhost:8080/"
        },
        "id": "V70JaU298uzC",
        "outputId": "5e4f04b3-b62e-43a3-c86d-331a7ff34347"
      },
      "execution_count": 10,
      "outputs": [
        {
          "output_type": "stream",
          "name": "stdout",
          "text": [
            "yes\n"
          ]
        }
      ]
    },
    {
      "cell_type": "code",
      "source": [
        "if '어머니' in '아버지가방에들어가신다.':\n",
        "  print('yes')\n",
        "else:\n",
        "  print('no')"
      ],
      "metadata": {
        "colab": {
          "base_uri": "https://localhost:8080/"
        },
        "id": "jdssl1i384bo",
        "outputId": "933c7717-ebf9-4ccf-9411-e1de1dba2901"
      },
      "execution_count": 11,
      "outputs": [
        {
          "output_type": "stream",
          "name": "stdout",
          "text": [
            "no\n"
          ]
        }
      ]
    },
    {
      "cell_type": "code",
      "source": [
        "if '어머니' not in '아버지가방에들어가신다.':\n",
        "  print('yes')\n",
        "else:\n",
        "  print(no)"
      ],
      "metadata": {
        "colab": {
          "base_uri": "https://localhost:8080/"
        },
        "id": "zGWKgDcj9BM8",
        "outputId": "d18bb91d-a5a1-44c5-ce85-89de32d63d4e"
      },
      "execution_count": 12,
      "outputs": [
        {
          "output_type": "stream",
          "name": "stdout",
          "text": [
            "yes\n"
          ]
        }
      ]
    },
    {
      "cell_type": "code",
      "source": [
        "for i in range(1,101):\n",
        "  if '3' in str(i) or '6' in str(i) or '9' in str(i):\n",
        "    print('짝!')\n",
        "  else:\n",
        "    print(i)\n",
        "#in과 not in은 문자열에서만 사용이 가능하다."
      ],
      "metadata": {
        "colab": {
          "base_uri": "https://localhost:8080/"
        },
        "id": "_xWdQ_t-9LAZ",
        "outputId": "0541d948-25d3-4a1c-cd01-7998bcb03dbf"
      },
      "execution_count": 15,
      "outputs": [
        {
          "output_type": "stream",
          "name": "stdout",
          "text": [
            "1\n",
            "2\n",
            "짝!\n",
            "4\n",
            "5\n",
            "짝!\n",
            "7\n",
            "8\n",
            "짝!\n",
            "10\n",
            "11\n",
            "12\n",
            "짝!\n",
            "14\n",
            "15\n",
            "짝!\n",
            "17\n",
            "18\n",
            "짝!\n",
            "20\n",
            "21\n",
            "22\n",
            "짝!\n",
            "24\n",
            "25\n",
            "짝!\n",
            "27\n",
            "28\n",
            "짝!\n",
            "짝!\n",
            "짝!\n",
            "짝!\n",
            "짝!\n",
            "짝!\n",
            "짝!\n",
            "짝!\n",
            "짝!\n",
            "짝!\n",
            "짝!\n",
            "40\n",
            "41\n",
            "42\n",
            "짝!\n",
            "44\n",
            "45\n",
            "짝!\n",
            "47\n",
            "48\n",
            "짝!\n",
            "50\n",
            "51\n",
            "52\n",
            "짝!\n",
            "54\n",
            "55\n",
            "짝!\n",
            "57\n",
            "58\n",
            "짝!\n",
            "짝!\n",
            "짝!\n",
            "짝!\n",
            "짝!\n",
            "짝!\n",
            "짝!\n",
            "짝!\n",
            "짝!\n",
            "짝!\n",
            "짝!\n",
            "70\n",
            "71\n",
            "72\n",
            "짝!\n",
            "74\n",
            "75\n",
            "짝!\n",
            "77\n",
            "78\n",
            "짝!\n",
            "80\n",
            "81\n",
            "82\n",
            "짝!\n",
            "84\n",
            "85\n",
            "짝!\n",
            "87\n",
            "88\n",
            "짝!\n",
            "짝!\n",
            "짝!\n",
            "짝!\n",
            "짝!\n",
            "짝!\n",
            "짝!\n",
            "짝!\n",
            "짝!\n",
            "짝!\n",
            "짝!\n",
            "100\n"
          ]
        }
      ]
    },
    {
      "cell_type": "code",
      "source": [
        "import random\n",
        "for i in range(10):\n",
        "  a, b = random.randint(2, 9), random.randint(1, 9)\n",
        "  answer = input(str(a) + 'x' + str(b) + '?')\n",
        "  answer = int(answer)\n",
        "  if answer != a*b:\n",
        "    print('틀렸습니다! 5번 반복해 읽어 봅시다.') \n",
        "    for j in range(5):\n",
        "      print(a, 'x', b, '?', a * b) "
      ],
      "metadata": {
        "colab": {
          "base_uri": "https://localhost:8080/",
          "height": 919
        },
        "id": "S8M2Bgb99gEg",
        "outputId": "8cf81e03-c7a2-4c90-f963-e2f97ce114b8"
      },
      "execution_count": 17,
      "outputs": [
        {
          "output_type": "stream",
          "name": "stdout",
          "text": [
            "9x7?56\n",
            "틀렸습니다! 5번 반복해 읽어 봅시다.\n",
            "9 x 7 ? 63\n",
            "9 x 7 ? 63\n",
            "9 x 7 ? 63\n",
            "9 x 7 ? 63\n",
            "9 x 7 ? 63\n",
            "9x4?36\n",
            "8x8?64\n",
            "8x4?24\n",
            "틀렸습니다! 5번 반복해 읽어 봅시다.\n",
            "8 x 4 ? 32\n",
            "8 x 4 ? 32\n",
            "8 x 4 ? 32\n",
            "8 x 4 ? 32\n",
            "8 x 4 ? 32\n",
            "6x9?56\n",
            "틀렸습니다! 5번 반복해 읽어 봅시다.\n",
            "6 x 9 ? 54\n",
            "6 x 9 ? 54\n",
            "6 x 9 ? 54\n",
            "6 x 9 ? 54\n",
            "6 x 9 ? 54\n"
          ]
        },
        {
          "output_type": "error",
          "ename": "KeyboardInterrupt",
          "evalue": "ignored",
          "traceback": [
            "\u001b[0;31m---------------------------------------------------------------------------\u001b[0m",
            "\u001b[0;31mKeyboardInterrupt\u001b[0m                         Traceback (most recent call last)",
            "\u001b[0;32m/usr/local/lib/python3.7/dist-packages/ipykernel/kernelbase.py\u001b[0m in \u001b[0;36m_input_request\u001b[0;34m(self, prompt, ident, parent, password)\u001b[0m\n\u001b[1;32m    728\u001b[0m             \u001b[0;32mtry\u001b[0m\u001b[0;34m:\u001b[0m\u001b[0;34m\u001b[0m\u001b[0;34m\u001b[0m\u001b[0m\n\u001b[0;32m--> 729\u001b[0;31m                 \u001b[0mident\u001b[0m\u001b[0;34m,\u001b[0m \u001b[0mreply\u001b[0m \u001b[0;34m=\u001b[0m \u001b[0mself\u001b[0m\u001b[0;34m.\u001b[0m\u001b[0msession\u001b[0m\u001b[0;34m.\u001b[0m\u001b[0mrecv\u001b[0m\u001b[0;34m(\u001b[0m\u001b[0mself\u001b[0m\u001b[0;34m.\u001b[0m\u001b[0mstdin_socket\u001b[0m\u001b[0;34m,\u001b[0m \u001b[0;36m0\u001b[0m\u001b[0;34m)\u001b[0m\u001b[0;34m\u001b[0m\u001b[0;34m\u001b[0m\u001b[0m\n\u001b[0m\u001b[1;32m    730\u001b[0m             \u001b[0;32mexcept\u001b[0m \u001b[0mException\u001b[0m\u001b[0;34m:\u001b[0m\u001b[0;34m\u001b[0m\u001b[0;34m\u001b[0m\u001b[0m\n",
            "\u001b[0;32m/usr/local/lib/python3.7/dist-packages/jupyter_client/session.py\u001b[0m in \u001b[0;36mrecv\u001b[0;34m(self, socket, mode, content, copy)\u001b[0m\n\u001b[1;32m    802\u001b[0m         \u001b[0;32mtry\u001b[0m\u001b[0;34m:\u001b[0m\u001b[0;34m\u001b[0m\u001b[0;34m\u001b[0m\u001b[0m\n\u001b[0;32m--> 803\u001b[0;31m             \u001b[0mmsg_list\u001b[0m \u001b[0;34m=\u001b[0m \u001b[0msocket\u001b[0m\u001b[0;34m.\u001b[0m\u001b[0mrecv_multipart\u001b[0m\u001b[0;34m(\u001b[0m\u001b[0mmode\u001b[0m\u001b[0;34m,\u001b[0m \u001b[0mcopy\u001b[0m\u001b[0;34m=\u001b[0m\u001b[0mcopy\u001b[0m\u001b[0;34m)\u001b[0m\u001b[0;34m\u001b[0m\u001b[0;34m\u001b[0m\u001b[0m\n\u001b[0m\u001b[1;32m    804\u001b[0m         \u001b[0;32mexcept\u001b[0m \u001b[0mzmq\u001b[0m\u001b[0;34m.\u001b[0m\u001b[0mZMQError\u001b[0m \u001b[0;32mas\u001b[0m \u001b[0me\u001b[0m\u001b[0;34m:\u001b[0m\u001b[0;34m\u001b[0m\u001b[0;34m\u001b[0m\u001b[0m\n",
            "\u001b[0;32m/usr/local/lib/python3.7/dist-packages/zmq/sugar/socket.py\u001b[0m in \u001b[0;36mrecv_multipart\u001b[0;34m(self, flags, copy, track)\u001b[0m\n\u001b[1;32m    624\u001b[0m         \"\"\"\n\u001b[0;32m--> 625\u001b[0;31m         \u001b[0mparts\u001b[0m \u001b[0;34m=\u001b[0m \u001b[0;34m[\u001b[0m\u001b[0mself\u001b[0m\u001b[0;34m.\u001b[0m\u001b[0mrecv\u001b[0m\u001b[0;34m(\u001b[0m\u001b[0mflags\u001b[0m\u001b[0;34m,\u001b[0m \u001b[0mcopy\u001b[0m\u001b[0;34m=\u001b[0m\u001b[0mcopy\u001b[0m\u001b[0;34m,\u001b[0m \u001b[0mtrack\u001b[0m\u001b[0;34m=\u001b[0m\u001b[0mtrack\u001b[0m\u001b[0;34m)\u001b[0m\u001b[0;34m]\u001b[0m\u001b[0;34m\u001b[0m\u001b[0;34m\u001b[0m\u001b[0m\n\u001b[0m\u001b[1;32m    626\u001b[0m         \u001b[0;31m# have first part already, only loop while more to receive\u001b[0m\u001b[0;34m\u001b[0m\u001b[0;34m\u001b[0m\u001b[0;34m\u001b[0m\u001b[0m\n",
            "\u001b[0;32mzmq/backend/cython/socket.pyx\u001b[0m in \u001b[0;36mzmq.backend.cython.socket.Socket.recv\u001b[0;34m()\u001b[0m\n",
            "\u001b[0;32mzmq/backend/cython/socket.pyx\u001b[0m in \u001b[0;36mzmq.backend.cython.socket.Socket.recv\u001b[0;34m()\u001b[0m\n",
            "\u001b[0;32mzmq/backend/cython/socket.pyx\u001b[0m in \u001b[0;36mzmq.backend.cython.socket._recv_copy\u001b[0;34m()\u001b[0m\n",
            "\u001b[0;32m/usr/local/lib/python3.7/dist-packages/zmq/backend/cython/checkrc.pxd\u001b[0m in \u001b[0;36mzmq.backend.cython.checkrc._check_rc\u001b[0;34m()\u001b[0m\n",
            "\u001b[0;31mKeyboardInterrupt\u001b[0m: ",
            "\nDuring handling of the above exception, another exception occurred:\n",
            "\u001b[0;31mKeyboardInterrupt\u001b[0m                         Traceback (most recent call last)",
            "\u001b[0;32m<ipython-input-17-05339a6cf54a>\u001b[0m in \u001b[0;36m<module>\u001b[0;34m()\u001b[0m\n\u001b[1;32m      2\u001b[0m \u001b[0;32mfor\u001b[0m \u001b[0mi\u001b[0m \u001b[0;32min\u001b[0m \u001b[0mrange\u001b[0m\u001b[0;34m(\u001b[0m\u001b[0;36m10\u001b[0m\u001b[0;34m)\u001b[0m\u001b[0;34m:\u001b[0m\u001b[0;34m\u001b[0m\u001b[0;34m\u001b[0m\u001b[0m\n\u001b[1;32m      3\u001b[0m   \u001b[0ma\u001b[0m\u001b[0;34m,\u001b[0m \u001b[0mb\u001b[0m \u001b[0;34m=\u001b[0m \u001b[0mrandom\u001b[0m\u001b[0;34m.\u001b[0m\u001b[0mrandint\u001b[0m\u001b[0;34m(\u001b[0m\u001b[0;36m2\u001b[0m\u001b[0;34m,\u001b[0m \u001b[0;36m9\u001b[0m\u001b[0;34m)\u001b[0m\u001b[0;34m,\u001b[0m \u001b[0mrandom\u001b[0m\u001b[0;34m.\u001b[0m\u001b[0mrandint\u001b[0m\u001b[0;34m(\u001b[0m\u001b[0;36m1\u001b[0m\u001b[0;34m,\u001b[0m \u001b[0;36m9\u001b[0m\u001b[0;34m)\u001b[0m\u001b[0;34m\u001b[0m\u001b[0;34m\u001b[0m\u001b[0m\n\u001b[0;32m----> 4\u001b[0;31m   \u001b[0manswer\u001b[0m \u001b[0;34m=\u001b[0m \u001b[0minput\u001b[0m\u001b[0;34m(\u001b[0m\u001b[0mstr\u001b[0m\u001b[0;34m(\u001b[0m\u001b[0ma\u001b[0m\u001b[0;34m)\u001b[0m \u001b[0;34m+\u001b[0m \u001b[0;34m'x'\u001b[0m \u001b[0;34m+\u001b[0m \u001b[0mstr\u001b[0m\u001b[0;34m(\u001b[0m\u001b[0mb\u001b[0m\u001b[0;34m)\u001b[0m \u001b[0;34m+\u001b[0m \u001b[0;34m'?'\u001b[0m\u001b[0;34m)\u001b[0m\u001b[0;34m\u001b[0m\u001b[0;34m\u001b[0m\u001b[0m\n\u001b[0m\u001b[1;32m      5\u001b[0m   \u001b[0manswer\u001b[0m \u001b[0;34m=\u001b[0m \u001b[0mint\u001b[0m\u001b[0;34m(\u001b[0m\u001b[0manswer\u001b[0m\u001b[0;34m)\u001b[0m\u001b[0;34m\u001b[0m\u001b[0;34m\u001b[0m\u001b[0m\n\u001b[1;32m      6\u001b[0m   \u001b[0;32mif\u001b[0m \u001b[0manswer\u001b[0m \u001b[0;34m!=\u001b[0m \u001b[0ma\u001b[0m\u001b[0;34m*\u001b[0m\u001b[0mb\u001b[0m\u001b[0;34m:\u001b[0m\u001b[0;34m\u001b[0m\u001b[0;34m\u001b[0m\u001b[0m\n",
            "\u001b[0;32m/usr/local/lib/python3.7/dist-packages/ipykernel/kernelbase.py\u001b[0m in \u001b[0;36mraw_input\u001b[0;34m(self, prompt)\u001b[0m\n\u001b[1;32m    702\u001b[0m             \u001b[0mself\u001b[0m\u001b[0;34m.\u001b[0m\u001b[0m_parent_ident\u001b[0m\u001b[0;34m,\u001b[0m\u001b[0;34m\u001b[0m\u001b[0;34m\u001b[0m\u001b[0m\n\u001b[1;32m    703\u001b[0m             \u001b[0mself\u001b[0m\u001b[0;34m.\u001b[0m\u001b[0m_parent_header\u001b[0m\u001b[0;34m,\u001b[0m\u001b[0;34m\u001b[0m\u001b[0;34m\u001b[0m\u001b[0m\n\u001b[0;32m--> 704\u001b[0;31m             \u001b[0mpassword\u001b[0m\u001b[0;34m=\u001b[0m\u001b[0;32mFalse\u001b[0m\u001b[0;34m,\u001b[0m\u001b[0;34m\u001b[0m\u001b[0;34m\u001b[0m\u001b[0m\n\u001b[0m\u001b[1;32m    705\u001b[0m         )\n\u001b[1;32m    706\u001b[0m \u001b[0;34m\u001b[0m\u001b[0m\n",
            "\u001b[0;32m/usr/local/lib/python3.7/dist-packages/ipykernel/kernelbase.py\u001b[0m in \u001b[0;36m_input_request\u001b[0;34m(self, prompt, ident, parent, password)\u001b[0m\n\u001b[1;32m    732\u001b[0m             \u001b[0;32mexcept\u001b[0m \u001b[0mKeyboardInterrupt\u001b[0m\u001b[0;34m:\u001b[0m\u001b[0;34m\u001b[0m\u001b[0;34m\u001b[0m\u001b[0m\n\u001b[1;32m    733\u001b[0m                 \u001b[0;31m# re-raise KeyboardInterrupt, to truncate traceback\u001b[0m\u001b[0;34m\u001b[0m\u001b[0;34m\u001b[0m\u001b[0;34m\u001b[0m\u001b[0m\n\u001b[0;32m--> 734\u001b[0;31m                 \u001b[0;32mraise\u001b[0m \u001b[0mKeyboardInterrupt\u001b[0m\u001b[0;34m\u001b[0m\u001b[0;34m\u001b[0m\u001b[0m\n\u001b[0m\u001b[1;32m    735\u001b[0m             \u001b[0;32melse\u001b[0m\u001b[0;34m:\u001b[0m\u001b[0;34m\u001b[0m\u001b[0;34m\u001b[0m\u001b[0m\n\u001b[1;32m    736\u001b[0m                 \u001b[0;32mbreak\u001b[0m\u001b[0;34m\u001b[0m\u001b[0;34m\u001b[0m\u001b[0m\n",
            "\u001b[0;31mKeyboardInterrupt\u001b[0m: "
          ]
        }
      ]
    },
    {
      "cell_type": "code",
      "source": [
        "  ###break###"
      ],
      "metadata": {
        "id": "ACoW33RX-6QX"
      },
      "execution_count": 18,
      "outputs": []
    },
    {
      "cell_type": "code",
      "source": [
        "for i in range(20):\n",
        "  print(i)\n",
        "  break"
      ],
      "metadata": {
        "colab": {
          "base_uri": "https://localhost:8080/"
        },
        "id": "PfVKDABI_jd_",
        "outputId": "6d16692b-60a1-4a48-a17e-3a8a4436d3fe"
      },
      "execution_count": 19,
      "outputs": [
        {
          "output_type": "stream",
          "name": "stdout",
          "text": [
            "0\n"
          ]
        }
      ]
    },
    {
      "cell_type": "code",
      "source": [
        "for i in range(20):\n",
        "  print(i)\n",
        "  if i == 2:\n",
        "    break"
      ],
      "metadata": {
        "colab": {
          "base_uri": "https://localhost:8080/"
        },
        "id": "JjLV4p3P_m02",
        "outputId": "73409e45-13a6-48ce-fd77-7e5b338de98b"
      },
      "execution_count": 22,
      "outputs": [
        {
          "output_type": "stream",
          "name": "stdout",
          "text": [
            "0\n",
            "1\n",
            "2\n"
          ]
        }
      ]
    },
    {
      "cell_type": "code",
      "source": [
        "answer = int(input('숫자입력 : '))\n",
        "for i in range(20):\n",
        "  print(i, end=' ')\n",
        "  if i == answer:\n",
        "    break"
      ],
      "metadata": {
        "colab": {
          "base_uri": "https://localhost:8080/"
        },
        "id": "wlhpC2Hz_ruP",
        "outputId": "9b57e225-0351-42aa-edf6-7c115e0ee47d"
      },
      "execution_count": 24,
      "outputs": [
        {
          "output_type": "stream",
          "name": "stdout",
          "text": [
            "숫자입력 : 14\n",
            "0 1 2 3 4 5 6 7 8 9 10 11 12 13 14 "
          ]
        }
      ]
    },
    {
      "cell_type": "code",
      "source": [
        "answer = int(input('숫자입력 : '))\n",
        "for i in range(20):\n",
        "  if i == answer:\n",
        "    break\n",
        "  print(i, end = ' ')"
      ],
      "metadata": {
        "colab": {
          "base_uri": "https://localhost:8080/"
        },
        "id": "CLRUXyOEABdO",
        "outputId": "c536aa10-1144-41f8-bcdb-59e727bd0a32"
      },
      "execution_count": 25,
      "outputs": [
        {
          "output_type": "stream",
          "name": "stdout",
          "text": [
            "숫자입력 : 14\n",
            "0 1 2 3 4 5 6 7 8 9 10 11 12 13 "
          ]
        }
      ]
    },
    {
      "cell_type": "code",
      "source": [
        "import random\n",
        "for i in range(10):\n",
        "  a, b = random.randint(2, 9), random.randint(1, 9)\n",
        "  answer = input(str(a) + 'x' + str(b) + '?')\n",
        "  answer = int(answer)\n",
        "  if answer != a*b:\n",
        "    print('땡! 정답은', a * b)\n",
        "    break"
      ],
      "metadata": {
        "colab": {
          "base_uri": "https://localhost:8080/"
        },
        "id": "-ZuMVi5UBu7x",
        "outputId": "87dc7283-ed0e-4a7f-a3ce-7e96344d73d7"
      },
      "execution_count": 28,
      "outputs": [
        {
          "output_type": "stream",
          "name": "stdout",
          "text": [
            "2x2?4\n",
            "4x8?12\n",
            "땡! 정답은 32\n"
          ]
        }
      ]
    },
    {
      "cell_type": "code",
      "source": [
        ""
      ],
      "metadata": {
        "id": "-Ccm88wcCZPN"
      },
      "execution_count": null,
      "outputs": []
    }
  ]
}