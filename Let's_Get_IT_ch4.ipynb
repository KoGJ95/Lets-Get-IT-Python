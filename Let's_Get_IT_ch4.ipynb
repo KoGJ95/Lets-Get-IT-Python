{
  "nbformat": 4,
  "nbformat_minor": 0,
  "metadata": {
    "colab": {
      "name": "Let's Get IT ch4.ipynb",
      "provenance": [],
      "collapsed_sections": [],
      "authorship_tag": "ABX9TyMM9uAFPsifsqShESKtl+EJ",
      "include_colab_link": true
    },
    "kernelspec": {
      "name": "python3",
      "display_name": "Python 3"
    },
    "language_info": {
      "name": "python"
    }
  },
  "cells": [
    {
      "cell_type": "markdown",
      "metadata": {
        "id": "view-in-github",
        "colab_type": "text"
      },
      "source": [
        "<a href=\"https://colab.research.google.com/github/KoGJ95/Lets-Get-IT-Python/blob/main/Let's_Get_IT_ch4.ipynb\" target=\"_parent\"><img src=\"https://colab.research.google.com/assets/colab-badge.svg\" alt=\"Open In Colab\"/></a>"
      ]
    },
    {
      "cell_type": "code",
      "execution_count": null,
      "metadata": {
        "id": "x27EbZNDjOFg"
      },
      "outputs": [],
      "source": [
        "##선택 구조란? 특정 조건에서만 명령어가 실행되는 구조 \n",
        "#조건 A를 충족할 때만 B를 하라"
      ]
    },
    {
      "cell_type": "code",
      "source": [
        "\"\"\"\n",
        "if A: #조건 \n",
        "  B   #실행 할 내용\n",
        "\"\"\""
      ],
      "metadata": {
        "colab": {
          "base_uri": "https://localhost:8080/",
          "height": 37
        },
        "id": "2wmeAdUXjsXc",
        "outputId": "8ecd0c26-f01b-4ec1-d8b8-395fd7070970"
      },
      "execution_count": null,
      "outputs": [
        {
          "output_type": "execute_result",
          "data": {
            "text/plain": [
              "'\\nif A: #조건 \\n  B   #실행 할 내용\\n'"
            ],
            "application/vnd.google.colaboratory.intrinsic+json": {
              "type": "string"
            }
          },
          "metadata": {},
          "execution_count": 4
        }
      ]
    },
    {
      "cell_type": "code",
      "source": [
        "age = 23\n",
        "if age > 19:\n",
        "  print('성인은 주류를 구매할 수 있습니다.')\n",
        "#콜론(:) 빠뜨리지 않도록 주의!\n",
        "#조건 밑에는 항상 들여쓰기(indentation)"
      ],
      "metadata": {
        "colab": {
          "base_uri": "https://localhost:8080/"
        },
        "id": "IzEZVer1jzy6",
        "outputId": "57b7afab-2d6c-41a4-d9d2-0c03405798f6"
      },
      "execution_count": null,
      "outputs": [
        {
          "output_type": "stream",
          "name": "stdout",
          "text": [
            "성인은 주류를 구매할 수 있습니다.\n"
          ]
        }
      ]
    },
    {
      "cell_type": "code",
      "source": [
        "age = 18\n",
        "if age < 20:\n",
        "  print('미성년자는 주류를 구매할 수 없습니다.')"
      ],
      "metadata": {
        "colab": {
          "base_uri": "https://localhost:8080/"
        },
        "id": "QfD2QY9RkCFf",
        "outputId": "f287b3bc-0787-4b0e-ca03-33937cf05903"
      },
      "execution_count": null,
      "outputs": [
        {
          "output_type": "stream",
          "name": "stdout",
          "text": [
            "미성년자는 주류를 구매할 수 없습니다.\n"
          ]
        }
      ]
    },
    {
      "cell_type": "code",
      "source": [
        "age = int(input('나이가 어떻게 되세요?'))     #첫번째 실행\n",
        "if age < 20:                             #두번쨰 실행\n",
        "  print('미성년자는 주류를 구매할 수 없습니다.')  #세번째 실행\n",
        "#20살 이상은 조건을 충족하지 않기 떄문에 세번째 실행이 안됨."
      ],
      "metadata": {
        "colab": {
          "base_uri": "https://localhost:8080/"
        },
        "id": "B-iTADIjkZHi",
        "outputId": "a5187e9c-36d2-4073-c572-c00e68311d33"
      },
      "execution_count": null,
      "outputs": [
        {
          "output_type": "stream",
          "name": "stdout",
          "text": [
            "나이가 어떻게 되세요?16\n",
            "미성년자는 주류를 구매할 수 없습니다.\n"
          ]
        }
      ]
    },
    {
      "cell_type": "code",
      "source": [
        "age = int(input('나이가 어떻게 되세요? '))\n",
        "if age < 20:\n",
        "  print('미성년자는 주류를 구매할 수 없습니다.')\n",
        "  print(20-age, '년 후에 성인이 되면 오세요!')"
      ],
      "metadata": {
        "colab": {
          "base_uri": "https://localhost:8080/"
        },
        "id": "fvs89pYNkkno",
        "outputId": "50385e18-301b-4641-b79b-be7b92247000"
      },
      "execution_count": null,
      "outputs": [
        {
          "output_type": "stream",
          "name": "stdout",
          "text": [
            "나이가 어떻게 되세요? 19\n",
            "미성년자는 주류를 구매할 수 없습니다.\n",
            "1 년 후에 성인이 되면 오세요!\n"
          ]
        }
      ]
    },
    {
      "cell_type": "code",
      "source": [
        "age = int(input('나이가 어떻게 되세요? '))       #첫번째 실행\n",
        "if age < 20:                                #두번쨰 실행\n",
        "  print('미성년자는 주류를 구매할 수 없습니다.')     #세번째 실행\n",
        "  print(20-age, '년 후에 성인이 되면 오세요!')    #네번쨰 실행\n",
        "print('감사합니다. 안녕히 가세요.')               #다섯번쨰 실행\n",
        "\"\"\"\n",
        "20 미만의 수를 입력한 경우 : 순차구조로 모든 명령어 전체 실행\n",
        "20 이상의 수를 입력한 경우 : 첫번째, 두번쨰 실행 후 두번쨰 조건을 충족하지 않음으로 내부 명령어를 실행하지 않고 다섯번째 실행을 세번째로 실행함.\n",
        "\"\"\""
      ],
      "metadata": {
        "colab": {
          "base_uri": "https://localhost:8080/",
          "height": 122
        },
        "id": "UOAOoe-SlI8k",
        "outputId": "a0f0ee1c-ea9f-42ac-fb3b-27d22a26fc18"
      },
      "execution_count": null,
      "outputs": [
        {
          "output_type": "stream",
          "name": "stdout",
          "text": [
            "나이가 어떻게 되세요? 12\n",
            "미성년자는 주류를 구매할 수 없습니다.\n",
            "8 년 후에 성인이 되면 오세요!\n",
            "감사합니다. 안녕히 가세요.\n"
          ]
        },
        {
          "output_type": "execute_result",
          "data": {
            "text/plain": [
              "'\\n20 미만의 수를 입력한 경우 : 순차구조로 모든 명령어 전체 실행\\n20 이상의 수를 입력한 경우 : 첫번째, 두번쨰 실행 후 두번쨰 조건을 충족하지 않음으로 내부 명령어를 실행하지 않고 다섯번째 실행을 세번째로 실행함.\\n'"
            ],
            "application/vnd.google.colaboratory.intrinsic+json": {
              "type": "string"
            }
          },
          "metadata": {},
          "execution_count": 17
        }
      ]
    },
    {
      "cell_type": "code",
      "source": [
        "age = 10\n",
        "if age == 20:    #파이썬에서는 등호(=)는 변수값을 저장할 때 사용하는 명령어, 같은지를 묻는건 등호 두개(==)\n",
        "  print(age)"
      ],
      "metadata": {
        "id": "kcJ6_ib5lVkF"
      },
      "execution_count": null,
      "outputs": []
    },
    {
      "cell_type": "code",
      "source": [
        "age = 10\n",
        "if age != 20:    #부정 연산자 : !=\n",
        "  print(age)"
      ],
      "metadata": {
        "colab": {
          "base_uri": "https://localhost:8080/"
        },
        "id": "K4pFSklgmP4p",
        "outputId": "644c9423-9ae5-4fb8-ac71-a5da5ed7d115"
      },
      "execution_count": null,
      "outputs": [
        {
          "output_type": "stream",
          "name": "stdout",
          "text": [
            "10\n"
          ]
        }
      ]
    },
    {
      "cell_type": "code",
      "source": [
        "price = int(input('구매 금액은? '))\n",
        "if price < 50000:\n",
        "  print('배송비 2,500원이 추가됩니다.')"
      ],
      "metadata": {
        "colab": {
          "base_uri": "https://localhost:8080/"
        },
        "id": "PmHeLAHqmZTD",
        "outputId": "552d0749-bc26-4a07-9712-3368756fbbf2"
      },
      "execution_count": null,
      "outputs": [
        {
          "name": "stdout",
          "output_type": "stream",
          "text": [
            "구매 금액은? 510000\n"
          ]
        }
      ]
    },
    {
      "cell_type": "code",
      "source": [
        "price = int(input('구매 금액은? '))\n",
        "if price < 50000:\n",
        "  print('배송비 2,500원이 추가됩니다.')\n",
        "  print('배송비 포함 가격은', price + 2500, '입니다.')\n",
        "  print('무료배송을 원하시면', 50000 - price, '원을 추가해주세요')"
      ],
      "metadata": {
        "colab": {
          "base_uri": "https://localhost:8080/"
        },
        "id": "ZJ651wIhmrhi",
        "outputId": "d87b5ec7-5a2e-4ba2-e0ee-2ce1b6d255c6"
      },
      "execution_count": null,
      "outputs": [
        {
          "output_type": "stream",
          "name": "stdout",
          "text": [
            "구매 금액은? 40000\n",
            "배송비 2,500원이 추가됩니다.\n",
            "배송비 포함 가격은 42500 입니다.\n",
            "무료배송을 원하시면 10000 원을 추가해주세요\n"
          ]
        }
      ]
    },
    {
      "cell_type": "code",
      "source": [
        "price = int(input('구매 금액은? '))\n",
        "if price < 50000:\n",
        "  print('배송비 2,500원이 추가됩니다.')\n",
        "  price += 2500\n",
        "print('결제 금액은', price, '입니다.')"
      ],
      "metadata": {
        "colab": {
          "base_uri": "https://localhost:8080/"
        },
        "id": "QtQ5oth4nQsa",
        "outputId": "903e8219-7f05-45c3-fa22-23962544d926"
      },
      "execution_count": null,
      "outputs": [
        {
          "output_type": "stream",
          "name": "stdout",
          "text": [
            "구매 금액은? 10000\n",
            "배송비 2,500원이 추가됩니다.\n",
            "결제 금액은 12500 입니다.\n"
          ]
        }
      ]
    },
    {
      "cell_type": "code",
      "source": [
        "day = input('오늘이 주중입니까? 주말입니까?')\n",
        "if day == '주중':\n",
        "  print('아침 7시입니다! 주인님 일어나세요!')\n",
        "if day == '주말':\n",
        "  print('아침 10시입니다! 주인님 일어나세요!')"
      ],
      "metadata": {
        "colab": {
          "base_uri": "https://localhost:8080/"
        },
        "id": "tSQaIYlDnvB8",
        "outputId": "0cb3af1e-8059-4ae9-aa20-ef3adfa80667"
      },
      "execution_count": 34,
      "outputs": [
        {
          "output_type": "stream",
          "name": "stdout",
          "text": [
            "오늘이 주중입니까? 주말입니까?주말\n",
            "아침 10시입니다! 주인님 일어나세요!\n"
          ]
        }
      ]
    },
    {
      "cell_type": "code",
      "source": [
        "#조건을 충족하지 않을 때 : else"
      ],
      "metadata": {
        "id": "jTYduIm93_Yg"
      },
      "execution_count": 35,
      "outputs": []
    },
    {
      "cell_type": "code",
      "source": [
        "\"\"\"\n",
        "if A:    #조건\n",
        "  B      #조건을 충족할 때 실행할 내용\n",
        "else:\n",
        "  C      #조건을 충족하지 않을 때 실행할 내용\n",
        "\"\"\""
      ],
      "metadata": {
        "colab": {
          "base_uri": "https://localhost:8080/",
          "height": 37
        },
        "id": "60WghkYJ4Di7",
        "outputId": "60caa916-fdad-4705-d318-04fee384c3c8"
      },
      "execution_count": 37,
      "outputs": [
        {
          "output_type": "execute_result",
          "data": {
            "text/plain": [
              "'\\nif A:    #조건\\n  B      #조건을 충족할 때 실행할 내용\\nelse:\\n  C      #조건을 충족하지 않을 때 실행할 내용\\n'"
            ],
            "application/vnd.google.colaboratory.intrinsic+json": {
              "type": "string"
            }
          },
          "metadata": {},
          "execution_count": 37
        }
      ]
    },
    {
      "cell_type": "code",
      "source": [
        "day = input('오늘이 주중입니까? 주말입니까?')\n",
        "if day == '주중':\n",
        "  print('아침 7시입니다! 주인님 일어나세요!')\n",
        "else:\n",
        "  print('아침 10시입니다! 주인님 일어나세요!')"
      ],
      "metadata": {
        "colab": {
          "base_uri": "https://localhost:8080/"
        },
        "id": "yvUM0sSt4QOF",
        "outputId": "9f9fec5c-c326-4c4d-fab6-871b494caaef"
      },
      "execution_count": 38,
      "outputs": [
        {
          "output_type": "stream",
          "name": "stdout",
          "text": [
            "오늘이 주중입니까? 주말입니까?주말\n",
            "아침 10시입니다! 주인님 일어나세요!\n"
          ]
        }
      ]
    },
    {
      "cell_type": "code",
      "source": [
        "print('미세먼지 저감 조치에 따른 차량 2부제를 실시합니다!')\n",
        "ate = int(input('날짜를 입력해주세요.'))\n",
        "if date % 2 == 0:                      #date를 2로 나눴을 때 나머지가 0인 경우\n",
        "  print('짝수번호 차량만 통행 가능합니다.')\n",
        "  print('홀수번호 차주는 오늘 대중교통을 이용하세요.')\n",
        "else:\n",
        "  print('홀수번호 차량만 통행 가능합니다.')\n",
        "  print('짝수번호 차주는 오늘 대중교통을 이용하세요.')"
      ],
      "metadata": {
        "colab": {
          "base_uri": "https://localhost:8080/"
        },
        "id": "Xgq0baLT4iOq",
        "outputId": "ba0d963c-8322-44cc-e1c4-7861131576f8"
      },
      "execution_count": 45,
      "outputs": [
        {
          "output_type": "stream",
          "name": "stdout",
          "text": [
            "미세먼지 저감 조치에 따른 차량 2부제를 실시합니다!\n",
            "날짜를 입력해주세요.20\n",
            "홀수번호 차량만 통행 가능합니다.\n",
            "짝수번호 차주는 오늘 대중교통을 이용하세요.\n"
          ]
        }
      ]
    },
    {
      "cell_type": "code",
      "source": [
        "#목욕탕 무인 계산기(I made)\n",
        "#나이 입력 받기\n",
        "print('목욕탕 무인 계산기')\n",
        "age = int(input('당신의 나이는?'))\n",
        "if age >= 20:\n",
        "  price = 15000\n",
        "  print('요금은', price, '입니다.')\n",
        "else:\n",
        "  price = 6000\n",
        "  print('요금은', price, '입니다.')\n",
        "#투입금액 입력 받아 입장료와 비교하기\n",
        "price_input = int(input('넣은 금액은?'))\n",
        "if price_input < price:\n",
        "  print('요금을', price - price_input, '만큼 더 내셔야합니다!')\n",
        "if price_input == price:\n",
        "  print('입장하세요!')\n",
        "else:\n",
        "  print('거스럼돈은', price_input - price, '입니다!')\n",
        "\n",
        "# if조건을 충족하지 않으면 모두 else적용"
      ],
      "metadata": {
        "colab": {
          "base_uri": "https://localhost:8080/"
        },
        "id": "lnYFcYSG5P2w",
        "outputId": "27693a6e-ed42-4c33-b0be-e5308e4360a2"
      },
      "execution_count": 71,
      "outputs": [
        {
          "output_type": "stream",
          "name": "stdout",
          "text": [
            "목욕탕 무인 계산기\n",
            "당신의 나이는?20\n",
            "요금은 15000 입니다.\n",
            "넣은 금액은?6000\n",
            "요금을 9000 만큼 더 내셔야합니다!\n",
            "거스럼돈은 -9000 입니다!\n"
          ]
        }
      ]
    },
    {
      "cell_type": "code",
      "source": [
        "#목욕탕 무인 계산기(book)\n",
        "#나이 입력 받기\n",
        "age = int(input('나이가 어떻게 되세요?'))\n",
        "if age >= 20:\n",
        "  print('성인은 15,000원 입니다.')\n",
        "  price = 15000\n",
        "else:\n",
        "  print('미성년자는 6,000원 입니다.')\n",
        "  price = 6000\n",
        "#투입금액을 입력받아 입장료와 비교하기\n",
        "price_input = int(input('입장료를 넣어 주세요. --> '))\n",
        "if price_input < price:\n",
        "  print(price - price_input, '원을 더 내야 합니다.')\n",
        "else:\n",
        "  print(price_input - price, '원 거슬러 드리겠습니다.')"
      ],
      "metadata": {
        "colab": {
          "base_uri": "https://localhost:8080/"
        },
        "id": "e3U5FkdI6MzC",
        "outputId": "6986f865-0bb6-4614-c7e4-ce1072b3fa26"
      },
      "execution_count": 70,
      "outputs": [
        {
          "output_type": "stream",
          "name": "stdout",
          "text": [
            "나이가 어떻게 되세요?20\n",
            "성인은 15,000원 입니다.\n",
            "입장료를 넣어 주세요. --> 6000\n",
            "9000 원을 더 내야 합니다.\n"
          ]
        }
      ]
    },
    {
      "cell_type": "code",
      "source": [
        "a = int(input('숫자 입력 : '))\n",
        "if a < 0:\n",
        "  a = -a\n",
        "else:\n",
        "  a *= 5\n",
        "print(a)"
      ],
      "metadata": {
        "colab": {
          "base_uri": "https://localhost:8080/"
        },
        "id": "JScUD-Jg8KDK",
        "outputId": "e129bbd1-4238-4736-a2f7-45e6826780bb"
      },
      "execution_count": 65,
      "outputs": [
        {
          "output_type": "stream",
          "name": "stdout",
          "text": [
            "숫자 입력 : 2\n",
            "10\n"
          ]
        }
      ]
    },
    {
      "cell_type": "code",
      "source": [
        "#조건이 여러 개일 때 : elif\n",
        "\"\"\"\n",
        "if A:     #조건\n",
        "  B       #조건 A가 충족할 때 실행할 내용\n",
        "elif C:   #조건\n",
        "  D       #조건 A를 충족하지 않고 조건 C를 충족할 때 실행할 내용\n",
        "else:\n",
        "  E       #조건 A,C를 모두 충족하지 않을 때 실행할 내용\n",
        "\"\"\""
      ],
      "metadata": {
        "colab": {
          "base_uri": "https://localhost:8080/",
          "height": 54
        },
        "id": "oZAgcOfS9dlY",
        "outputId": "17650006-5f79-4bb6-99f1-c3a1e79576be"
      },
      "execution_count": 66,
      "outputs": [
        {
          "output_type": "execute_result",
          "data": {
            "text/plain": [
              "'\\nif A:     #조건\\n  B       #조건 A가 충족할 때 실행할 내용\\nelif C:   #조건\\n  D       #조건 A를 충족하지 않고 조건 C를 충족할 때 실행할 내용\\nelse:\\n  E       #조건 A,C를 모두 충족하지 않을 때 실행할 내용\\n'"
            ],
            "application/vnd.google.colaboratory.intrinsic+json": {
              "type": "string"
            }
          },
          "metadata": {},
          "execution_count": 66
        }
      ]
    },
    {
      "cell_type": "code",
      "source": [
        "age = int(input('나이를 입력해 주세요.'))\n",
        "if age >= 20:\n",
        "  price = 15000\n",
        "  print('요금은', price, '입니다.')\n",
        "else:\n",
        "  price = 6000\n",
        "  print('요금은', price, '입니다.')\n",
        "price_input = int(input('투입금액은 얼마입니까?'))\n",
        "if price_input < price:\n",
        "  print(price - price_input, '만큼 더 넣어주세요')\n",
        "elif price_input == price:\n",
        "  print('입장하세요.')\n",
        "else:\n",
        "  print('거스롬돈은', price_input - price, '입니다.')"
      ],
      "metadata": {
        "colab": {
          "base_uri": "https://localhost:8080/"
        },
        "id": "MIY0emjB_nJN",
        "outputId": "c8d8139e-00ea-4393-fce4-1e18438c92aa"
      },
      "execution_count": 77,
      "outputs": [
        {
          "output_type": "stream",
          "name": "stdout",
          "text": [
            "나이를 입력해 주세요.20\n",
            "요금은 15000 입니다.\n",
            "투입금액은 얼마입니까?20000\n",
            "거스롬돈은 5000 입니다.\n"
          ]
        }
      ]
    },
    {
      "cell_type": "code",
      "source": [
        "#무료 배송 가능 여부 확인(I made)\n",
        "price = int(input('구매금액을 입력해 주세요. ---> '))\n",
        "if price < 20000:\n",
        "  print('주문금액이 부족합니다. 금액을', 20000-price, '만큼 더 추가해주세요')\n",
        "elif 20000 <= price < 50000:\n",
        "  print('배송비가 2500원 추가됩니다. 결제금액은', price + 2500, '원 입니다.')\n",
        "else:\n",
        "  print('무료 배송됩니다. 결제금액은', price, '입니다.')"
      ],
      "metadata": {
        "colab": {
          "base_uri": "https://localhost:8080/"
        },
        "id": "8eBkoEUuAe03",
        "outputId": "553636c9-3337-4b0a-ad00-48a3923d0cbc"
      },
      "execution_count": 82,
      "outputs": [
        {
          "output_type": "stream",
          "name": "stdout",
          "text": [
            "구매금액을 입력해 주세요. ---> 50000\n",
            "무료 배송됩니다. 결제금액은 50000 입니다.\n"
          ]
        }
      ]
    },
    {
      "cell_type": "code",
      "source": [
        "#무료 배송 가능 여부 확인(book)\n",
        "price = int(input('구매금액은? '))\n",
        "if price < 20000:\n",
        "  print('주문금액이 부족합니다.')\n",
        "elif price < 50000:\n",
        "  print('배송비 2500원이 추가됩니다.')\n",
        "  price += 2500\n",
        "else:\n",
        "  print('무료배송됩니다.')\n",
        "print('최종 결제금액은', price, '원 입니다.')\n",
        "#이렇게하면 20000원 미만을 입력해도 최종 결제금액이 출력됨."
      ],
      "metadata": {
        "colab": {
          "base_uri": "https://localhost:8080/"
        },
        "id": "pNTXJ4IyBwCY",
        "outputId": "a3869ea9-1fab-4b3a-8dbb-44d6a2686148"
      },
      "execution_count": 84,
      "outputs": [
        {
          "output_type": "stream",
          "name": "stdout",
          "text": [
            "구매금액은? 10000\n",
            "주문금액이 부족합니다.\n",
            "최종 결제금액은 10000 원 입니다.\n"
          ]
        }
      ]
    },
    {
      "cell_type": "code",
      "source": [
        "#차량 2부제 수정(날짜 31까지로 제한)\n",
        "print('미세먼지 저감 조치에 따른 차량 2부제를 실시합니다.')\n",
        "\n",
        "date = int(input('오늘은 몇 일 입니까? ----> '))\n",
        "if date > 31:\n",
        "  print('올바른 날짜를 입력해 주세요.')\n",
        "elif date % 2 == 0:\n",
        "  print('짝수번호 차량만 운행가능 합니다.')\n",
        "  print('홀수번호 차주는 오늘 대중교통을 이용하세요.')\n",
        "else:\n",
        "  print('홀수번호 차량만 이용가능 합니다.')\n",
        "  print('짝수번호 차주는 오늘 대중교통을 이용하세요.')"
      ],
      "metadata": {
        "colab": {
          "base_uri": "https://localhost:8080/"
        },
        "id": "D3B7De5SCdlw",
        "outputId": "57622ed0-84a9-45e4-b8c8-20135ed8b4fa"
      },
      "execution_count": 87,
      "outputs": [
        {
          "output_type": "stream",
          "name": "stdout",
          "text": [
            "미세먼지 저감 조치에 따른 차량 2부제를 실시합니다.\n",
            "오늘은 몇 일 입니까? ----> 123\n",
            "올바른 날짜를 입력해 주세요.\n"
          ]
        }
      ]
    },
    {
      "cell_type": "code",
      "source": [
        "#목욕탕 입구 방향 표시\n",
        "gender = input('당신은 성별을 입력해주세요. ---> ')\n",
        "if gender == '여성':\n",
        "  print('여성 전용탕은 오른쪽 입니다. ------>')\n",
        "elif gender == '남성':\n",
        "  print('<----- 남성 전용탕은 왼쪽 입니다.')\n",
        "else:\n",
        "  print('성별을 다시 입력해주세요.')\n",
        "#elif를 여러번 사용하여 조건문을 만들 수 있다."
      ],
      "metadata": {
        "colab": {
          "base_uri": "https://localhost:8080/"
        },
        "id": "7lgKKLQWDzLG",
        "outputId": "f1aa2001-17a5-4006-de39-91d1a658c7ad"
      },
      "execution_count": 90,
      "outputs": [
        {
          "output_type": "stream",
          "name": "stdout",
          "text": [
            "당신은 성별을 입력해주세요. ---> 중성\n",
            "성별을 똑바로 입력해주세요.\n"
          ]
        }
      ]
    },
    {
      "cell_type": "code",
      "source": [
        "#조건문 안에 조건문\n",
        "print('미세먼지 저감 조치에 따른 차량 2부제를 실시합니다.')\n",
        "\n",
        "date = int(input('오늘은 몇일 입니까? '))\n",
        "if date <= 31:\n",
        "  if date % 2 == 0:\n",
        "    print('짝수 번호 차량만 통행 가능합니다.')\n",
        "    print('홀수 번호 차주는 오늘 대중교통을 이용하세요.')\n",
        "  else:\n",
        "    print('홀수 번호 차량만 통행 가능합니다.')\n",
        "    print('짝수 번호 차주는 오늘 대중교통을 이용하세요')\n",
        "else:\n",
        "  print('올바른 날짜를 입력하세요.')\n"
      ],
      "metadata": {
        "colab": {
          "base_uri": "https://localhost:8080/"
        },
        "id": "4S0-asB4Ekge",
        "outputId": "d2b866a0-2779-445c-ed87-b11cb7792614"
      },
      "execution_count": 91,
      "outputs": [
        {
          "output_type": "stream",
          "name": "stdout",
          "text": [
            "미세먼지 저감 조치에 따른 차량 2부제를 실시합니다.\n",
            "오늘은 몇일 입니까? 20\n",
            "짝수 번호 차량만 통행 가능합니다.\n",
            "홀수 번호 차주는 오늘 대중교통을 이용하세요.\n"
          ]
        }
      ]
    },
    {
      "cell_type": "code",
      "source": [
        "#여러 조건을 동시에 충족 : and\n",
        "consumption = int(input('구매금액은? '))\n",
        "marketing_YN = input('마케팅 이용약관에 동의했습니까? (Y/N) ')\n",
        "\n",
        "if consumption >= 100000 and marketing_YN == 'Y':\n",
        "  print('사은품 지급 대상입니다.')\n",
        "else:\n",
        "  print('사은품 미지급 대상입니다.')"
      ],
      "metadata": {
        "colab": {
          "base_uri": "https://localhost:8080/"
        },
        "id": "UKAZFq0LFudK",
        "outputId": "92cd88f0-1b69-4e55-9e82-2ed5921844e0"
      },
      "execution_count": 97,
      "outputs": [
        {
          "output_type": "stream",
          "name": "stdout",
          "text": [
            "구매금액은? 120000\n",
            "마케팅 이용약관에 동의했습니까? (Y/N) N\n",
            "사은품 미지급 대상입니다.\n"
          ]
        }
      ]
    },
    {
      "cell_type": "code",
      "source": [
        "#사은품 지금 조건 중첩 조건문(I made)\n",
        "consumption = int(input('구매금액은? '))\n",
        "marketing_YN = input('마케팅 이용약관에 동의했습니까? (Y/N) ')\n",
        "\n",
        "if consumption >= 100000:\n",
        "   if marketing_YN == 'Y' or marketing_YN == 'y':\n",
        "     print('사은품 지급 대상입니다.')\n",
        "   else:\n",
        "     print('마케팅 이용약관에 동의하지 않아 사은품 미지급 대상입니다.')\n",
        "elif consumption < 100000:\n",
        "  if marketing_YN == 'Y' or marketing_YN == 'y':\n",
        "    print('구매금액이 충족되지 않아 사은품 미지급 대상입니다.')\n",
        "  else:\n",
        "    print('구매금액이 충족되지 않았고, 마케팅 이용약관에 동의하지 않았기 때문에 사은품 미지급 대상입니다.')"
      ],
      "metadata": {
        "colab": {
          "base_uri": "https://localhost:8080/"
        },
        "id": "kDFkN1WNGhiL",
        "outputId": "390ec15d-4843-4921-c5af-0d64dfe30d16"
      },
      "execution_count": 119,
      "outputs": [
        {
          "output_type": "stream",
          "name": "stdout",
          "text": [
            "구매금액은? 100000\n",
            "마케팅 이용약관에 동의했습니까? (Y/N) Y\n",
            "사은품 지급 대상입니다.\n"
          ]
        }
      ]
    },
    {
      "cell_type": "code",
      "source": [
        "#무료 주차 대상\n",
        "consumption = int(input('구매금액은? '))\n",
        "marketing_YN = input('마케팅 이용약관에 동의했습니까? (Y/N) ')\n",
        "\n",
        "if consumption >= 100000 or marketing_YN == 'Y' or marketing_YN == 'y':\n",
        "  print('무료 주차 대상입니다.')\n",
        "else:\n",
        "  print('무료 주차 대상이 아닙니다.')"
      ],
      "metadata": {
        "colab": {
          "base_uri": "https://localhost:8080/"
        },
        "id": "btZkU15JHmc-",
        "outputId": "64322ef6-5556-4dcc-b170-5c0380655909"
      },
      "execution_count": 123,
      "outputs": [
        {
          "output_type": "stream",
          "name": "stdout",
          "text": [
            "구매금액은? 90000\n",
            "마케팅 이용약관에 동의했습니까? (Y/N) y\n",
            "무료 주차 대상입니다.\n"
          ]
        }
      ]
    },
    {
      "cell_type": "code",
      "source": [
        "#마무리\n",
        "\"\"\"\n",
        "제어구조 : 프로그램의 흐름이자 프로그램 안에서 명령어가 실행되는 구조\n",
        "1. 순차구조 : 위에서 아래의 순서로 실행되는 구조\n",
        "2. 선택구조 : 조건 충족 여부에 따라 실행할 명령어가 달라지는 구조\n",
        "\n",
        "조건문 : 조건 충족 여부에 따라 실행되는 내용이 다른 선택구조를 파이썬 코드로 표현한 것 \n",
        "\"\"\""
      ],
      "metadata": {
        "colab": {
          "base_uri": "https://localhost:8080/",
          "height": 54
        },
        "id": "l0hNLiyGKSMf",
        "outputId": "c71eda7a-6a9b-4946-9137-28c1f55f7a04"
      },
      "execution_count": 126,
      "outputs": [
        {
          "output_type": "execute_result",
          "data": {
            "text/plain": [
              "'\\n제어구조 : 프로그램의 흐름이자 프로그램 안에서 명령어가 실행되는 구조\\n1. 순차구조 : 위에서 아래의 순서로 실행되는 구조\\n2. 선택구조 : 조건 충족 여부에 따라 실행할 명령어가 달라지는 구조\\n\\n조건문 : 조건 충족 여부에 따라 실행되는 내용이 다른 선택구조를 파이썬 코드로 표현한 것 \\n'"
            ],
            "application/vnd.google.colaboratory.intrinsic+json": {
              "type": "string"
            }
          },
          "metadata": {},
          "execution_count": 126
        }
      ]
    },
    {
      "cell_type": "code",
      "source": [
        "#셀프체크 1번\n",
        "cough = input('기침이 있습니까? (Y/N) ')\n",
        "temp = float(input('현재 체온을 입력하세요. '))\n",
        "\n",
        "if cough == 'Y' or cough =='y' and temp >= 38.5:\n",
        "  print('독감일 수 있습니다.')"
      ],
      "metadata": {
        "colab": {
          "base_uri": "https://localhost:8080/"
        },
        "id": "mtRKaEJ-LHRi",
        "outputId": "12d806d4-5a5c-45aa-8c2b-963219fb3279"
      },
      "execution_count": 128,
      "outputs": [
        {
          "output_type": "stream",
          "name": "stdout",
          "text": [
            "기침이 있습니까? (Y/N) y\n",
            "현재 체온을 입력하세요. 39\n",
            "독감일 수 있습니다.\n"
          ]
        }
      ]
    },
    {
      "cell_type": "code",
      "source": [
        "#셀프체크 2번\n",
        "to_eat = input('드시고 싶은 메뉴를 고르세요. (김밥/라면) ')\n",
        "\n",
        "if to_eat == '김밥':\n",
        "  print('야채김밥(2,500원), 참치김밥(3,500원)')\n",
        "elif to_eat == '라면':\n",
        "  print('기본라면(3,500원), 떡라면(4,000원), 만두라면(4,000원)')\n",
        "else:\n",
        "  print('올바른 메뉴를 입력해 주세요.')"
      ],
      "metadata": {
        "colab": {
          "base_uri": "https://localhost:8080/"
        },
        "id": "1_yLgEqALwYP",
        "outputId": "d4cc8f1f-06ec-4968-b1df-8df3554486aa"
      },
      "execution_count": 131,
      "outputs": [
        {
          "output_type": "stream",
          "name": "stdout",
          "text": [
            "드시고 싶은 메뉴를 고르세요. (김밥/라면) 돈까스\n",
            "올바른 메뉴를 입력해 주세요.\n"
          ]
        }
      ]
    },
    {
      "cell_type": "code",
      "source": [
        "#셀프체크 3번\n",
        "score = float(input('점수를 입력하세요. ----> '))\n",
        "if 0 <= score <= 100:\n",
        "  if score >= 80:\n",
        "    print('A등급')\n",
        "  elif 40 <= score < 80:\n",
        "    print('B등급')\n",
        "  else:\n",
        "    print('C등급')\n",
        "else:\n",
        "  print('잘못된 숫자를 입력했습니다.')"
      ],
      "metadata": {
        "colab": {
          "base_uri": "https://localhost:8080/"
        },
        "id": "dspU3PHXMp3b",
        "outputId": "97f00ba9-7e2a-4d47-9c1f-35e6379feadb"
      },
      "execution_count": 149,
      "outputs": [
        {
          "output_type": "stream",
          "name": "stdout",
          "text": [
            "점수를 입력하세요. ----> 100.1\n",
            "잘못된 숫자를 입력했습니다.\n"
          ]
        }
      ]
    },
    {
      "cell_type": "code",
      "source": [
        ""
      ],
      "metadata": {
        "id": "R7tCKGCfNSGg"
      },
      "execution_count": null,
      "outputs": []
    }
  ]
}