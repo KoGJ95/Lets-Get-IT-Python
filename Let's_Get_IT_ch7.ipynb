{
 "cells": [
  {
   "cell_type": "code",
   "execution_count": 3,
   "metadata": {},
   "outputs": [
    {
     "name": "stdout",
     "output_type": "stream",
     "text": [
      "{'break': '깨어지다', 'bring': '가져오다', 'brush': '붓', 'brave': '용감한'}\n",
      "<class 'dict'>\n"
     ]
    }
   ],
   "source": [
    "#7장 : 문자 기준으로 데이터 묶기 : 딕셔너리 \n",
    "#사전처럼 단어와 의미 연결하기\n",
    "eng = {'break':'깨어지다', 'bring':'가져오다', 'brush':'붓','brave':'용감한'}\n",
    "print(eng)\n",
    "print(type(eng))"
   ]
  },
  {
   "cell_type": "code",
   "execution_count": 3,
   "metadata": {},
   "outputs": [
    {
     "name": "stdout",
     "output_type": "stream",
     "text": [
      "깨어지다\n",
      "붓\n",
      "용감한\n"
     ]
    }
   ],
   "source": [
    "eng = {'break':'깨어지다', 'bring':'가져오다', 'brush':'붓','brave':'용감한'}\n",
    "print(eng['break'])\n",
    "print(eng['brush'])\n",
    "print(eng['brave'])"
   ]
  },
  {
   "cell_type": "code",
   "execution_count": 4,
   "metadata": {},
   "outputs": [
    {
     "name": "stdout",
     "output_type": "stream",
     "text": [
      "['깨어지다', '부서지다']\n"
     ]
    }
   ],
   "source": [
    "eng = {'break':['깨어지다','부서지다'], 'bring':'가져오다', 'brush':['붓','빗'],'brave':'용감한'}\n",
    "print(eng['break'])\n"
   ]
  },
  {
   "cell_type": "code",
   "execution_count": 5,
   "metadata": {},
   "outputs": [
    {
     "name": "stdout",
     "output_type": "stream",
     "text": [
      "2500 원 입니다.\n"
     ]
    }
   ],
   "source": [
    "menu = {'김밥':2500, \"참치김밥\":3500, \"라면\":3000, \"치즈라면\":4000}\n",
    "eat = input('어떤 메뉴를 드시겠습니까? ')\n",
    "print(menu[eat], '원 입니다.')"
   ]
  },
  {
   "cell_type": "code",
   "execution_count": 2,
   "metadata": {},
   "outputs": [
    {
     "name": "stdout",
     "output_type": "stream",
     "text": [
      "{'김밥': 2500, '참치김밥': 3000, '라면': 3000, '치즈라면': 4000}\n"
     ]
    }
   ],
   "source": [
    "#값 변경하기\n",
    "menu = {'김밥':2500, '참치김밥':3500, '라면':3000, '치즈라면':4000}\n",
    "menu['참치김밥'] = 3000\n",
    "print(menu)"
   ]
  },
  {
   "cell_type": "code",
   "execution_count": 2,
   "metadata": {},
   "outputs": [
    {
     "name": "stdout",
     "output_type": "stream",
     "text": [
      "{'김밥': 3000, '참치김밥': 3500, '라면': 3000, '치즈라면': 4000}\n",
      "{'김밥': 3000, '참치김밥': 2700, '라면': 3000, '치즈라면': 4000}\n"
     ]
    }
   ],
   "source": [
    "menu = {'김밥':2500, '참치김밥':3500, '라면':3000, '치즈라면':4000}\n",
    "menu['김밥'] += 500\n",
    "print(menu)\n",
    "menu['참치김밥'] -= 800\n",
    "print(menu)"
   ]
  },
  {
   "cell_type": "code",
   "execution_count": 4,
   "metadata": {},
   "outputs": [
    {
     "name": "stdout",
     "output_type": "stream",
     "text": [
      "{'김밥': 2500, '참치김밥': 3500, '라면': 3000, '치즈라면': 4000, '돈까스': 6000}\n"
     ]
    }
   ],
   "source": [
    "#키 값 추가하기\n",
    "menu = {'김밥':2500,'참치김밥':3500,'라면':3000,'치즈라면':4000}\n",
    "menu['돈까스']=6000\n",
    "print(menu)"
   ]
  },
  {
   "cell_type": "code",
   "execution_count": 1,
   "metadata": {},
   "outputs": [
    {
     "name": "stdout",
     "output_type": "stream",
     "text": [
      "{}\n",
      "{'강아지': 'dog'}\n",
      "{'강아지': 'dog', '고양이': 'cat'}\n"
     ]
    }
   ],
   "source": [
    "eng = {}\n",
    "print(eng)\n",
    "eng['강아지'] = 'dog'\n",
    "print(eng)\n",
    "eng['고양이'] = 'cat'\n",
    "print(eng)\n"
   ]
  },
  {
   "cell_type": "code",
   "execution_count": 2,
   "metadata": {},
   "outputs": [
    {
     "name": "stdout",
     "output_type": "stream",
     "text": [
      "{'김밥': 2500, '참치김밥': 3500, '라면': 3000, '치즈라면': 4000, '감자튀김': 1000}\n"
     ]
    }
   ],
   "source": [
    "menu  = {'김밥':2500,'참치김밥':3500,'라면':3000,'치즈라면':4000}\n",
    "name = input('추가할 메뉴는? ')\n",
    "price = int(input('메뉴의 가격은? '))\n",
    "menu[name] = price\n",
    "print(menu)"
   ]
  },
  {
   "cell_type": "code",
   "execution_count": 3,
   "metadata": {},
   "outputs": [
    {
     "name": "stdout",
     "output_type": "stream",
     "text": [
      "{'김밥': 2500, '참치김밥': 3500, '라면': 3000, '치즈라면': 4000}\n"
     ]
    }
   ],
   "source": [
    "menu = {'김밥':2500,'참치김밥':3500,'라면':3000,'치즈라면':4000, '감자튀김':1000}\n",
    "del menu['감자튀김']\n",
    "print(menu)"
   ]
  },
  {
   "cell_type": "code",
   "execution_count": 4,
   "metadata": {},
   "outputs": [
    {
     "name": "stdout",
     "output_type": "stream",
     "text": [
      "dict_keys(['과자', '아이스크림', '휴지', '고기', '우유'])\n"
     ]
    }
   ],
   "source": [
    "#딕셔너리의 키만 꺼내기\n",
    "mart = {'과자':1500, '아이스크림':1700, '휴지':4800, '고기':15000, '우유':2600}\n",
    "print(mart.keys())"
   ]
  },
  {
   "cell_type": "code",
   "execution_count": 6,
   "metadata": {},
   "outputs": [
    {
     "name": "stdout",
     "output_type": "stream",
     "text": [
      "dict_values([1500, 1700, 4800, 15000, 2600])\n"
     ]
    }
   ],
   "source": [
    "#딕셔너리의 값만 꺼내기\n",
    "mart = {'과자':1500, '아이스크림':1700, '휴지':4800, '고기':15000, '우유':2600}\n",
    "print(mart.values())"
   ]
  },
  {
   "cell_type": "code",
   "execution_count": 9,
   "metadata": {},
   "outputs": [
    {
     "name": "stdout",
     "output_type": "stream",
     "text": [
      "['과자', '아이스크림', '휴지', '고기', '우유']\n",
      "[1500, 1700, 4800, 15000, 2600]\n"
     ]
    }
   ],
   "source": [
    "#추출한 결과를 리스트로 바꾸기\n",
    "mart = {'과자':1500, '아이스크림':1700, '휴지':4800, '고기':15000, '우유':2600}\n",
    "print(list(mart.keys()))\n",
    "print(list(mart.values()))"
   ]
  },
  {
   "cell_type": "code",
   "execution_count": 2,
   "metadata": {},
   "outputs": [
    {
     "name": "stdout",
     "output_type": "stream",
     "text": [
      "dict_items([('과자', 1500), ('아이스크림', 1700), ('휴지', 4800), ('고기', 15000), ('우유', 2600)])\n"
     ]
    }
   ],
   "source": [
    "#딕셔너리의 키-값 꺼내기\n",
    "mart = {'과자':1500, '아이스크림':1700, '휴지':4800, '고기':15000, '우유':2600}\n",
    "print(mart.items())"
   ]
  },
  {
   "cell_type": "code",
   "execution_count": 29,
   "metadata": {},
   "outputs": [
    {
     "name": "stdout",
     "output_type": "stream",
     "text": [
      "['고기', '과자', '아이스크림', '우유', '휴지']\n",
      "['휴지', '우유', '아이스크림', '과자', '고기']\n",
      "[1500, 1700, 2600, 4800, 15000]\n",
      "[15000, 4800, 2600, 1700, 1500]\n",
      "[1500, 1700]\n"
     ]
    }
   ],
   "source": [
    "#딕셔너리 정렬하기\n",
    "#오름차순 정렬\n",
    "mart = {'과자':1500, '아이스크림':1700, '휴지':4800, '고기':15000, '우유':2600}\n",
    "print(sorted(mart.keys()))\n",
    "#내림차순 정렬\n",
    "mart = {'과자':1500, '아이스크림':1700, '휴지':4800, '고기':15000, '우유':2600}\n",
    "print(sorted(mart.keys(), reverse = True))\n",
    "#값만으로 정렬하기 - 오름차순\n",
    "mart = {'과자':1500, '아이스크림':1700, '휴지':4800, '고기':15000, '우유':2600}\n",
    "print(sorted(mart.values()))\n",
    "#값만으로 정렬하기 - 내림차순\n",
    "mart = {'과자':1500, '아이스크림':1700, '휴지':4800, '고기':15000, '우유':2600}\n",
    "print(sorted(mart.values(), reverse = True))\n",
    "#값 추출\n",
    "mart = {'과자':1500, '아이스크림':1700, '휴지':4800, '고기':15000, '우유':2600}\n",
    "print(sorted(mart.values())[:2])"
   ]
  },
  {
   "cell_type": "code",
   "execution_count": 24,
   "metadata": {},
   "outputs": [
    {
     "name": "stdout",
     "output_type": "stream",
     "text": [
      "[('고기', 15000), ('과자', 1500), ('아이스크림', 1700), ('우유', 2600), ('휴지', 4800)]\n"
     ]
    }
   ],
   "source": [
    "#딕셔너리 키와 값을 한 쌍으로 묶어서 정렬하기\n",
    "mart = {'과자':1500, '아이스크림':1700, '휴지':4800, '고기':15000, '우유':2600}\n",
    "print(sorted(mart.items()))"
   ]
  },
  {
   "cell_type": "code",
   "execution_count": 26,
   "metadata": {},
   "outputs": [
    {
     "name": "stdout",
     "output_type": "stream",
     "text": [
      "[('휴지', 4800), ('우유', 2600), ('아이스크림', 1700), ('과자', 1500), ('고기', 15000)]\n"
     ]
    }
   ],
   "source": [
    "mart = {'과자':1500, '아이스크림':1700, '휴지':4800, '고기':15000, '우유':2600}\n",
    "print(sorted(mart.items(), reverse = True))"
   ]
  },
  {
   "cell_type": "code",
   "execution_count": 33,
   "metadata": {},
   "outputs": [
    {
     "name": "stdout",
     "output_type": "stream",
     "text": [
      "[('고기', 10500), ('과자', 1500), ('아이스크림', 1700), ('우유', 2600), ('휴지', 4800)]\n"
     ]
    }
   ],
   "source": [
    "#operator(0) - 키를 기준으로, operator(1) - 값을 기준으로 \n",
    "import operator\n",
    "\n",
    "mart = {'과자':1500, '아이스크림':1700, '휴지':4800, '고기':10500, '우유':2600}\n",
    "print(sorted(mart.items(), key = operator.itemgetter(0)))"
   ]
  },
  {
   "cell_type": "code",
   "execution_count": 34,
   "metadata": {},
   "outputs": [
    {
     "name": "stdout",
     "output_type": "stream",
     "text": [
      "[('과자', 1500), ('아이스크림', 1700), ('우유', 2600), ('휴지', 4800), ('고기', 10500)]\n"
     ]
    }
   ],
   "source": [
    "import operator\n",
    "\n",
    "mart = {'과자':1500, '아이스크림':1700, '휴지':4800, '고기':10500, '우유':2600}\n",
    "print(sorted(mart.items(), key = operator.itemgetter(1)))"
   ]
  },
  {
   "cell_type": "code",
   "execution_count": 35,
   "metadata": {},
   "outputs": [
    {
     "name": "stdout",
     "output_type": "stream",
     "text": [
      "[('과자', 1500), ('아이스크림', 1700)]\n"
     ]
    }
   ],
   "source": [
    "import operator \n",
    "\n",
    "mart = {'과자':1500, '아이스크림':1700, '휴지':4800, '고기':10500, '우유':2600}\n",
    "print(sorted(mart.items(), key = operator.itemgetter(1))[:2])"
   ]
  },
  {
   "cell_type": "code",
   "execution_count": 36,
   "metadata": {},
   "outputs": [
    {
     "name": "stdout",
     "output_type": "stream",
     "text": [
      "{'과자': 1500, '아이스크림': 1700, '휴지': 4800, '고기': 10500, '우유': 2600}\n"
     ]
    }
   ],
   "source": [
    "mart = {'과자':1500, '아이스크림':1700, '휴지':4800, '고기':10500, '우유':2600}\n",
    "sorted(mart.keys())\n",
    "print(mart)"
   ]
  },
  {
   "cell_type": "code",
   "execution_count": 37,
   "metadata": {},
   "outputs": [
    {
     "name": "stdout",
     "output_type": "stream",
     "text": [
      "['고기', '과자', '아이스크림', '우유', '휴지']\n"
     ]
    }
   ],
   "source": [
    "mart = {'과자':1500, '아이스크림':1700, '휴지':4800, '고기':10500, '우유':2600}\n",
    "mart = sorted(mart.keys())\n",
    "print(mart)"
   ]
  },
  {
   "cell_type": "code",
   "execution_count": 39,
   "metadata": {},
   "outputs": [
    {
     "name": "stdout",
     "output_type": "stream",
     "text": [
      "{'고기': 10500, '과자': 1500, '아이스크림': 1700, '우유': 2600, '휴지': 4800}\n"
     ]
    }
   ],
   "source": [
    "mart = {'과자':1500, '아이스크림':1700, '휴지':4800, '고기':10500, '우유':2600}\n",
    "mart = dict(sorted(mart.items()))\n",
    "print(mart)"
   ]
  },
  {
   "cell_type": "markdown",
   "metadata": {},
   "source": [
    "# 7.2 제어구조로 딕셔너리 다루기\n",
    "## 조건문으로 딕셔너리 다루기"
   ]
  },
  {
   "cell_type": "code",
   "execution_count": 42,
   "metadata": {},
   "outputs": [
    {
     "name": "stdout",
     "output_type": "stream",
     "text": [
      "해당 학생이 없습니다.\n"
     ]
    }
   ],
   "source": [
    "midterm = {'도윤':43, '하윤':82, '시우':76, '지유':61, '주원':94}\n",
    "student = input('어떤 학생의 점수가 궁금하신가요? ')\n",
    "if student in midterm.keys():\n",
    "    print(midterm[student], '점입니다.')\n",
    "else:\n",
    "    print('해당 학생이 없습니다.')"
   ]
  },
  {
   "cell_type": "code",
   "execution_count": 43,
   "metadata": {},
   "outputs": [
    {
     "name": "stdout",
     "output_type": "stream",
     "text": [
      "도윤 하윤 시우 지유 주원 "
     ]
    }
   ],
   "source": [
    "#반복문으로 딕셔너리 다루기\n",
    "midterm = {'도윤': 43, '하윤':82, '시우':76, '지유':61, '주원':94}\n",
    "for k in midterm.keys():\n",
    "    print(k, end=' ')"
   ]
  },
  {
   "cell_type": "code",
   "execution_count": 44,
   "metadata": {},
   "outputs": [
    {
     "name": "stdout",
     "output_type": "stream",
     "text": [
      "43 82 76 61 94 "
     ]
    }
   ],
   "source": [
    "midterm = {'도윤':43, '하윤':82, '시우':76, '지유':61, '주원':94}\n",
    "for v in midterm.values():\n",
    "    print(v, end = ' ')"
   ]
  },
  {
   "cell_type": "code",
   "execution_count": 45,
   "metadata": {},
   "outputs": [
    {
     "name": "stdout",
     "output_type": "stream",
     "text": [
      "도윤 43 하윤 82 시우 76 지유 61 주원 94 "
     ]
    }
   ],
   "source": [
    "midterm = {'도윤':43, '하윤':82, '시우':76, '지유':61, '주원':94}\n",
    "for k in midterm.keys():\n",
    "    print(k, midterm[k], end=' ')"
   ]
  },
  {
   "cell_type": "code",
   "execution_count": 46,
   "metadata": {},
   "outputs": [
    {
     "name": "stdout",
     "output_type": "stream",
     "text": [
      "('도윤', 43) ('하윤', 82) ('시우', 76) ('지유', 61) ('주원', 94) "
     ]
    }
   ],
   "source": [
    "midterm = {'도윤':43, '하윤':82, '시우':76, '지유':61, '주원':94}\n",
    "for i in midterm.items():\n",
    "    print(i, end=' ')"
   ]
  },
  {
   "cell_type": "code",
   "execution_count": 47,
   "metadata": {},
   "outputs": [
    {
     "name": "stdout",
     "output_type": "stream",
     "text": [
      "도윤 43 하윤 82 시우 76 지유 61 주원 94 "
     ]
    }
   ],
   "source": [
    "midterm = {'도윤':43, '하윤':82, '시우':76, '지유':61, '주원':94}\n",
    "for k,v in midterm.items():\n",
    "    print(k, v, end=' ')"
   ]
  },
  {
   "cell_type": "code",
   "execution_count": 48,
   "metadata": {},
   "outputs": [
    {
     "name": "stdout",
     "output_type": "stream",
     "text": [
      "점수가 70점 이상인 학생의 이름과 점수를 모두 출력합니다.\n",
      "하윤 82 시우 76 주원 94 "
     ]
    }
   ],
   "source": [
    "#중첩 제어구조로 딕셔너리 만들기\n",
    "midterm = {'도윤':43, '하윤':82, '시우':76, '지유':61, '주원':94}\n",
    "print('점수가 70점 이상인 학생의 이름과 점수를 모두 출력합니다.')\n",
    "for k, v in midterm.items():\n",
    "    if v > 70:\n",
    "        print(k,v,end=' ')"
   ]
  },
  {
   "cell_type": "code",
   "execution_count": 49,
   "metadata": {},
   "outputs": [
    {
     "name": "stdout",
     "output_type": "stream",
     "text": [
      "도윤 하윤 시우 지유 주원 "
     ]
    }
   ],
   "source": [
    "midterm = {'도윤':43, '하윤':82, '시우':76, '지유':61, '주원':94}\n",
    "for m in midterm:\n",
    "    print(m, end= ' ')"
   ]
  },
  {
   "cell_type": "code",
   "execution_count": 50,
   "metadata": {},
   "outputs": [],
   "source": [
    "#딕셔너리로 간단한 프로그램 만들기\n",
    "alibaba = \" in a town of persia lived two brothers , sons of a poor man; one named cassim, the other alibaba . cassim , the elder...\"\n",
    "vocab = {}\n",
    "word_list = alibaba.split()\n",
    "for w in word_list:\n",
    "    if w not in vocab:   # 단어가 vocab 딕셔너리의 키에 없으면\n",
    "        vocab[w] = 1     # 새로운 요소 추가\n",
    "    else:                # 단어가 vocab 딕셔너리의 키에 있으면\n",
    "        vocab[w] += 1    # vocab[w]의 값 1 증가 \n",
    "print(vocab)"
   ]
  },
  {
   "cell_type": "code",
   "execution_count": null,
   "metadata": {},
   "outputs": [],
   "source": []
  }
 ],
 "metadata": {
  "interpreter": {
   "hash": "aee8b7b246df8f9039afb4144a1f6fd8d2ca17a180786b69acc140d282b71a49"
  },
  "kernelspec": {
   "display_name": "Python 3.10.4 64-bit",
   "language": "python",
   "name": "python3"
  },
  "language_info": {
   "codemirror_mode": {
    "name": "ipython",
    "version": 3
   },
   "file_extension": ".py",
   "mimetype": "text/x-python",
   "name": "python",
   "nbconvert_exporter": "python",
   "pygments_lexer": "ipython3",
   "version": "3.10.4"
  },
  "orig_nbformat": 4
 },
 "nbformat": 4,
 "nbformat_minor": 2
}
