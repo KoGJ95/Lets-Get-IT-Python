{
 "cells": [
  {
   "cell_type": "code",
   "execution_count": 3,
   "metadata": {},
   "outputs": [
    {
     "name": "stdout",
     "output_type": "stream",
     "text": [
      "{'break': '깨어지다', 'bring': '가져오다', 'brush': '붓', 'brave': '용감한'}\n",
      "<class 'dict'>\n"
     ]
    }
   ],
   "source": [
    "#7장 : 문자 기준으로 데이터 묶기 : 딕셔너리 \n",
    "#사전처럼 단어와 의미 연결하기\n",
    "eng = {'break':'깨어지다', 'bring':'가져오다', 'brush':'붓','brave':'용감한'}\n",
    "print(eng)\n",
    "print(type(eng))"
   ]
  },
  {
   "cell_type": "code",
   "execution_count": 3,
   "metadata": {},
   "outputs": [
    {
     "name": "stdout",
     "output_type": "stream",
     "text": [
      "깨어지다\n",
      "붓\n",
      "용감한\n"
     ]
    }
   ],
   "source": [
    "eng = {'break':'깨어지다', 'bring':'가져오다', 'brush':'붓','brave':'용감한'}\n",
    "print(eng['break'])\n",
    "print(eng['brush'])\n",
    "print(eng['brave'])"
   ]
  },
  {
   "cell_type": "code",
   "execution_count": 4,
   "metadata": {},
   "outputs": [
    {
     "name": "stdout",
     "output_type": "stream",
     "text": [
      "['깨어지다', '부서지다']\n"
     ]
    }
   ],
   "source": [
    "eng = {'break':['깨어지다','부서지다'], 'bring':'가져오다', 'brush':['붓','빗'],'brave':'용감한'}\n",
    "print(eng['break'])\n"
   ]
  },
  {
   "cell_type": "code",
   "execution_count": 5,
   "metadata": {},
   "outputs": [
    {
     "name": "stdout",
     "output_type": "stream",
     "text": [
      "2500 원 입니다.\n"
     ]
    }
   ],
   "source": [
    "menu = {'김밥':2500, \"참치김밥\":3500, \"라면\":3000, \"치즈라면\":4000}\n",
    "eat = input('어떤 메뉴를 드시겠습니까? ')\n",
    "print(menu[eat], '원 입니다.')"
   ]
  },
  {
   "cell_type": "code",
   "execution_count": 2,
   "metadata": {},
   "outputs": [
    {
     "name": "stdout",
     "output_type": "stream",
     "text": [
      "{'김밥': 2500, '참치김밥': 3000, '라면': 3000, '치즈라면': 4000}\n"
     ]
    }
   ],
   "source": [
    "#값 변경하기\n",
    "menu = {'김밥':2500, '참치김밥':3500, '라면':3000, '치즈라면':4000}\n",
    "menu['참치김밥'] = 3000\n",
    "print(menu)"
   ]
  },
  {
   "cell_type": "code",
   "execution_count": 2,
   "metadata": {},
   "outputs": [
    {
     "name": "stdout",
     "output_type": "stream",
     "text": [
      "{'김밥': 3000, '참치김밥': 3500, '라면': 3000, '치즈라면': 4000}\n",
      "{'김밥': 3000, '참치김밥': 2700, '라면': 3000, '치즈라면': 4000}\n"
     ]
    }
   ],
   "source": [
    "menu = {'김밥':2500, '참치김밥':3500, '라면':3000, '치즈라면':4000}\n",
    "menu['김밥'] += 500\n",
    "print(menu)\n",
    "menu['참치김밥'] -= 800\n",
    "print(menu)"
   ]
  },
  {
   "cell_type": "code",
   "execution_count": 4,
   "metadata": {},
   "outputs": [
    {
     "name": "stdout",
     "output_type": "stream",
     "text": [
      "{'김밥': 2500, '참치김밥': 3500, '라면': 3000, '치즈라면': 4000, '돈까스': 6000}\n"
     ]
    }
   ],
   "source": [
    "#키 값 추가하기\n",
    "menu = {'김밥':2500,'참치김밥':3500,'라면':3000,'치즈라면':4000}\n",
    "menu['돈까스']=6000\n",
    "print(menu)"
   ]
  },
  {
   "cell_type": "code",
   "execution_count": 1,
   "metadata": {},
   "outputs": [
    {
     "name": "stdout",
     "output_type": "stream",
     "text": [
      "{}\n",
      "{'강아지': 'dog'}\n",
      "{'강아지': 'dog', '고양이': 'cat'}\n"
     ]
    }
   ],
   "source": [
    "eng = {}\n",
    "print(eng)\n",
    "eng['강아지'] = 'dog'\n",
    "print(eng)\n",
    "eng['고양이'] = 'cat'\n",
    "print(eng)\n"
   ]
  },
  {
   "cell_type": "code",
   "execution_count": 2,
   "metadata": {},
   "outputs": [
    {
     "name": "stdout",
     "output_type": "stream",
     "text": [
      "{'김밥': 2500, '참치김밥': 3500, '라면': 3000, '치즈라면': 4000, '감자튀김': 1000}\n"
     ]
    }
   ],
   "source": [
    "menu  = {'김밥':2500,'참치김밥':3500,'라면':3000,'치즈라면':4000}\n",
    "name = input('추가할 메뉴는? ')\n",
    "price = int(input('메뉴의 가격은? '))\n",
    "menu[name] = price\n",
    "print(menu)"
   ]
  },
  {
   "cell_type": "code",
   "execution_count": 3,
   "metadata": {},
   "outputs": [
    {
     "name": "stdout",
     "output_type": "stream",
     "text": [
      "{'김밥': 2500, '참치김밥': 3500, '라면': 3000, '치즈라면': 4000}\n"
     ]
    }
   ],
   "source": [
    "menu = {'김밥':2500,'참치김밥':3500,'라면':3000,'치즈라면':4000, '감자튀김':1000}\n",
    "del menu['감자튀김']\n",
    "print(menu)"
   ]
  },
  {
   "cell_type": "code",
   "execution_count": 4,
   "metadata": {},
   "outputs": [
    {
     "name": "stdout",
     "output_type": "stream",
     "text": [
      "dict_keys(['과자', '아이스크림', '휴지', '고기', '우유'])\n"
     ]
    }
   ],
   "source": [
    "#딕셔너리의 키만 꺼내기\n",
    "mart = {'과자':1500, '아이스크림':1700, '휴지':4800, '고기':15000, '우유':2600}\n",
    "print(mart.keys())"
   ]
  },
  {
   "cell_type": "code",
   "execution_count": 6,
   "metadata": {},
   "outputs": [
    {
     "name": "stdout",
     "output_type": "stream",
     "text": [
      "dict_values([1500, 1700, 4800, 15000, 2600])\n"
     ]
    }
   ],
   "source": [
    "#딕셔너리의 값만 꺼내기\n",
    "mart = {'과자':1500, '아이스크림':1700, '휴지':4800, '고기':15000, '우유':2600}\n",
    "print(mart.values())"
   ]
  },
  {
   "cell_type": "code",
   "execution_count": 9,
   "metadata": {},
   "outputs": [
    {
     "name": "stdout",
     "output_type": "stream",
     "text": [
      "['과자', '아이스크림', '휴지', '고기', '우유']\n",
      "[1500, 1700, 4800, 15000, 2600]\n"
     ]
    }
   ],
   "source": [
    "#추출한 결과를 리스트로 바꾸기\n",
    "mart = {'과자':1500, '아이스크림':1700, '휴지':4800, '고기':15000, '우유':2600}\n",
    "print(list(mart.keys()))\n",
    "print(list(mart.values()))"
   ]
  },
  {
   "cell_type": "code",
   "execution_count": null,
   "metadata": {},
   "outputs": [],
   "source": []
  }
 ],
 "metadata": {
  "interpreter": {
   "hash": "aee8b7b246df8f9039afb4144a1f6fd8d2ca17a180786b69acc140d282b71a49"
  },
  "kernelspec": {
   "display_name": "Python 3.10.4 64-bit",
   "language": "python",
   "name": "python3"
  },
  "language_info": {
   "codemirror_mode": {
    "name": "ipython",
    "version": 3
   },
   "file_extension": ".py",
   "mimetype": "text/x-python",
   "name": "python",
   "nbconvert_exporter": "python",
   "pygments_lexer": "ipython3",
   "version": "3.10.4"
  },
  "orig_nbformat": 4
 },
 "nbformat": 4,
 "nbformat_minor": 2
}
