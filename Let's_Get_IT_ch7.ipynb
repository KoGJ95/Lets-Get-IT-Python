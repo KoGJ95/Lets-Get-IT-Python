{
 "cells": [
  {
   "cell_type": "code",
   "execution_count": 3,
   "metadata": {},
   "outputs": [
    {
     "name": "stdout",
     "output_type": "stream",
     "text": [
      "{'break': '깨어지다', 'bring': '가져오다', 'brush': '붓', 'brave': '용감한'}\n",
      "<class 'dict'>\n"
     ]
    }
   ],
   "source": [
    "#7장 : 문자 기준으로 데이터 묶기 : 딕셔너리 \n",
    "#사전처럼 단어와 의미 연결하기\n",
    "eng = {'break':'깨어지다', 'bring':'가져오다', 'brush':'붓','brave':'용감한'}\n",
    "print(eng)\n",
    "print(type(eng))"
   ]
  },
  {
   "cell_type": "code",
   "execution_count": 3,
   "metadata": {},
   "outputs": [
    {
     "name": "stdout",
     "output_type": "stream",
     "text": [
      "깨어지다\n",
      "붓\n",
      "용감한\n"
     ]
    }
   ],
   "source": [
    "eng = {'break':'깨어지다', 'bring':'가져오다', 'brush':'붓','brave':'용감한'}\n",
    "print(eng['break'])\n",
    "print(eng['brush'])\n",
    "print(eng['brave'])"
   ]
  },
  {
   "cell_type": "code",
   "execution_count": 4,
   "metadata": {},
   "outputs": [
    {
     "name": "stdout",
     "output_type": "stream",
     "text": [
      "['깨어지다', '부서지다']\n"
     ]
    }
   ],
   "source": [
    "eng = {'break':['깨어지다','부서지다'], 'bring':'가져오다', 'brush':['붓','빗'],'brave':'용감한'}\n",
    "print(eng['break'])\n"
   ]
  },
  {
   "cell_type": "code",
   "execution_count": 5,
   "metadata": {},
   "outputs": [
    {
     "name": "stdout",
     "output_type": "stream",
     "text": [
      "2500 원 입니다.\n"
     ]
    }
   ],
   "source": [
    "menu = {'김밥':2500, \"참치김밥\":3500, \"라면\":3000, \"치즈라면\":4000}\n",
    "eat = input('어떤 메뉴를 드시겠습니까? ')\n",
    "print(menu[eat], '원 입니다.')"
   ]
  },
  {
   "cell_type": "code",
   "execution_count": null,
   "metadata": {},
   "outputs": [],
   "source": []
  }
 ],
 "metadata": {
  "interpreter": {
   "hash": "aee8b7b246df8f9039afb4144a1f6fd8d2ca17a180786b69acc140d282b71a49"
  },
  "kernelspec": {
   "display_name": "Python 3.10.4 64-bit",
   "language": "python",
   "name": "python3"
  },
  "language_info": {
   "codemirror_mode": {
    "name": "ipython",
    "version": 3
   },
   "file_extension": ".py",
   "mimetype": "text/x-python",
   "name": "python",
   "nbconvert_exporter": "python",
   "pygments_lexer": "ipython3",
   "version": "3.10.4"
  },
  "orig_nbformat": 4
 },
 "nbformat": 4,
 "nbformat_minor": 2
}
