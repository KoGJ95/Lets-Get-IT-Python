{
 "cells": [
  {
   "cell_type": "code",
   "execution_count": 3,
   "metadata": {},
   "outputs": [
    {
     "name": "stdout",
     "output_type": "stream",
     "text": [
      "{'break': '깨어지다', 'bring': '가져오다', 'brush': '붓', 'brave': '용감한'}\n",
      "<class 'dict'>\n"
     ]
    }
   ],
   "source": [
    "#7장 : 문자 기준으로 데이터 묶기 : 딕셔너리 \n",
    "#사전처럼 단어와 의미 연결하기\n",
    "eng = {'break':'깨어지다', 'bring':'가져오다', 'brush':'붓','brave':'용감한'}\n",
    "print(eng)\n",
    "print(type(eng))"
   ]
  },
  {
   "cell_type": "code",
   "execution_count": 3,
   "metadata": {},
   "outputs": [
    {
     "name": "stdout",
     "output_type": "stream",
     "text": [
      "깨어지다\n",
      "붓\n",
      "용감한\n"
     ]
    }
   ],
   "source": [
    "eng = {'break':'깨어지다', 'bring':'가져오다', 'brush':'붓','brave':'용감한'}\n",
    "print(eng['break'])\n",
    "print(eng['brush'])\n",
    "print(eng['brave'])"
   ]
  },
  {
   "cell_type": "code",
   "execution_count": 4,
   "metadata": {},
   "outputs": [
    {
     "name": "stdout",
     "output_type": "stream",
     "text": [
      "['깨어지다', '부서지다']\n"
     ]
    }
   ],
   "source": [
    "eng = {'break':['깨어지다','부서지다'], 'bring':'가져오다', 'brush':['붓','빗'],'brave':'용감한'}\n",
    "print(eng['break'])\n"
   ]
  },
  {
   "cell_type": "code",
   "execution_count": 5,
   "metadata": {},
   "outputs": [
    {
     "name": "stdout",
     "output_type": "stream",
     "text": [
      "2500 원 입니다.\n"
     ]
    }
   ],
   "source": [
    "menu = {'김밥':2500, \"참치김밥\":3500, \"라면\":3000, \"치즈라면\":4000}\n",
    "eat = input('어떤 메뉴를 드시겠습니까? ')\n",
    "print(menu[eat], '원 입니다.')"
   ]
  },
  {
   "cell_type": "code",
   "execution_count": 2,
   "metadata": {},
   "outputs": [
    {
     "name": "stdout",
     "output_type": "stream",
     "text": [
      "{'김밥': 2500, '참치김밥': 3000, '라면': 3000, '치즈라면': 4000}\n"
     ]
    }
   ],
   "source": [
    "#값 변경하기\n",
    "menu = {'김밥':2500, '참치김밥':3500, '라면':3000, '치즈라면':4000}\n",
    "menu['참치김밥'] = 3000\n",
    "print(menu)"
   ]
  },
  {
   "cell_type": "code",
   "execution_count": 2,
   "metadata": {},
   "outputs": [
    {
     "name": "stdout",
     "output_type": "stream",
     "text": [
      "{'김밥': 3000, '참치김밥': 3500, '라면': 3000, '치즈라면': 4000}\n",
      "{'김밥': 3000, '참치김밥': 2700, '라면': 3000, '치즈라면': 4000}\n"
     ]
    }
   ],
   "source": [
    "menu = {'김밥':2500, '참치김밥':3500, '라면':3000, '치즈라면':4000}\n",
    "menu['김밥'] += 500\n",
    "print(menu)\n",
    "menu['참치김밥'] -= 800\n",
    "print(menu)"
   ]
  },
  {
   "cell_type": "code",
   "execution_count": 4,
   "metadata": {},
   "outputs": [
    {
     "name": "stdout",
     "output_type": "stream",
     "text": [
      "{'김밥': 2500, '참치김밥': 3500, '라면': 3000, '치즈라면': 4000, '돈까스': 6000}\n"
     ]
    }
   ],
   "source": [
    "#키 값 추가하기\n",
    "menu = {'김밥':2500,'참치김밥':3500,'라면':3000,'치즈라면':4000}\n",
    "menu['돈까스']=6000\n",
    "print(menu)"
   ]
  },
  {
   "cell_type": "code",
   "execution_count": 1,
   "metadata": {},
   "outputs": [
    {
     "name": "stdout",
     "output_type": "stream",
     "text": [
      "{}\n",
      "{'강아지': 'dog'}\n",
      "{'강아지': 'dog', '고양이': 'cat'}\n"
     ]
    }
   ],
   "source": [
    "eng = {}\n",
    "print(eng)\n",
    "eng['강아지'] = 'dog'\n",
    "print(eng)\n",
    "eng['고양이'] = 'cat'\n",
    "print(eng)\n"
   ]
  },
  {
   "cell_type": "code",
   "execution_count": 2,
   "metadata": {},
   "outputs": [
    {
     "name": "stdout",
     "output_type": "stream",
     "text": [
      "{'김밥': 2500, '참치김밥': 3500, '라면': 3000, '치즈라면': 4000, '감자튀김': 1000}\n"
     ]
    }
   ],
   "source": [
    "menu  = {'김밥':2500,'참치김밥':3500,'라면':3000,'치즈라면':4000}\n",
    "name = input('추가할 메뉴는? ')\n",
    "price = int(input('메뉴의 가격은? '))\n",
    "menu[name] = price\n",
    "print(menu)"
   ]
  },
  {
   "cell_type": "code",
   "execution_count": 3,
   "metadata": {},
   "outputs": [
    {
     "name": "stdout",
     "output_type": "stream",
     "text": [
      "{'김밥': 2500, '참치김밥': 3500, '라면': 3000, '치즈라면': 4000}\n"
     ]
    }
   ],
   "source": [
    "menu = {'김밥':2500,'참치김밥':3500,'라면':3000,'치즈라면':4000, '감자튀김':1000}\n",
    "del menu['감자튀김']\n",
    "print(menu)"
   ]
  },
  {
   "cell_type": "code",
   "execution_count": 4,
   "metadata": {},
   "outputs": [
    {
     "name": "stdout",
     "output_type": "stream",
     "text": [
      "dict_keys(['과자', '아이스크림', '휴지', '고기', '우유'])\n"
     ]
    }
   ],
   "source": [
    "#딕셔너리의 키만 꺼내기\n",
    "mart = {'과자':1500, '아이스크림':1700, '휴지':4800, '고기':15000, '우유':2600}\n",
    "print(mart.keys())"
   ]
  },
  {
   "cell_type": "code",
   "execution_count": 6,
   "metadata": {},
   "outputs": [
    {
     "name": "stdout",
     "output_type": "stream",
     "text": [
      "dict_values([1500, 1700, 4800, 15000, 2600])\n"
     ]
    }
   ],
   "source": [
    "#딕셔너리의 값만 꺼내기\n",
    "mart = {'과자':1500, '아이스크림':1700, '휴지':4800, '고기':15000, '우유':2600}\n",
    "print(mart.values())"
   ]
  },
  {
   "cell_type": "code",
   "execution_count": 9,
   "metadata": {},
   "outputs": [
    {
     "name": "stdout",
     "output_type": "stream",
     "text": [
      "['과자', '아이스크림', '휴지', '고기', '우유']\n",
      "[1500, 1700, 4800, 15000, 2600]\n"
     ]
    }
   ],
   "source": [
    "#추출한 결과를 리스트로 바꾸기\n",
    "mart = {'과자':1500, '아이스크림':1700, '휴지':4800, '고기':15000, '우유':2600}\n",
    "print(list(mart.keys()))\n",
    "print(list(mart.values()))"
   ]
  },
  {
   "cell_type": "code",
   "execution_count": 2,
   "metadata": {},
   "outputs": [
    {
     "name": "stdout",
     "output_type": "stream",
     "text": [
      "dict_items([('과자', 1500), ('아이스크림', 1700), ('휴지', 4800), ('고기', 15000), ('우유', 2600)])\n"
     ]
    }
   ],
   "source": [
    "#딕셔너리의 키-값 꺼내기\n",
    "mart = {'과자':1500, '아이스크림':1700, '휴지':4800, '고기':15000, '우유':2600}\n",
    "print(mart.items())"
   ]
  },
  {
   "cell_type": "code",
   "execution_count": 29,
   "metadata": {},
   "outputs": [
    {
     "name": "stdout",
     "output_type": "stream",
     "text": [
      "['고기', '과자', '아이스크림', '우유', '휴지']\n",
      "['휴지', '우유', '아이스크림', '과자', '고기']\n",
      "[1500, 1700, 2600, 4800, 15000]\n",
      "[15000, 4800, 2600, 1700, 1500]\n",
      "[1500, 1700]\n"
     ]
    }
   ],
   "source": [
    "#딕셔너리 정렬하기\n",
    "#오름차순 정렬\n",
    "mart = {'과자':1500, '아이스크림':1700, '휴지':4800, '고기':15000, '우유':2600}\n",
    "print(sorted(mart.keys()))\n",
    "#내림차순 정렬\n",
    "mart = {'과자':1500, '아이스크림':1700, '휴지':4800, '고기':15000, '우유':2600}\n",
    "print(sorted(mart.keys(), reverse = True))\n",
    "#값만으로 정렬하기 - 오름차순\n",
    "mart = {'과자':1500, '아이스크림':1700, '휴지':4800, '고기':15000, '우유':2600}\n",
    "print(sorted(mart.values()))\n",
    "#값만으로 정렬하기 - 내림차순\n",
    "mart = {'과자':1500, '아이스크림':1700, '휴지':4800, '고기':15000, '우유':2600}\n",
    "print(sorted(mart.values(), reverse = True))\n",
    "#값 추출\n",
    "mart = {'과자':1500, '아이스크림':1700, '휴지':4800, '고기':15000, '우유':2600}\n",
    "print(sorted(mart.values())[:2])"
   ]
  },
  {
   "cell_type": "code",
   "execution_count": 24,
   "metadata": {},
   "outputs": [
    {
     "name": "stdout",
     "output_type": "stream",
     "text": [
      "[('고기', 15000), ('과자', 1500), ('아이스크림', 1700), ('우유', 2600), ('휴지', 4800)]\n"
     ]
    }
   ],
   "source": [
    "#딕셔너리 키와 값을 한 쌍으로 묶어서 정렬하기\n",
    "mart = {'과자':1500, '아이스크림':1700, '휴지':4800, '고기':15000, '우유':2600}\n",
    "print(sorted(mart.items()))"
   ]
  },
  {
   "cell_type": "code",
   "execution_count": 26,
   "metadata": {},
   "outputs": [
    {
     "name": "stdout",
     "output_type": "stream",
     "text": [
      "[('휴지', 4800), ('우유', 2600), ('아이스크림', 1700), ('과자', 1500), ('고기', 15000)]\n"
     ]
    }
   ],
   "source": [
    "mart = {'과자':1500, '아이스크림':1700, '휴지':4800, '고기':15000, '우유':2600}\n",
    "print(sorted(mart.items(), reverse = True))"
   ]
  },
  {
   "cell_type": "code",
   "execution_count": 33,
   "metadata": {},
   "outputs": [
    {
     "name": "stdout",
     "output_type": "stream",
     "text": [
      "[('고기', 10500), ('과자', 1500), ('아이스크림', 1700), ('우유', 2600), ('휴지', 4800)]\n"
     ]
    }
   ],
   "source": [
    "#operator(0) - 키를 기준으로, operator(1) - 값을 기준으로 \n",
    "import operator\n",
    "\n",
    "mart = {'과자':1500, '아이스크림':1700, '휴지':4800, '고기':10500, '우유':2600}\n",
    "print(sorted(mart.items(), key = operator.itemgetter(0)))"
   ]
  },
  {
   "cell_type": "code",
   "execution_count": 34,
   "metadata": {},
   "outputs": [
    {
     "name": "stdout",
     "output_type": "stream",
     "text": [
      "[('과자', 1500), ('아이스크림', 1700), ('우유', 2600), ('휴지', 4800), ('고기', 10500)]\n"
     ]
    }
   ],
   "source": [
    "import operator\n",
    "\n",
    "mart = {'과자':1500, '아이스크림':1700, '휴지':4800, '고기':10500, '우유':2600}\n",
    "print(sorted(mart.items(), key = operator.itemgetter(1)))"
   ]
  },
  {
   "cell_type": "code",
   "execution_count": 35,
   "metadata": {},
   "outputs": [
    {
     "name": "stdout",
     "output_type": "stream",
     "text": [
      "[('과자', 1500), ('아이스크림', 1700)]\n"
     ]
    }
   ],
   "source": [
    "import operator \n",
    "\n",
    "mart = {'과자':1500, '아이스크림':1700, '휴지':4800, '고기':10500, '우유':2600}\n",
    "print(sorted(mart.items(), key = operator.itemgetter(1))[:2])"
   ]
  },
  {
   "cell_type": "code",
   "execution_count": 36,
   "metadata": {},
   "outputs": [
    {
     "name": "stdout",
     "output_type": "stream",
     "text": [
      "{'과자': 1500, '아이스크림': 1700, '휴지': 4800, '고기': 10500, '우유': 2600}\n"
     ]
    }
   ],
   "source": [
    "mart = {'과자':1500, '아이스크림':1700, '휴지':4800, '고기':10500, '우유':2600}\n",
    "sorted(mart.keys())\n",
    "print(mart)"
   ]
  },
  {
   "cell_type": "code",
   "execution_count": 37,
   "metadata": {},
   "outputs": [
    {
     "name": "stdout",
     "output_type": "stream",
     "text": [
      "['고기', '과자', '아이스크림', '우유', '휴지']\n"
     ]
    }
   ],
   "source": [
    "mart = {'과자':1500, '아이스크림':1700, '휴지':4800, '고기':10500, '우유':2600}\n",
    "mart = sorted(mart.keys())\n",
    "print(mart)"
   ]
  },
  {
   "cell_type": "code",
   "execution_count": 39,
   "metadata": {},
   "outputs": [
    {
     "name": "stdout",
     "output_type": "stream",
     "text": [
      "{'고기': 10500, '과자': 1500, '아이스크림': 1700, '우유': 2600, '휴지': 4800}\n"
     ]
    }
   ],
   "source": [
    "mart = {'과자':1500, '아이스크림':1700, '휴지':4800, '고기':10500, '우유':2600}\n",
    "mart = dict(sorted(mart.items()))\n",
    "print(mart)"
   ]
  },
  {
   "cell_type": "markdown",
   "metadata": {},
   "source": [
    "# 7.2 제어구조로 딕셔너리 다루기\n",
    "## 조건문으로 딕셔너리 다루기"
   ]
  },
  {
   "cell_type": "code",
   "execution_count": 42,
   "metadata": {},
   "outputs": [
    {
     "name": "stdout",
     "output_type": "stream",
     "text": [
      "해당 학생이 없습니다.\n"
     ]
    }
   ],
   "source": [
    "midterm = {'도윤':43, '하윤':82, '시우':76, '지유':61, '주원':94}\n",
    "student = input('어떤 학생의 점수가 궁금하신가요? ')\n",
    "if student in midterm.keys():\n",
    "    print(midterm[student], '점입니다.')\n",
    "else:\n",
    "    print('해당 학생이 없습니다.')"
   ]
  },
  {
   "cell_type": "code",
   "execution_count": 43,
   "metadata": {},
   "outputs": [
    {
     "name": "stdout",
     "output_type": "stream",
     "text": [
      "도윤 하윤 시우 지유 주원 "
     ]
    }
   ],
   "source": [
    "#반복문으로 딕셔너리 다루기\n",
    "midterm = {'도윤': 43, '하윤':82, '시우':76, '지유':61, '주원':94}\n",
    "for k in midterm.keys():\n",
    "    print(k, end=' ')"
   ]
  },
  {
   "cell_type": "code",
   "execution_count": 44,
   "metadata": {},
   "outputs": [
    {
     "name": "stdout",
     "output_type": "stream",
     "text": [
      "43 82 76 61 94 "
     ]
    }
   ],
   "source": [
    "midterm = {'도윤':43, '하윤':82, '시우':76, '지유':61, '주원':94}\n",
    "for v in midterm.values():\n",
    "    print(v, end = ' ')"
   ]
  },
  {
   "cell_type": "code",
   "execution_count": 45,
   "metadata": {},
   "outputs": [
    {
     "name": "stdout",
     "output_type": "stream",
     "text": [
      "도윤 43 하윤 82 시우 76 지유 61 주원 94 "
     ]
    }
   ],
   "source": [
    "midterm = {'도윤':43, '하윤':82, '시우':76, '지유':61, '주원':94}\n",
    "for k in midterm.keys():\n",
    "    print(k, midterm[k], end=' ')"
   ]
  },
  {
   "cell_type": "code",
   "execution_count": 46,
   "metadata": {},
   "outputs": [
    {
     "name": "stdout",
     "output_type": "stream",
     "text": [
      "('도윤', 43) ('하윤', 82) ('시우', 76) ('지유', 61) ('주원', 94) "
     ]
    }
   ],
   "source": [
    "midterm = {'도윤':43, '하윤':82, '시우':76, '지유':61, '주원':94}\n",
    "for i in midterm.items():\n",
    "    print(i, end=' ')"
   ]
  },
  {
   "cell_type": "code",
   "execution_count": 47,
   "metadata": {},
   "outputs": [
    {
     "name": "stdout",
     "output_type": "stream",
     "text": [
      "도윤 43 하윤 82 시우 76 지유 61 주원 94 "
     ]
    }
   ],
   "source": [
    "midterm = {'도윤':43, '하윤':82, '시우':76, '지유':61, '주원':94}\n",
    "for k,v in midterm.items():\n",
    "    print(k, v, end=' ')"
   ]
  },
  {
   "cell_type": "code",
   "execution_count": 48,
   "metadata": {},
   "outputs": [
    {
     "name": "stdout",
     "output_type": "stream",
     "text": [
      "점수가 70점 이상인 학생의 이름과 점수를 모두 출력합니다.\n",
      "하윤 82 시우 76 주원 94 "
     ]
    }
   ],
   "source": [
    "#중첩 제어구조로 딕셔너리 만들기\n",
    "midterm = {'도윤':43, '하윤':82, '시우':76, '지유':61, '주원':94}\n",
    "print('점수가 70점 이상인 학생의 이름과 점수를 모두 출력합니다.')\n",
    "for k, v in midterm.items():\n",
    "    if v > 70:\n",
    "        print(k,v,end=' ')"
   ]
  },
  {
   "cell_type": "code",
   "execution_count": 49,
   "metadata": {},
   "outputs": [
    {
     "name": "stdout",
     "output_type": "stream",
     "text": [
      "도윤 하윤 시우 지유 주원 "
     ]
    }
   ],
   "source": [
    "midterm = {'도윤':43, '하윤':82, '시우':76, '지유':61, '주원':94}\n",
    "for m in midterm:\n",
    "    print(m, end= ' ')"
   ]
  },
  {
   "cell_type": "code",
   "execution_count": 19,
   "metadata": {},
   "outputs": [
    {
     "name": "stdout",
     "output_type": "stream",
     "text": [
      "{'in': 15, 'a': 24, 'town': 1, 'of': 33, 'persia': 1, 'lived': 2, 'two': 3, 'brothers': 1, ',': 103, 'sons': 1, 'poor': 3, 'man': 3, 'one': 6, 'named': 1, 'cassim': 6, 'the': 78, 'other': 2, 'alibaba': 17, '.': 41, 'elder': 1, 'married': 1, 'wife': 3, 'with': 9, 'considerable': 1, 'fortune': 1, 'and': 37, 'at': 7, 'his': 22, 'ease': 1, 'but': 1, 'was': 10, 'as': 10, 'himself': 4, 'they': 2, 'dwelt': 2, 'mean': 1, 'cottage': 1, 'suburbs': 1, 'he': 22, 'maintained': 1, 'family': 1, 'by': 1, 'cutting': 1, 'wood': 2, 'forest': 2, 'preparing': 1, 'to': 34, 'load': 1, 'asses': 3, 'faggots': 1, 'had': 3, 'cut': 2, 'when': 3, 'saw': 1, 'troop': 3, 'horsemen': 1, 'approaching': 3, 'hastily': 2, 'climbed': 1, 'large': 3, 'thick': 1, 'tree': 1, 'hid': 2, 'among': 1, 'branches': 1, 'counted': 1, 'forty': 1, 'them': 3, 'each': 2, 'took': 6, 'loaded': 2, 'portmanteau': 1, 'from': 3, 'horse': 1, 'turning': 1, 'rock': 3, 'said': 6, 'open': 5, 'sesame': 4, 'immediately': 2, 'door': 8, 'opened': 2, 'robbers': 4, 'passed': 1, 'shut': 2, 'itself': 1, 'short': 1, 'time': 2, 'again': 1, 'came': 1, 'out': 6, 'who': 4, 'instantly': 2, 'closed': 1, 'ventured': 1, 'down': 1, 'flew': 1, 'brought': 3, 'many': 2, 'bags': 1, 'gold': 4, 'coin': 1, 'could': 1, 'carry': 1, 'told': 2, 'brother': 4, 'secret': 3, 'cave': 4, 'rose': 1, 'early': 3, 'next': 3, 'morning': 3, 'set': 2, 'ten': 1, 'mules': 3, 'great': 3, 'chests': 1, 'found': 4, 'having': 2, 'gained': 1, 'admission': 1, 'where': 4, 'more': 1, 'treasures': 1, 'than': 2, 'expected': 1, 'which': 5, 'made': 2, 'him': 8, 'forget': 1, 'word': 1, 'that': 2, 'caused': 1, 'presently': 1, 'heard': 1, 'sound': 1, 'horses': 1, 'feet': 1, 'concluded': 1, 'be': 3, 'put': 6, 'death': 3, 'drove': 1, 'on': 2, 'entering': 1, 'body': 3, 'into': 9, 'quarters': 2, 'upon': 1, 'delivered': 1, 'morgiana': 5, 'female': 1, 'slave': 1, 'house': 5, 'sent': 2, 'cobbler': 2, 'gave': 2, 'pieces': 3, 'go': 1, 'her': 10, 'blindfolded': 3, 'taking': 1, 'room': 1, 'lying': 1, 'bade': 1, 'sew': 1, 'mangled': 1, 'limbs': 1, 'together': 1, 'mustapha': 1, 'obeyed': 1, 'received': 1, 'led': 1, 'same': 1, 'way': 2, 'back': 2, 'buried': 2, 'all': 2, 'due': 1, 'solemnity': 1, 'removed': 2, 'deceased': 1, 'possession': 2, 'captain': 5, 'resolved': 1, 'find': 1, 'possessed': 1, 'entrance': 1, 'disguising': 1, 'went': 5, 'city': 2, 'accosting': 1, 'job': 1, 'for': 3, 'six': 1, 'allowed': 1, 'traced': 1, 'robber': 3, 'marked': 1, 'chalk': 1, 'buying': 1, 'nineteen': 1, 'thirty-nine': 2, 'jars': 2, 'full': 2, 'oil': 8, 'rest': 2, 'empty': 1, 'jar': 3, 'properly': 1, 'armed': 1, 'then': 1, 'proceeded': 1, 'street': 1, 'sir': 1, 'i': 3, 'have': 1, 'this': 1, 'sell': 1, 'am': 1, 'quite': 1, 'stranger': 1, 'will': 1, 'you': 1, 'let': 1, 'me': 2, 'my': 1, 'your': 1, 'courtyard': 1, 'direct': 1, 'may': 1, 'lodge': 1, 'to-night': 1, '?': 2, 'welcomed': 1, 'pretended': 3, 'merchant': 2, 'offered': 2, 'bed': 1, 'own': 1, 'invited': 2, 'guest': 2, 'supper': 2, 'sitting': 1, 'up': 1, 'later': 1, 'night': 2, 'usual': 1, 'lamp': 1, 'she': 12, 'pot': 1, 'hand': 1, 'first': 3, 'within': 2, 'is': 1, 'it': 6, 'replied': 1, 'no': 1, 'not': 1, 'yet': 1, 'so': 1, 'ran': 2, 'kitchen': 2, 'kettle': 1, 'filled': 1, 'fire': 1, 'soon': 3, 'boiled': 2, 'poured': 1, 'sufficient': 1, 'boiling': 1, 'kill': 1, 'every': 3, 'arose': 1, 'assemble': 1, 'men': 1, 'coming': 2, 'felt': 1, 'steam': 1, '!': 1, 'rage': 1, 'forced': 1, 'lock': 1, 'escape': 1, 'over': 1, 'walls': 1, 'without': 1, 'letting': 1, 'any': 1, 'thieves': 1, 'bottom': 1, 'garden': 1, 'length': 1, 'however': 1, 'determined': 1, 'adopt': 1, 'new': 1, 'scheme': 1, 'destruction': 1, 'valuable': 1, 'merchandise': 1, 'shop': 2, 'exactly': 1, 'opposite': 2, 'son': 3, 'day': 1, 'cogia': 5, 'hassan': 5, 'appeared': 2, 'very': 1, 'fond': 1, 'presents': 1, 'often': 1, 'detained': 1, 'dinner': 1, 'thought': 1, 'necessary': 1, 'make': 1, 'some': 2, 'return': 1, 'these': 1, 'civilities': 1, 'carried': 1, 'dish': 1, 'herself': 3, 'moment': 1, 'looked': 1, 'knew': 1, 'slaves': 1, 'waited': 1, 'table': 1, 'while': 1, 'drinking': 1, 'perceived': 1, 'dagger': 2, 'under': 1, 'coat': 1, 'away': 1, 'dressed': 1, 'habit': 1, 'dancing-girl': 1, 'parlor': 1, 'master': 1, 'ordered': 1, 'come': 1, 'entertain': 1, 'best': 1, 'dancing': 1, 'danced': 1, 'several': 1, 'times': 1, 'before': 1, 'assembled': 1, 'company': 1, 'until': 1, 'drew': 1, 'girdle': 1, 'plunged': 1, 'heart': 1, 'reward': 1, 'faithfulness': 1, 'marriage': 1, 'immense': 1, 'wealth': 1}\n"
     ]
    }
   ],
   "source": [
    "#딕셔너리로 간단한 프로그램 만들기\n",
    "alibaba =\"in a town of persia lived two brothers , sons of a poor man , one named cassim , the other alibaba . cassim , the elder , married a wife with a considerable fortune , and lived at his ease , but the wife of alibaba was as poor as himself . they dwelt in a mean cottage in the suburbs , and he maintained his family by cutting wood . alibaba was in the forest preparing to load his asses with the faggots he had cut , when he saw a troop of horsemen approaching . he hastily climbed a large thick tree , and hid himself among the branches . alibaba counted forty of them , each took a loaded portmanteau from his horse , and turning to the rock , said , open , sesame immediately a door opened , the robbers passed in , when the door shut of itself . in a short time the door opened again , and the robbers came out , who said , shut , sesame . the door instantly closed . alibaba ventured down , and approaching the rock , said , open , sesame . immediately the door flew open . he brought his asses , and took as many bags of gold coin as they could carry . alibaba told his brother the secret of the cave . cassim rose early next morning , and set out with ten mules loaded with great chests . he found the rock , and having said , open sesame , gained admission , where he found more treasures than he expected , which made him forget the word that caused the door to open . presently he heard the sound of horses feet , which he concluded to be the robbers , who instantly put him to death . alibaba drove to the forest , and on entering the cave , he found the body of his brother cut into quarters . he took the quarters , and put them upon one of his asses , and delivered the body to cassim wife . morgiana , a female slave in his brother house , was sent early next morning to a poor cobbler , and gave him two pieces of gold to go with her blindfolded , taking him into the room where the body was lying , bade him sew the mangled limbs together . mustapha obeyed , having received two pieces of gold , and was led blindfolded the same way back . cassim was buried with all due solemnity , and alibaba removed to the house of his deceased brother , of which he took possession . the captain of the troop resolved to find out who possessed the secret of entrance into his cave , and disguising himself , went to the city early one morning , when , accosting the cobbler , he was told of the job he had , who for six pieces of gold , allowed himself to be blindfolded , and traced out the house of cassim , which the robber marked with chalk . buying nineteen mules and thirty-nine large jars , one full of oil , and the rest empty , the captain put a man into each jar , properly armed , and then proceeded to the street where alibaba dwelt . sir , said he , i have brought this oil a great way to sell , as i am quite a stranger , will you let me put my mules into your courtyard , and direct me where i may lodge to-night ? alibaba welcomed the pretended oil merchant , offered him a bed in his own house , and invited his guest in to supper . morgiana , sitting up later that night than usual , her lamp went out . she took her oil pot in her hand , and approaching the first jar , the robber within said is it time , captain ? she replied , no , not yet . so she ran back to the kitchen , and brought out a large kettle , which she filled with oil , set it on a great wood fire , and as soon as it boiled , she went and poured into the jars sufficient of the boiling oil to kill every man within . the captain of the robbers arose to assemble his men . coming to the first jar , he felt the steam of the boiled oil ! he ran hastily to the rest , and found every one of his troop put to death . full of rage , he forced the lock of the door , and made his escape over the walls . without letting any one into the secret , alibaba and morgiana the next night buried the thirty-nine thieves at the bottom of the garden . the captain at length , however , determined to adopt a new scheme for the destruction of alibaba . he removed all the valuable merchandise from the cave to the city , and took a shop exactly opposite to alibaba house . alibaba son went every day to his shop . the pretended cogia hassan soon appeared to be very fond of alibaba son , offered him many presents , and often detained him to dinner . alibaba thought it was necessary to make some return to these civilities , and he invited cogia hassan to supper , morgiana carried in the first dish herself . the moment she looked at cogia hassan , she knew it was the pretended oil merchant . she sent the other slaves into the kitchen , and waited at table herself , and while cogia hassan was drinking , she perceived he had a dagger hid under his coat . she went away , and dressed herself in the habit of a dancing-girl . as soon as she appeared at the parlor door , her master ordered her to come in to entertain his guest with some of her best dancing . morgiana danced several times before the assembled company , until , coming opposite cogia hassan , she drew a dagger from her girdle and plunged it into the robber heart . as a reward for her faithfulness , alibaba gave her in marriage to his son , and at his death put them in possession of his immense wealth .\"\n",
    "vocab = {}\n",
    "word_list = alibaba.split()\n",
    "for w in word_list:\n",
    "    if w not in vocab:   # 단어가 vocab 딕셔너리의 키에 없으면\n",
    "        vocab[w] = 1     # 새로운 요소 추가\n",
    "    else:                # 단어가 vocab 딕셔너리의 키에 있으면\n",
    "        vocab[w] += 1    # vocab[w]의 값 1 증가 \n",
    "print(vocab)"
   ]
  },
  {
   "cell_type": "code",
   "execution_count": 20,
   "metadata": {},
   "outputs": [
    {
     "name": "stdout",
     "output_type": "stream",
     "text": [
      "[(',', 103), ('the', 78), ('.', 41), ('and', 37), ('to', 34), ('of', 33), ('a', 24), ('his', 22), ('he', 22), ('alibaba', 17), ('in', 15), ('she', 12), ('was', 10), ('as', 10), ('her', 10), ('with', 9), ('into', 9), ('door', 8), ('him', 8), ('oil', 8), ('at', 7), ('one', 6), ('cassim', 6), ('took', 6), ('said', 6), ('out', 6), ('put', 6), ('it', 6), ('open', 5), ('which', 5), ('morgiana', 5), ('house', 5), ('captain', 5), ('went', 5), ('cogia', 5), ('hassan', 5), ('himself', 4), ('sesame', 4), ('robbers', 4), ('who', 4), ('gold', 4), ('brother', 4), ('cave', 4), ('found', 4), ('where', 4), ('two', 3), ('poor', 3), ('man', 3), ('wife', 3), ('asses', 3), ('had', 3), ('when', 3), ('troop', 3), ('approaching', 3), ('large', 3), ('them', 3), ('from', 3), ('rock', 3), ('brought', 3), ('secret', 3), ('early', 3), ('next', 3), ('morning', 3), ('mules', 3), ('great', 3), ('be', 3), ('death', 3), ('body', 3), ('pieces', 3), ('blindfolded', 3), ('for', 3), ('robber', 3), ('jar', 3), ('i', 3), ('pretended', 3), ('first', 3), ('soon', 3), ('every', 3), ('son', 3), ('herself', 3), ('lived', 2), ('other', 2), ('they', 2), ('dwelt', 2), ('wood', 2), ('forest', 2), ('cut', 2), ('hastily', 2), ('hid', 2), ('each', 2), ('loaded', 2), ('immediately', 2), ('opened', 2), ('shut', 2), ('time', 2), ('instantly', 2), ('many', 2), ('told', 2), ('set', 2), ('having', 2), ('than', 2), ('made', 2), ('that', 2), ('on', 2), ('quarters', 2), ('sent', 2), ('cobbler', 2), ('gave', 2), ('way', 2), ('back', 2), ('buried', 2), ('all', 2), ('removed', 2), ('possession', 2), ('city', 2), ('thirty-nine', 2), ('jars', 2), ('full', 2), ('rest', 2), ('me', 2), ('?', 2), ('merchant', 2), ('offered', 2), ('invited', 2), ('guest', 2), ('supper', 2), ('night', 2), ('within', 2), ('ran', 2), ('kitchen', 2), ('boiled', 2), ('coming', 2), ('shop', 2), ('opposite', 2), ('appeared', 2), ('some', 2), ('dagger', 2), ('town', 1), ('persia', 1), ('brothers', 1), ('sons', 1), ('named', 1), ('elder', 1), ('married', 1), ('considerable', 1), ('fortune', 1), ('ease', 1), ('but', 1), ('mean', 1), ('cottage', 1), ('suburbs', 1), ('maintained', 1), ('family', 1), ('by', 1), ('cutting', 1), ('preparing', 1), ('load', 1), ('faggots', 1), ('saw', 1), ('horsemen', 1), ('climbed', 1), ('thick', 1), ('tree', 1), ('among', 1), ('branches', 1), ('counted', 1), ('forty', 1), ('portmanteau', 1), ('horse', 1), ('turning', 1), ('passed', 1), ('itself', 1), ('short', 1), ('again', 1), ('came', 1), ('closed', 1), ('ventured', 1), ('down', 1), ('flew', 1), ('bags', 1), ('coin', 1), ('could', 1), ('carry', 1), ('rose', 1), ('ten', 1), ('chests', 1), ('gained', 1), ('admission', 1), ('more', 1), ('treasures', 1), ('expected', 1), ('forget', 1), ('word', 1), ('caused', 1), ('presently', 1), ('heard', 1), ('sound', 1), ('horses', 1), ('feet', 1), ('concluded', 1), ('drove', 1), ('entering', 1), ('upon', 1), ('delivered', 1), ('female', 1), ('slave', 1), ('go', 1), ('taking', 1), ('room', 1), ('lying', 1), ('bade', 1), ('sew', 1), ('mangled', 1), ('limbs', 1), ('together', 1), ('mustapha', 1), ('obeyed', 1), ('received', 1), ('led', 1), ('same', 1), ('due', 1), ('solemnity', 1), ('deceased', 1), ('resolved', 1), ('find', 1), ('possessed', 1), ('entrance', 1), ('disguising', 1), ('accosting', 1), ('job', 1), ('six', 1), ('allowed', 1), ('traced', 1), ('marked', 1), ('chalk', 1), ('buying', 1), ('nineteen', 1), ('empty', 1), ('properly', 1), ('armed', 1), ('then', 1), ('proceeded', 1), ('street', 1), ('sir', 1), ('have', 1), ('this', 1), ('sell', 1), ('am', 1), ('quite', 1), ('stranger', 1), ('will', 1), ('you', 1), ('let', 1), ('my', 1), ('your', 1), ('courtyard', 1), ('direct', 1), ('may', 1), ('lodge', 1), ('to-night', 1), ('welcomed', 1), ('bed', 1), ('own', 1), ('sitting', 1), ('up', 1), ('later', 1), ('usual', 1), ('lamp', 1), ('pot', 1), ('hand', 1), ('is', 1), ('replied', 1), ('no', 1), ('not', 1), ('yet', 1), ('so', 1), ('kettle', 1), ('filled', 1), ('fire', 1), ('poured', 1), ('sufficient', 1), ('boiling', 1), ('kill', 1), ('arose', 1), ('assemble', 1), ('men', 1), ('felt', 1), ('steam', 1), ('!', 1), ('rage', 1), ('forced', 1), ('lock', 1), ('escape', 1), ('over', 1), ('walls', 1), ('without', 1), ('letting', 1), ('any', 1), ('thieves', 1), ('bottom', 1), ('garden', 1), ('length', 1), ('however', 1), ('determined', 1), ('adopt', 1), ('new', 1), ('scheme', 1), ('destruction', 1), ('valuable', 1), ('merchandise', 1), ('exactly', 1), ('day', 1), ('very', 1), ('fond', 1), ('presents', 1), ('often', 1), ('detained', 1), ('dinner', 1), ('thought', 1), ('necessary', 1), ('make', 1), ('return', 1), ('these', 1), ('civilities', 1), ('carried', 1), ('dish', 1), ('moment', 1), ('looked', 1), ('knew', 1), ('slaves', 1), ('waited', 1), ('table', 1), ('while', 1), ('drinking', 1), ('perceived', 1), ('under', 1), ('coat', 1), ('away', 1), ('dressed', 1), ('habit', 1), ('dancing-girl', 1), ('parlor', 1), ('master', 1), ('ordered', 1), ('come', 1), ('entertain', 1), ('best', 1), ('dancing', 1), ('danced', 1), ('several', 1), ('times', 1), ('before', 1), ('assembled', 1), ('company', 1), ('until', 1), ('drew', 1), ('girdle', 1), ('plunged', 1), ('heart', 1), ('reward', 1), ('faithfulness', 1), ('marriage', 1), ('immense', 1), ('wealth', 1)]\n"
     ]
    }
   ],
   "source": [
    "import operator\n",
    "print(sorted(vocab.items(), key = operator.itemgetter(1), reverse=True))"
   ]
  },
  {
   "cell_type": "code",
   "execution_count": 21,
   "metadata": {},
   "outputs": [],
   "source": [
    "#의미 없는 단어 제거하기\n",
    "meaningless = ['.', ',', '!', '?', 'the', 'he', 'and', 'to', 'a', 'of', 'was', 'in', 'had', 'for', 'it', 'that',\n",
    "               'but', 'as', 'with', 'at', 'i', 'into', 'be', 'this', 'me', 'from', 'then', 'him', 'his', 'her',\n",
    "               'she', 'they', 'them', 'you']\n",
    "for word in meaningless:\n",
    "    del vocab[word]"
   ]
  },
  {
   "cell_type": "code",
   "execution_count": 22,
   "metadata": {},
   "outputs": [
    {
     "name": "stdout",
     "output_type": "stream",
     "text": [
      "[('alibaba', 17), ('door', 8), ('oil', 8), ('one', 6), ('cassim', 6), ('took', 6), ('said', 6), ('out', 6), ('put', 6), ('open', 5), ('which', 5), ('morgiana', 5), ('house', 5), ('captain', 5), ('went', 5), ('cogia', 5), ('hassan', 5), ('himself', 4), ('sesame', 4), ('robbers', 4), ('who', 4), ('gold', 4), ('brother', 4), ('cave', 4), ('found', 4), ('where', 4), ('two', 3), ('poor', 3), ('man', 3), ('wife', 3), ('asses', 3), ('when', 3), ('troop', 3), ('approaching', 3), ('large', 3), ('rock', 3), ('brought', 3), ('secret', 3), ('early', 3), ('next', 3), ('morning', 3), ('mules', 3), ('great', 3), ('death', 3), ('body', 3), ('pieces', 3), ('blindfolded', 3), ('robber', 3), ('jar', 3), ('pretended', 3), ('first', 3), ('soon', 3), ('every', 3), ('son', 3), ('herself', 3), ('lived', 2), ('other', 2), ('dwelt', 2), ('wood', 2), ('forest', 2), ('cut', 2), ('hastily', 2), ('hid', 2), ('each', 2), ('loaded', 2), ('immediately', 2), ('opened', 2), ('shut', 2), ('time', 2), ('instantly', 2), ('many', 2), ('told', 2), ('set', 2), ('having', 2), ('than', 2), ('made', 2), ('on', 2), ('quarters', 2), ('sent', 2), ('cobbler', 2), ('gave', 2), ('way', 2), ('back', 2), ('buried', 2), ('all', 2), ('removed', 2), ('possession', 2), ('city', 2), ('thirty-nine', 2), ('jars', 2), ('full', 2), ('rest', 2), ('merchant', 2), ('offered', 2), ('invited', 2), ('guest', 2), ('supper', 2), ('night', 2), ('within', 2), ('ran', 2), ('kitchen', 2), ('boiled', 2), ('coming', 2), ('shop', 2), ('opposite', 2), ('appeared', 2), ('some', 2), ('dagger', 2), ('town', 1), ('persia', 1), ('brothers', 1), ('sons', 1), ('named', 1), ('elder', 1), ('married', 1), ('considerable', 1), ('fortune', 1), ('ease', 1), ('mean', 1), ('cottage', 1), ('suburbs', 1), ('maintained', 1), ('family', 1), ('by', 1), ('cutting', 1), ('preparing', 1), ('load', 1), ('faggots', 1), ('saw', 1), ('horsemen', 1), ('climbed', 1), ('thick', 1), ('tree', 1), ('among', 1), ('branches', 1), ('counted', 1), ('forty', 1), ('portmanteau', 1), ('horse', 1), ('turning', 1), ('passed', 1), ('itself', 1), ('short', 1), ('again', 1), ('came', 1), ('closed', 1), ('ventured', 1), ('down', 1), ('flew', 1), ('bags', 1), ('coin', 1), ('could', 1), ('carry', 1), ('rose', 1), ('ten', 1), ('chests', 1), ('gained', 1), ('admission', 1), ('more', 1), ('treasures', 1), ('expected', 1), ('forget', 1), ('word', 1), ('caused', 1), ('presently', 1), ('heard', 1), ('sound', 1), ('horses', 1), ('feet', 1), ('concluded', 1), ('drove', 1), ('entering', 1), ('upon', 1), ('delivered', 1), ('female', 1), ('slave', 1), ('go', 1), ('taking', 1), ('room', 1), ('lying', 1), ('bade', 1), ('sew', 1), ('mangled', 1), ('limbs', 1), ('together', 1), ('mustapha', 1), ('obeyed', 1), ('received', 1), ('led', 1), ('same', 1), ('due', 1), ('solemnity', 1), ('deceased', 1), ('resolved', 1), ('find', 1), ('possessed', 1), ('entrance', 1), ('disguising', 1), ('accosting', 1), ('job', 1), ('six', 1), ('allowed', 1), ('traced', 1), ('marked', 1), ('chalk', 1), ('buying', 1), ('nineteen', 1), ('empty', 1), ('properly', 1), ('armed', 1), ('proceeded', 1), ('street', 1), ('sir', 1), ('have', 1), ('sell', 1), ('am', 1), ('quite', 1), ('stranger', 1), ('will', 1), ('let', 1), ('my', 1), ('your', 1), ('courtyard', 1), ('direct', 1), ('may', 1), ('lodge', 1), ('to-night', 1), ('welcomed', 1), ('bed', 1), ('own', 1), ('sitting', 1), ('up', 1), ('later', 1), ('usual', 1), ('lamp', 1), ('pot', 1), ('hand', 1), ('is', 1), ('replied', 1), ('no', 1), ('not', 1), ('yet', 1), ('so', 1), ('kettle', 1), ('filled', 1), ('fire', 1), ('poured', 1), ('sufficient', 1), ('boiling', 1), ('kill', 1), ('arose', 1), ('assemble', 1), ('men', 1), ('felt', 1), ('steam', 1), ('rage', 1), ('forced', 1), ('lock', 1), ('escape', 1), ('over', 1), ('walls', 1), ('without', 1), ('letting', 1), ('any', 1), ('thieves', 1), ('bottom', 1), ('garden', 1), ('length', 1), ('however', 1), ('determined', 1), ('adopt', 1), ('new', 1), ('scheme', 1), ('destruction', 1), ('valuable', 1), ('merchandise', 1), ('exactly', 1), ('day', 1), ('very', 1), ('fond', 1), ('presents', 1), ('often', 1), ('detained', 1), ('dinner', 1), ('thought', 1), ('necessary', 1), ('make', 1), ('return', 1), ('these', 1), ('civilities', 1), ('carried', 1), ('dish', 1), ('moment', 1), ('looked', 1), ('knew', 1), ('slaves', 1), ('waited', 1), ('table', 1), ('while', 1), ('drinking', 1), ('perceived', 1), ('under', 1), ('coat', 1), ('away', 1), ('dressed', 1), ('habit', 1), ('dancing-girl', 1), ('parlor', 1), ('master', 1), ('ordered', 1), ('come', 1), ('entertain', 1), ('best', 1), ('dancing', 1), ('danced', 1), ('several', 1), ('times', 1), ('before', 1), ('assembled', 1), ('company', 1), ('until', 1), ('drew', 1), ('girdle', 1), ('plunged', 1), ('heart', 1), ('reward', 1), ('faithfulness', 1), ('marriage', 1), ('immense', 1), ('wealth', 1)]\n"
     ]
    }
   ],
   "source": [
    "#필요없는 단어를 제거 후 값을 기준으로 키-값 내림차순 정령\n",
    "import operator\n",
    "vocab_final = sorted(vocab.items(), key = operator.itemgetter(1), reverse=True)\n",
    "print(vocab_final)"
   ]
  },
  {
   "cell_type": "code",
   "execution_count": 23,
   "metadata": {},
   "outputs": [
    {
     "name": "stdout",
     "output_type": "stream",
     "text": [
      "alibaba door oil one cassim took said out put open which morgiana house captain went cogia hassan himself sesame robbers who gold brother cave found where two poor man wife asses when troop approaching large rock brought secret early next morning mules great death body pieces blindfolded robber jar pretended first soon every son herself lived other dwelt wood forest cut hastily hid each loaded immediately opened shut time instantly many told set having than made on quarters sent cobbler gave way back buried all removed possession city thirty-nine jars full rest merchant offered invited guest supper night within ran kitchen boiled coming shop opposite appeared some dagger town persia brothers sons named elder married considerable fortune ease mean cottage suburbs maintained family by cutting preparing load faggots saw horsemen climbed thick tree among branches counted forty portmanteau horse turning passed itself short again came closed ventured down flew bags coin could carry rose ten chests gained admission more treasures expected forget word caused presently heard sound horses feet concluded drove entering upon delivered female slave go taking room lying bade sew mangled limbs together mustapha obeyed received led same due solemnity deceased resolved find possessed entrance disguising accosting job six allowed traced marked chalk buying nineteen empty properly armed proceeded street sir have sell am quite stranger will let my your courtyard direct may lodge to-night welcomed bed own sitting up later usual lamp pot hand is replied no not yet so kettle filled fire poured sufficient boiling kill arose assemble men felt steam rage forced lock escape over walls without letting any thieves bottom garden length however determined adopt new scheme destruction valuable merchandise exactly day very fond presents often detained dinner thought necessary make return these civilities carried dish moment looked knew slaves waited table while drinking perceived under coat away dressed habit dancing-girl parlor master ordered come entertain best dancing danced several times before assembled company until drew girdle plunged heart reward faithfulness marriage immense wealth "
     ]
    }
   ],
   "source": [
    "#빈도수 없이 단어만 표시\n",
    "for k, v in vocab_final:\n",
    "    print(k, end = ' ')"
   ]
  },
  {
   "cell_type": "code",
   "execution_count": null,
   "metadata": {},
   "outputs": [],
   "source": []
  }
 ],
 "metadata": {
  "interpreter": {
   "hash": "aee8b7b246df8f9039afb4144a1f6fd8d2ca17a180786b69acc140d282b71a49"
  },
  "kernelspec": {
   "display_name": "Python 3.10.4 64-bit",
   "language": "python",
   "name": "python3"
  },
  "language_info": {
   "codemirror_mode": {
    "name": "ipython",
    "version": 3
   },
   "file_extension": ".py",
   "mimetype": "text/x-python",
   "name": "python",
   "nbconvert_exporter": "python",
   "pygments_lexer": "ipython3",
   "version": "3.10.4"
  },
  "orig_nbformat": 4
 },
 "nbformat": 4,
 "nbformat_minor": 2
}
